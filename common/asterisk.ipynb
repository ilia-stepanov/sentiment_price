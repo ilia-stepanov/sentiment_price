{
 "cells": [
  {
   "cell_type": "markdown",
   "metadata": {},
   "source": [
    "#### XGBoost"
   ]
  },
  {
   "cell_type": "markdown",
   "metadata": {},
   "source": [
    "#### TG"
   ]
  },
  {
   "cell_type": "code",
   "execution_count": 469,
   "metadata": {},
   "outputs": [
    {
     "data": {
      "text/html": [
       "<div>\n",
       "<style scoped>\n",
       "    .dataframe tbody tr th:only-of-type {\n",
       "        vertical-align: middle;\n",
       "    }\n",
       "\n",
       "    .dataframe tbody tr th {\n",
       "        vertical-align: top;\n",
       "    }\n",
       "\n",
       "    .dataframe thead th {\n",
       "        text-align: right;\n",
       "    }\n",
       "</style>\n",
       "<table border=\"1\" class=\"dataframe\">\n",
       "  <thead>\n",
       "    <tr style=\"text-align: right;\">\n",
       "      <th></th>\n",
       "      <th>counter</th>\n",
       "      <th>ticker</th>\n",
       "      <th>date</th>\n",
       "      <th>min_df</th>\n",
       "      <th>max_df</th>\n",
       "      <th>j_neut</th>\n",
       "      <th>j_pos</th>\n",
       "      <th>j_neg</th>\n",
       "      <th>ngram_range_max</th>\n",
       "      <th>learning_rate</th>\n",
       "      <th>...</th>\n",
       "      <th>const</th>\n",
       "      <th>close_lag_1_coef</th>\n",
       "      <th>sum_sentiment_0_coef</th>\n",
       "      <th>sum_sentiment_1_coef</th>\n",
       "      <th>const_p</th>\n",
       "      <th>close_lag_1_p</th>\n",
       "      <th>sum_sentiment_0_p</th>\n",
       "      <th>sum_sentiment_1_p</th>\n",
       "      <th>r2</th>\n",
       "      <th>nobs</th>\n",
       "    </tr>\n",
       "  </thead>\n",
       "  <tbody>\n",
       "    <tr>\n",
       "      <th>0</th>\n",
       "      <td>0</td>\n",
       "      <td>vtbr</td>\n",
       "      <td>1</td>\n",
       "      <td>5</td>\n",
       "      <td>1</td>\n",
       "      <td>0.2</td>\n",
       "      <td>2</td>\n",
       "      <td>2</td>\n",
       "      <td>(1, 1)</td>\n",
       "      <td>0.01</td>\n",
       "      <td>...</td>\n",
       "      <td>0.000605</td>\n",
       "      <td>0.983677</td>\n",
       "      <td>0.000056</td>\n",
       "      <td>0.000109</td>\n",
       "      <td>0.000857</td>\n",
       "      <td>0.0</td>\n",
       "      <td>0.409520</td>\n",
       "      <td>0.158648</td>\n",
       "      <td>0.982875</td>\n",
       "      <td>852</td>\n",
       "    </tr>\n",
       "    <tr>\n",
       "      <th>1</th>\n",
       "      <td>1</td>\n",
       "      <td>vtbr</td>\n",
       "      <td>1</td>\n",
       "      <td>10</td>\n",
       "      <td>1</td>\n",
       "      <td>0.2</td>\n",
       "      <td>2</td>\n",
       "      <td>2</td>\n",
       "      <td>(1, 1)</td>\n",
       "      <td>0.01</td>\n",
       "      <td>...</td>\n",
       "      <td>0.000606</td>\n",
       "      <td>0.983733</td>\n",
       "      <td>0.000080</td>\n",
       "      <td>0.000044</td>\n",
       "      <td>0.000835</td>\n",
       "      <td>0.0</td>\n",
       "      <td>0.254504</td>\n",
       "      <td>0.543997</td>\n",
       "      <td>0.982857</td>\n",
       "      <td>852</td>\n",
       "    </tr>\n",
       "    <tr>\n",
       "      <th>2</th>\n",
       "      <td>2</td>\n",
       "      <td>vtbr</td>\n",
       "      <td>1</td>\n",
       "      <td>16</td>\n",
       "      <td>1</td>\n",
       "      <td>0.2</td>\n",
       "      <td>2</td>\n",
       "      <td>2</td>\n",
       "      <td>(1, 1)</td>\n",
       "      <td>0.01</td>\n",
       "      <td>...</td>\n",
       "      <td>0.000608</td>\n",
       "      <td>0.983835</td>\n",
       "      <td>0.000070</td>\n",
       "      <td>0.000003</td>\n",
       "      <td>0.000809</td>\n",
       "      <td>0.0</td>\n",
       "      <td>0.292214</td>\n",
       "      <td>0.963394</td>\n",
       "      <td>0.982850</td>\n",
       "      <td>852</td>\n",
       "    </tr>\n",
       "    <tr>\n",
       "      <th>3</th>\n",
       "      <td>3</td>\n",
       "      <td>vtbr</td>\n",
       "      <td>1</td>\n",
       "      <td>27</td>\n",
       "      <td>1</td>\n",
       "      <td>0.2</td>\n",
       "      <td>2</td>\n",
       "      <td>2</td>\n",
       "      <td>(1, 1)</td>\n",
       "      <td>0.01</td>\n",
       "      <td>...</td>\n",
       "      <td>0.000603</td>\n",
       "      <td>0.983797</td>\n",
       "      <td>0.000046</td>\n",
       "      <td>0.000083</td>\n",
       "      <td>0.000895</td>\n",
       "      <td>0.0</td>\n",
       "      <td>0.483371</td>\n",
       "      <td>0.268884</td>\n",
       "      <td>0.982857</td>\n",
       "      <td>852</td>\n",
       "    </tr>\n",
       "    <tr>\n",
       "      <th>4</th>\n",
       "      <td>4</td>\n",
       "      <td>vtbr</td>\n",
       "      <td>1</td>\n",
       "      <td>38</td>\n",
       "      <td>1</td>\n",
       "      <td>0.2</td>\n",
       "      <td>2</td>\n",
       "      <td>2</td>\n",
       "      <td>(1, 1)</td>\n",
       "      <td>0.01</td>\n",
       "      <td>...</td>\n",
       "      <td>0.000609</td>\n",
       "      <td>0.983758</td>\n",
       "      <td>0.000072</td>\n",
       "      <td>0.000010</td>\n",
       "      <td>0.000792</td>\n",
       "      <td>0.0</td>\n",
       "      <td>0.268174</td>\n",
       "      <td>0.886352</td>\n",
       "      <td>0.982852</td>\n",
       "      <td>852</td>\n",
       "    </tr>\n",
       "  </tbody>\n",
       "</table>\n",
       "<p>5 rows × 41 columns</p>\n",
       "</div>"
      ],
      "text/plain": [
       "   counter ticker  date  min_df  max_df  j_neut  j_pos  j_neg ngram_range_max  \\\n",
       "0        0   vtbr     1       5       1     0.2      2      2          (1, 1)   \n",
       "1        1   vtbr     1      10       1     0.2      2      2          (1, 1)   \n",
       "2        2   vtbr     1      16       1     0.2      2      2          (1, 1)   \n",
       "3        3   vtbr     1      27       1     0.2      2      2          (1, 1)   \n",
       "4        4   vtbr     1      38       1     0.2      2      2          (1, 1)   \n",
       "\n",
       "   learning_rate  ...     const  close_lag_1_coef  sum_sentiment_0_coef  \\\n",
       "0           0.01  ...  0.000605          0.983677              0.000056   \n",
       "1           0.01  ...  0.000606          0.983733              0.000080   \n",
       "2           0.01  ...  0.000608          0.983835              0.000070   \n",
       "3           0.01  ...  0.000603          0.983797              0.000046   \n",
       "4           0.01  ...  0.000609          0.983758              0.000072   \n",
       "\n",
       "   sum_sentiment_1_coef   const_p  close_lag_1_p  sum_sentiment_0_p  \\\n",
       "0              0.000109  0.000857            0.0           0.409520   \n",
       "1              0.000044  0.000835            0.0           0.254504   \n",
       "2              0.000003  0.000809            0.0           0.292214   \n",
       "3              0.000083  0.000895            0.0           0.483371   \n",
       "4              0.000010  0.000792            0.0           0.268174   \n",
       "\n",
       "   sum_sentiment_1_p        r2  nobs  \n",
       "0           0.158648  0.982875   852  \n",
       "1           0.543997  0.982857   852  \n",
       "2           0.963394  0.982850   852  \n",
       "3           0.268884  0.982857   852  \n",
       "4           0.886352  0.982852   852  \n",
       "\n",
       "[5 rows x 41 columns]"
      ]
     },
     "execution_count": 469,
     "metadata": {},
     "output_type": "execute_result"
    }
   ],
   "source": [
    "import pandas as pd\n",
    "df = pd.read_excel(r'C:\\Users\\ВТБ\\Desktop\\Результаты\\tg\\Xg\\tg_xg_ing_final5.xlsx')\n",
    "df.head()"
   ]
  },
  {
   "cell_type": "code",
   "execution_count": 470,
   "metadata": {},
   "outputs": [
    {
     "data": {
      "text/plain": [
       "Index(['counter', 'ticker', 'date', 'min_df', 'max_df', 'j_neut', 'j_pos',\n",
       "       'j_neg', 'ngram_range_max', 'learning_rate', 'n_estimator', 'max_depth',\n",
       "       'subsample', 'train_size', 'test_size', 'obs', 'bh',\n",
       "       'original_return_isna_all', 'model_return_isna_all',\n",
       "       'model_return_isna_short', 'model_return_isna_long',\n",
       "       'model_diver_return_isna_all', 'model_diver_return_isna_short',\n",
       "       'model_diver_return_isna_long', 'train_accuracy',\n",
       "       'train_precision_macro', 'train_precision_micro', 'train_recall_micro',\n",
       "       'train_recall_macro', 'train_f1_micro', 'train_f1_macro', 'const',\n",
       "       'close_lag_1_coef', 'sum_sentiment_0_coef', 'sum_sentiment_1_coef',\n",
       "       'const_p', 'close_lag_1_p', 'sum_sentiment_0_p', 'sum_sentiment_1_p',\n",
       "       'r2', 'nobs'],\n",
       "      dtype='object')"
      ]
     },
     "execution_count": 470,
     "metadata": {},
     "output_type": "execute_result"
    }
   ],
   "source": [
    "df.columns"
   ]
  },
  {
   "cell_type": "code",
   "execution_count": 472,
   "metadata": {},
   "outputs": [],
   "source": [
    "maxx = df[['ticker', 'train_f1_micro']].groupby('ticker').max().reset_index()"
   ]
  },
  {
   "cell_type": "code",
   "execution_count": 474,
   "metadata": {},
   "outputs": [],
   "source": [
    "df = df.merge(maxx, on=['ticker', 'train_f1_micro'], how='inner')"
   ]
  },
  {
   "cell_type": "code",
   "execution_count": 475,
   "metadata": {},
   "outputs": [],
   "source": [
    "df.to_excel('tg_xgb.xlsx')"
   ]
  },
  {
   "cell_type": "code",
   "execution_count": null,
   "metadata": {},
   "outputs": [],
   "source": []
  },
  {
   "cell_type": "code",
   "execution_count": null,
   "metadata": {},
   "outputs": [],
   "source": []
  },
  {
   "cell_type": "code",
   "execution_count": null,
   "metadata": {},
   "outputs": [],
   "source": []
  },
  {
   "cell_type": "markdown",
   "metadata": {},
   "source": [
    "#### NB"
   ]
  },
  {
   "cell_type": "code",
   "execution_count": 413,
   "metadata": {},
   "outputs": [
    {
     "data": {
      "text/html": [
       "<div>\n",
       "<style scoped>\n",
       "    .dataframe tbody tr th:only-of-type {\n",
       "        vertical-align: middle;\n",
       "    }\n",
       "\n",
       "    .dataframe tbody tr th {\n",
       "        vertical-align: top;\n",
       "    }\n",
       "\n",
       "    .dataframe thead th {\n",
       "        text-align: right;\n",
       "    }\n",
       "</style>\n",
       "<table border=\"1\" class=\"dataframe\">\n",
       "  <thead>\n",
       "    <tr style=\"text-align: right;\">\n",
       "      <th></th>\n",
       "      <th>counter</th>\n",
       "      <th>ticker</th>\n",
       "      <th>date</th>\n",
       "      <th>min_df</th>\n",
       "      <th>j_neut</th>\n",
       "      <th>j_pos</th>\n",
       "      <th>j_neg</th>\n",
       "      <th>train_size</th>\n",
       "      <th>test_size</th>\n",
       "      <th>obs</th>\n",
       "      <th>...</th>\n",
       "      <th>const</th>\n",
       "      <th>close_lag_1_coef</th>\n",
       "      <th>sum_sentiment_0_coef</th>\n",
       "      <th>sum_sentiment_1_coef</th>\n",
       "      <th>const_p</th>\n",
       "      <th>close_lag_1_p</th>\n",
       "      <th>sum_sentiment_0_p</th>\n",
       "      <th>sum_sentiment_1_p</th>\n",
       "      <th>r2</th>\n",
       "      <th>nobs</th>\n",
       "    </tr>\n",
       "  </thead>\n",
       "  <tbody>\n",
       "    <tr>\n",
       "      <th>0</th>\n",
       "      <td>0</td>\n",
       "      <td>vtbr</td>\n",
       "      <td>1</td>\n",
       "      <td>5</td>\n",
       "      <td>0.1</td>\n",
       "      <td>2</td>\n",
       "      <td>2</td>\n",
       "      <td>16311</td>\n",
       "      <td>6264</td>\n",
       "      <td>6243</td>\n",
       "      <td>...</td>\n",
       "      <td>0.000525</td>\n",
       "      <td>0.984377</td>\n",
       "      <td>0.000141</td>\n",
       "      <td>0.000077</td>\n",
       "      <td>0.004998</td>\n",
       "      <td>0.0</td>\n",
       "      <td>0.016689</td>\n",
       "      <td>0.238640</td>\n",
       "      <td>0.982943</td>\n",
       "      <td>852</td>\n",
       "    </tr>\n",
       "    <tr>\n",
       "      <th>1</th>\n",
       "      <td>1</td>\n",
       "      <td>vtbr</td>\n",
       "      <td>1</td>\n",
       "      <td>7</td>\n",
       "      <td>0.1</td>\n",
       "      <td>2</td>\n",
       "      <td>2</td>\n",
       "      <td>16311</td>\n",
       "      <td>6264</td>\n",
       "      <td>6243</td>\n",
       "      <td>...</td>\n",
       "      <td>0.000525</td>\n",
       "      <td>0.984594</td>\n",
       "      <td>0.000111</td>\n",
       "      <td>0.000091</td>\n",
       "      <td>0.004974</td>\n",
       "      <td>0.0</td>\n",
       "      <td>0.062237</td>\n",
       "      <td>0.156996</td>\n",
       "      <td>0.982905</td>\n",
       "      <td>852</td>\n",
       "    </tr>\n",
       "    <tr>\n",
       "      <th>2</th>\n",
       "      <td>2</td>\n",
       "      <td>vtbr</td>\n",
       "      <td>1</td>\n",
       "      <td>10</td>\n",
       "      <td>0.1</td>\n",
       "      <td>2</td>\n",
       "      <td>2</td>\n",
       "      <td>16311</td>\n",
       "      <td>6264</td>\n",
       "      <td>6243</td>\n",
       "      <td>...</td>\n",
       "      <td>0.000553</td>\n",
       "      <td>0.984134</td>\n",
       "      <td>0.000096</td>\n",
       "      <td>0.000075</td>\n",
       "      <td>0.002805</td>\n",
       "      <td>0.0</td>\n",
       "      <td>0.109404</td>\n",
       "      <td>0.233291</td>\n",
       "      <td>0.982884</td>\n",
       "      <td>852</td>\n",
       "    </tr>\n",
       "    <tr>\n",
       "      <th>3</th>\n",
       "      <td>3</td>\n",
       "      <td>vtbr</td>\n",
       "      <td>1</td>\n",
       "      <td>15</td>\n",
       "      <td>0.1</td>\n",
       "      <td>2</td>\n",
       "      <td>2</td>\n",
       "      <td>16311</td>\n",
       "      <td>6264</td>\n",
       "      <td>6243</td>\n",
       "      <td>...</td>\n",
       "      <td>0.000553</td>\n",
       "      <td>0.984361</td>\n",
       "      <td>0.000073</td>\n",
       "      <td>0.000076</td>\n",
       "      <td>0.002915</td>\n",
       "      <td>0.0</td>\n",
       "      <td>0.220340</td>\n",
       "      <td>0.224869</td>\n",
       "      <td>0.982869</td>\n",
       "      <td>852</td>\n",
       "    </tr>\n",
       "    <tr>\n",
       "      <th>4</th>\n",
       "      <td>4</td>\n",
       "      <td>vtbr</td>\n",
       "      <td>1</td>\n",
       "      <td>21</td>\n",
       "      <td>0.1</td>\n",
       "      <td>2</td>\n",
       "      <td>2</td>\n",
       "      <td>16311</td>\n",
       "      <td>6264</td>\n",
       "      <td>6243</td>\n",
       "      <td>...</td>\n",
       "      <td>0.000589</td>\n",
       "      <td>0.984068</td>\n",
       "      <td>0.000026</td>\n",
       "      <td>0.000052</td>\n",
       "      <td>0.001440</td>\n",
       "      <td>0.0</td>\n",
       "      <td>0.658136</td>\n",
       "      <td>0.419298</td>\n",
       "      <td>0.982841</td>\n",
       "      <td>852</td>\n",
       "    </tr>\n",
       "  </tbody>\n",
       "</table>\n",
       "<p>5 rows × 35 columns</p>\n",
       "</div>"
      ],
      "text/plain": [
       "   counter ticker  date  min_df  j_neut  j_pos  j_neg  train_size  test_size  \\\n",
       "0        0   vtbr     1       5     0.1      2      2       16311       6264   \n",
       "1        1   vtbr     1       7     0.1      2      2       16311       6264   \n",
       "2        2   vtbr     1      10     0.1      2      2       16311       6264   \n",
       "3        3   vtbr     1      15     0.1      2      2       16311       6264   \n",
       "4        4   vtbr     1      21     0.1      2      2       16311       6264   \n",
       "\n",
       "    obs  ...     const  close_lag_1_coef  sum_sentiment_0_coef  \\\n",
       "0  6243  ...  0.000525          0.984377              0.000141   \n",
       "1  6243  ...  0.000525          0.984594              0.000111   \n",
       "2  6243  ...  0.000553          0.984134              0.000096   \n",
       "3  6243  ...  0.000553          0.984361              0.000073   \n",
       "4  6243  ...  0.000589          0.984068              0.000026   \n",
       "\n",
       "   sum_sentiment_1_coef   const_p  close_lag_1_p  sum_sentiment_0_p  \\\n",
       "0              0.000077  0.004998            0.0           0.016689   \n",
       "1              0.000091  0.004974            0.0           0.062237   \n",
       "2              0.000075  0.002805            0.0           0.109404   \n",
       "3              0.000076  0.002915            0.0           0.220340   \n",
       "4              0.000052  0.001440            0.0           0.658136   \n",
       "\n",
       "   sum_sentiment_1_p        r2  nobs  \n",
       "0           0.238640  0.982943   852  \n",
       "1           0.156996  0.982905   852  \n",
       "2           0.233291  0.982884   852  \n",
       "3           0.224869  0.982869   852  \n",
       "4           0.419298  0.982841   852  \n",
       "\n",
       "[5 rows x 35 columns]"
      ]
     },
     "execution_count": 413,
     "metadata": {},
     "output_type": "execute_result"
    }
   ],
   "source": [
    "import pandas as pd\n",
    "df = pd.read_excel(r'C:\\Users\\ВТБ\\Desktop\\Результаты\\tg\\Nb\\nb_model_ind_final2 (2).xlsx')\n",
    "df.head()"
   ]
  },
  {
   "cell_type": "code",
   "execution_count": 414,
   "metadata": {},
   "outputs": [
    {
     "data": {
      "text/plain": [
       "Index(['counter', 'ticker', 'date', 'min_df', 'j_neut', 'j_pos', 'j_neg',\n",
       "       'train_size', 'test_size', 'obs', 'bh', 'original_return_isna_all',\n",
       "       'model_return_isna_all', 'model_return_isna_short',\n",
       "       'model_return_isna_long', 'model_diver_return_isna_all',\n",
       "       'model_diver_return_isna_short', 'model_diver_return_isna_long',\n",
       "       'train_accuracy', 'train_precision_macro', 'train_precision_micro',\n",
       "       'train_recall_micro', 'train_recall_macro', 'train_f1_micro',\n",
       "       'train_f1_macro', 'const', 'close_lag_1_coef', 'sum_sentiment_0_coef',\n",
       "       'sum_sentiment_1_coef', 'const_p', 'close_lag_1_p', 'sum_sentiment_0_p',\n",
       "       'sum_sentiment_1_p', 'r2', 'nobs'],\n",
       "      dtype='object')"
      ]
     },
     "execution_count": 414,
     "metadata": {},
     "output_type": "execute_result"
    }
   ],
   "source": [
    "df.columns"
   ]
  },
  {
   "cell_type": "code",
   "execution_count": 415,
   "metadata": {},
   "outputs": [],
   "source": [
    "df['min_p'] = df[['sum_sentiment_0_p', 'sum_sentiment_1_p']].min(axis=1)\n",
    "df['max_p'] = df[['sum_sentiment_0_p', 'sum_sentiment_1_p']].max(axis=1)"
   ]
  },
  {
   "cell_type": "code",
   "execution_count": 416,
   "metadata": {},
   "outputs": [],
   "source": [
    "min_p_values = df[df.min_p<=0.05][['ticker', 'max_p']].groupby('ticker').min().sort_values('max_p').reset_index()"
   ]
  },
  {
   "cell_type": "code",
   "execution_count": 417,
   "metadata": {},
   "outputs": [],
   "source": [
    "df_min = df[['ticker', 'bh', 'model_return_isna_all', 'const','close_lag_1_coef','sum_sentiment_0_coef','sum_sentiment_1_coef','const_p','close_lag_1_p','sum_sentiment_0_p','sum_sentiment_1_p','r2','nobs']].merge(min_p_values, how='inner')"
   ]
  },
  {
   "cell_type": "code",
   "execution_count": 418,
   "metadata": {},
   "outputs": [],
   "source": [
    "df_min['delta'] = df_min.model_return_isna_all - df_min.bh"
   ]
  },
  {
   "cell_type": "code",
   "execution_count": 419,
   "metadata": {},
   "outputs": [],
   "source": [
    "df_delta = df_min[['ticker', 'delta']].groupby('ticker').max().sort_values('delta').reset_index()"
   ]
  },
  {
   "cell_type": "code",
   "execution_count": 420,
   "metadata": {},
   "outputs": [],
   "source": [
    "df_fin = df_min[['ticker', 'bh', 'model_return_isna_all', 'const','close_lag_1_coef','sum_sentiment_0_coef','sum_sentiment_1_coef','const_p','close_lag_1_p','sum_sentiment_0_p','sum_sentiment_1_p','r2','nobs', 'delta']].merge(df_delta, on=['ticker', 'delta'], how='inner')"
   ]
  },
  {
   "cell_type": "code",
   "execution_count": 421,
   "metadata": {},
   "outputs": [
    {
     "data": {
      "text/plain": [
       "35.79132475874363"
      ]
     },
     "execution_count": 421,
     "metadata": {},
     "output_type": "execute_result"
    }
   ],
   "source": [
    "df_fin.bh.median()"
   ]
  },
  {
   "cell_type": "code",
   "execution_count": 422,
   "metadata": {},
   "outputs": [
    {
     "data": {
      "text/plain": [
       "83.90584268129561"
      ]
     },
     "execution_count": 422,
     "metadata": {},
     "output_type": "execute_result"
    }
   ],
   "source": [
    "df_fin.model_return_isna_all.median()"
   ]
  },
  {
   "cell_type": "code",
   "execution_count": 423,
   "metadata": {},
   "outputs": [
    {
     "data": {
      "text/html": [
       "<div>\n",
       "<style scoped>\n",
       "    .dataframe tbody tr th:only-of-type {\n",
       "        vertical-align: middle;\n",
       "    }\n",
       "\n",
       "    .dataframe tbody tr th {\n",
       "        vertical-align: top;\n",
       "    }\n",
       "\n",
       "    .dataframe thead th {\n",
       "        text-align: right;\n",
       "    }\n",
       "</style>\n",
       "<table border=\"1\" class=\"dataframe\">\n",
       "  <thead>\n",
       "    <tr style=\"text-align: right;\">\n",
       "      <th></th>\n",
       "      <th>ticker</th>\n",
       "      <th>bh</th>\n",
       "      <th>model_return_isna_all</th>\n",
       "      <th>const</th>\n",
       "      <th>close_lag_1_coef</th>\n",
       "      <th>sum_sentiment_0_coef</th>\n",
       "      <th>sum_sentiment_1_coef</th>\n",
       "      <th>const_p</th>\n",
       "      <th>close_lag_1_p</th>\n",
       "      <th>sum_sentiment_0_p</th>\n",
       "      <th>sum_sentiment_1_p</th>\n",
       "      <th>r2</th>\n",
       "      <th>nobs</th>\n",
       "      <th>delta</th>\n",
       "    </tr>\n",
       "  </thead>\n",
       "  <tbody>\n",
       "    <tr>\n",
       "      <th>0</th>\n",
       "      <td>vtbr</td>\n",
       "      <td>-37.543597</td>\n",
       "      <td>112.430714</td>\n",
       "      <td>0.000626</td>\n",
       "      <td>0.983822</td>\n",
       "      <td>0.000018</td>\n",
       "      <td>-0.000039</td>\n",
       "      <td>8.096526e-04</td>\n",
       "      <td>0.000000e+00</td>\n",
       "      <td>0.766193</td>\n",
       "      <td>0.546980</td>\n",
       "      <td>0.982845</td>\n",
       "      <td>852</td>\n",
       "      <td>149.974312</td>\n",
       "    </tr>\n",
       "    <tr>\n",
       "      <th>1</th>\n",
       "      <td>gmkn</td>\n",
       "      <td>174.051873</td>\n",
       "      <td>117.674472</td>\n",
       "      <td>285.496188</td>\n",
       "      <td>0.988540</td>\n",
       "      <td>-72.115241</td>\n",
       "      <td>-77.204066</td>\n",
       "      <td>1.208593e-02</td>\n",
       "      <td>0.000000e+00</td>\n",
       "      <td>0.199316</td>\n",
       "      <td>0.195699</td>\n",
       "      <td>0.986124</td>\n",
       "      <td>408</td>\n",
       "      <td>-56.377402</td>\n",
       "    </tr>\n",
       "    <tr>\n",
       "      <th>2</th>\n",
       "      <td>zill</td>\n",
       "      <td>245.876289</td>\n",
       "      <td>99.263209</td>\n",
       "      <td>5.236632</td>\n",
       "      <td>0.997660</td>\n",
       "      <td>1.896914</td>\n",
       "      <td>6.395766</td>\n",
       "      <td>4.873171e-01</td>\n",
       "      <td>0.000000e+00</td>\n",
       "      <td>0.770410</td>\n",
       "      <td>0.347346</td>\n",
       "      <td>0.990989</td>\n",
       "      <td>660</td>\n",
       "      <td>-146.613080</td>\n",
       "    </tr>\n",
       "    <tr>\n",
       "      <th>3</th>\n",
       "      <td>alrs</td>\n",
       "      <td>28.202563</td>\n",
       "      <td>92.002952</td>\n",
       "      <td>0.883286</td>\n",
       "      <td>0.989056</td>\n",
       "      <td>0.224320</td>\n",
       "      <td>-0.139037</td>\n",
       "      <td>1.504199e-01</td>\n",
       "      <td>0.000000e+00</td>\n",
       "      <td>0.314221</td>\n",
       "      <td>0.585822</td>\n",
       "      <td>0.976054</td>\n",
       "      <td>442</td>\n",
       "      <td>63.800389</td>\n",
       "    </tr>\n",
       "    <tr>\n",
       "      <th>4</th>\n",
       "      <td>uwgn</td>\n",
       "      <td>-83.128562</td>\n",
       "      <td>242.269180</td>\n",
       "      <td>1.306473</td>\n",
       "      <td>0.994099</td>\n",
       "      <td>-0.582559</td>\n",
       "      <td>1.380668</td>\n",
       "      <td>1.599249e-01</td>\n",
       "      <td>0.000000e+00</td>\n",
       "      <td>0.637748</td>\n",
       "      <td>0.382204</td>\n",
       "      <td>0.995120</td>\n",
       "      <td>870</td>\n",
       "      <td>325.397742</td>\n",
       "    </tr>\n",
       "    <tr>\n",
       "      <th>...</th>\n",
       "      <td>...</td>\n",
       "      <td>...</td>\n",
       "      <td>...</td>\n",
       "      <td>...</td>\n",
       "      <td>...</td>\n",
       "      <td>...</td>\n",
       "      <td>...</td>\n",
       "      <td>...</td>\n",
       "      <td>...</td>\n",
       "      <td>...</td>\n",
       "      <td>...</td>\n",
       "      <td>...</td>\n",
       "      <td>...</td>\n",
       "      <td>...</td>\n",
       "    </tr>\n",
       "    <tr>\n",
       "      <th>57</th>\n",
       "      <td>mail</td>\n",
       "      <td>20.336134</td>\n",
       "      <td>25.362252</td>\n",
       "      <td>279.464718</td>\n",
       "      <td>0.869346</td>\n",
       "      <td>7.264000</td>\n",
       "      <td>4.147319</td>\n",
       "      <td>6.848962e-03</td>\n",
       "      <td>5.853113e-27</td>\n",
       "      <td>0.775986</td>\n",
       "      <td>0.794047</td>\n",
       "      <td>0.861756</td>\n",
       "      <td>65</td>\n",
       "      <td>5.026118</td>\n",
       "    </tr>\n",
       "    <tr>\n",
       "      <th>58</th>\n",
       "      <td>tanl</td>\n",
       "      <td>-78.021148</td>\n",
       "      <td>152.228435</td>\n",
       "      <td>0.324241</td>\n",
       "      <td>0.935846</td>\n",
       "      <td>3.823363</td>\n",
       "      <td>4.981955</td>\n",
       "      <td>8.078517e-01</td>\n",
       "      <td>4.606933e-122</td>\n",
       "      <td>0.091031</td>\n",
       "      <td>0.068581</td>\n",
       "      <td>0.882253</td>\n",
       "      <td>267</td>\n",
       "      <td>230.249583</td>\n",
       "    </tr>\n",
       "    <tr>\n",
       "      <th>59</th>\n",
       "      <td>lsrg</td>\n",
       "      <td>2.508711</td>\n",
       "      <td>58.157887</td>\n",
       "      <td>25.232097</td>\n",
       "      <td>0.965507</td>\n",
       "      <td>1.875173</td>\n",
       "      <td>2.092204</td>\n",
       "      <td>1.593077e-01</td>\n",
       "      <td>1.204408e-73</td>\n",
       "      <td>0.778871</td>\n",
       "      <td>0.790849</td>\n",
       "      <td>0.929725</td>\n",
       "      <td>129</td>\n",
       "      <td>55.649176</td>\n",
       "    </tr>\n",
       "    <tr>\n",
       "      <th>60</th>\n",
       "      <td>rlmn</td>\n",
       "      <td>-83.812500</td>\n",
       "      <td>115.788837</td>\n",
       "      <td>2.147082</td>\n",
       "      <td>0.900506</td>\n",
       "      <td>-0.362312</td>\n",
       "      <td>-0.099614</td>\n",
       "      <td>1.290914e-09</td>\n",
       "      <td>9.052686e-211</td>\n",
       "      <td>0.178645</td>\n",
       "      <td>0.703174</td>\n",
       "      <td>0.931692</td>\n",
       "      <td>363</td>\n",
       "      <td>199.601337</td>\n",
       "    </tr>\n",
       "    <tr>\n",
       "      <th>61</th>\n",
       "      <td>trmk</td>\n",
       "      <td>-24.125786</td>\n",
       "      <td>60.316881</td>\n",
       "      <td>15.112380</td>\n",
       "      <td>0.732057</td>\n",
       "      <td>-0.424146</td>\n",
       "      <td>0.099203</td>\n",
       "      <td>5.182680e-05</td>\n",
       "      <td>6.147172e-19</td>\n",
       "      <td>0.642175</td>\n",
       "      <td>0.915970</td>\n",
       "      <td>0.633511</td>\n",
       "      <td>85</td>\n",
       "      <td>84.442667</td>\n",
       "    </tr>\n",
       "  </tbody>\n",
       "</table>\n",
       "<p>62 rows × 14 columns</p>\n",
       "</div>"
      ],
      "text/plain": [
       "   ticker          bh  model_return_isna_all       const  close_lag_1_coef  \\\n",
       "0    vtbr  -37.543597             112.430714    0.000626          0.983822   \n",
       "1    gmkn  174.051873             117.674472  285.496188          0.988540   \n",
       "2    zill  245.876289              99.263209    5.236632          0.997660   \n",
       "3    alrs   28.202563              92.002952    0.883286          0.989056   \n",
       "4    uwgn  -83.128562             242.269180    1.306473          0.994099   \n",
       "..    ...         ...                    ...         ...               ...   \n",
       "57   mail   20.336134              25.362252  279.464718          0.869346   \n",
       "58   tanl  -78.021148             152.228435    0.324241          0.935846   \n",
       "59   lsrg    2.508711              58.157887   25.232097          0.965507   \n",
       "60   rlmn  -83.812500             115.788837    2.147082          0.900506   \n",
       "61   trmk  -24.125786              60.316881   15.112380          0.732057   \n",
       "\n",
       "    sum_sentiment_0_coef  sum_sentiment_1_coef       const_p  close_lag_1_p  \\\n",
       "0               0.000018             -0.000039  8.096526e-04   0.000000e+00   \n",
       "1             -72.115241            -77.204066  1.208593e-02   0.000000e+00   \n",
       "2               1.896914              6.395766  4.873171e-01   0.000000e+00   \n",
       "3               0.224320             -0.139037  1.504199e-01   0.000000e+00   \n",
       "4              -0.582559              1.380668  1.599249e-01   0.000000e+00   \n",
       "..                   ...                   ...           ...            ...   \n",
       "57              7.264000              4.147319  6.848962e-03   5.853113e-27   \n",
       "58              3.823363              4.981955  8.078517e-01  4.606933e-122   \n",
       "59              1.875173              2.092204  1.593077e-01   1.204408e-73   \n",
       "60             -0.362312             -0.099614  1.290914e-09  9.052686e-211   \n",
       "61             -0.424146              0.099203  5.182680e-05   6.147172e-19   \n",
       "\n",
       "    sum_sentiment_0_p  sum_sentiment_1_p        r2  nobs       delta  \n",
       "0            0.766193           0.546980  0.982845   852  149.974312  \n",
       "1            0.199316           0.195699  0.986124   408  -56.377402  \n",
       "2            0.770410           0.347346  0.990989   660 -146.613080  \n",
       "3            0.314221           0.585822  0.976054   442   63.800389  \n",
       "4            0.637748           0.382204  0.995120   870  325.397742  \n",
       "..                ...                ...       ...   ...         ...  \n",
       "57           0.775986           0.794047  0.861756    65    5.026118  \n",
       "58           0.091031           0.068581  0.882253   267  230.249583  \n",
       "59           0.778871           0.790849  0.929725   129   55.649176  \n",
       "60           0.178645           0.703174  0.931692   363  199.601337  \n",
       "61           0.642175           0.915970  0.633511    85   84.442667  \n",
       "\n",
       "[62 rows x 14 columns]"
      ]
     },
     "execution_count": 423,
     "metadata": {},
     "output_type": "execute_result"
    }
   ],
   "source": [
    "df_fin"
   ]
  },
  {
   "cell_type": "code",
   "execution_count": 424,
   "metadata": {},
   "outputs": [
    {
     "data": {
      "text/plain": [
       "9.831282037556821e-05"
      ]
     },
     "execution_count": 424,
     "metadata": {},
     "output_type": "execute_result"
    }
   ],
   "source": [
    "df.sum_sentiment_0_p.min()"
   ]
  },
  {
   "cell_type": "markdown",
   "metadata": {},
   "source": [
    "#### Со всеми коэфами"
   ]
  },
  {
   "cell_type": "code",
   "execution_count": 425,
   "metadata": {},
   "outputs": [],
   "source": [
    "df['min_p'] = df[['sum_sentiment_0_p', 'sum_sentiment_1_p']].min(axis=1)\n",
    "df['max_p'] = df[['sum_sentiment_0_p', 'sum_sentiment_1_p']].max(axis=1)"
   ]
  },
  {
   "cell_type": "code",
   "execution_count": 426,
   "metadata": {},
   "outputs": [],
   "source": [
    "df_min = df[df.min_p<0.05]"
   ]
  },
  {
   "cell_type": "code",
   "execution_count": 427,
   "metadata": {},
   "outputs": [
    {
     "name": "stderr",
     "output_type": "stream",
     "text": [
      "C:\\ProgramData\\Anaconda3\\lib\\site-packages\\ipykernel_launcher.py:1: SettingWithCopyWarning: \n",
      "A value is trying to be set on a copy of a slice from a DataFrame.\n",
      "Try using .loc[row_indexer,col_indexer] = value instead\n",
      "\n",
      "See the caveats in the documentation: https://pandas.pydata.org/pandas-docs/stable/user_guide/indexing.html#returning-a-view-versus-a-copy\n",
      "  \"\"\"Entry point for launching an IPython kernel.\n"
     ]
    }
   ],
   "source": [
    "df_min['delta'] = df_min.model_return_isna_all - df_min.bh"
   ]
  },
  {
   "cell_type": "code",
   "execution_count": 428,
   "metadata": {},
   "outputs": [],
   "source": [
    "df_delta = df_min[['ticker', 'delta']].groupby('ticker').max().sort_values('delta').reset_index()"
   ]
  },
  {
   "cell_type": "code",
   "execution_count": 429,
   "metadata": {},
   "outputs": [],
   "source": [
    "df_fin = df_min.merge(df_delta, on=['ticker', 'delta'], how='inner')"
   ]
  },
  {
   "cell_type": "code",
   "execution_count": 430,
   "metadata": {},
   "outputs": [
    {
     "data": {
      "text/plain": [
       "array(['gmkn', 'zill', 'tcsg', 'belu', 'afks', 'gche', 'moex', 'smlt',\n",
       "       'yndx', 'gazp', 'mvid', 'plzl', 'pikk', 'nknc', 'paza', 'magn',\n",
       "       'iskj', 'rtkm', 'rasp', 'phor', 'nlmk', 'nvtk', 'chmf', 'rsti',\n",
       "       'dsky', 'mail'], dtype=object)"
      ]
     },
     "execution_count": 430,
     "metadata": {},
     "output_type": "execute_result"
    }
   ],
   "source": [
    "df_fin[df_fin.delta<=0].ticker.unique()"
   ]
  },
  {
   "cell_type": "code",
   "execution_count": 431,
   "metadata": {},
   "outputs": [
    {
     "data": {
      "text/plain": [
       "(25,)"
      ]
     },
     "execution_count": 431,
     "metadata": {},
     "output_type": "execute_result"
    }
   ],
   "source": [
    "df_fin[(df_fin.obs>100)&(df_fin.bh>df_fin.model_return_isna_all)].bh.shape"
   ]
  },
  {
   "cell_type": "code",
   "execution_count": 432,
   "metadata": {},
   "outputs": [
    {
     "data": {
      "text/plain": [
       "3931.6156215703254"
      ]
     },
     "execution_count": 432,
     "metadata": {},
     "output_type": "execute_result"
    }
   ],
   "source": [
    "df_fin[df_fin.obs>200].model_return_isna_all.sum()"
   ]
  },
  {
   "cell_type": "code",
   "execution_count": 433,
   "metadata": {},
   "outputs": [
    {
     "data": {
      "text/plain": [
       "Index(['counter', 'ticker', 'date', 'min_df', 'j_neut', 'j_pos', 'j_neg',\n",
       "       'train_size', 'test_size', 'obs', 'bh', 'original_return_isna_all',\n",
       "       'model_return_isna_all', 'model_return_isna_short',\n",
       "       'model_return_isna_long', 'model_diver_return_isna_all',\n",
       "       'model_diver_return_isna_short', 'model_diver_return_isna_long',\n",
       "       'train_accuracy', 'train_precision_macro', 'train_precision_micro',\n",
       "       'train_recall_micro', 'train_recall_macro', 'train_f1_micro',\n",
       "       'train_f1_macro', 'const', 'close_lag_1_coef', 'sum_sentiment_0_coef',\n",
       "       'sum_sentiment_1_coef', 'const_p', 'close_lag_1_p', 'sum_sentiment_0_p',\n",
       "       'sum_sentiment_1_p', 'r2', 'nobs', 'min_p', 'max_p', 'delta'],\n",
       "      dtype='object')"
      ]
     },
     "execution_count": 433,
     "metadata": {},
     "output_type": "execute_result"
    }
   ],
   "source": [
    "df_fin.columns"
   ]
  },
  {
   "cell_type": "code",
   "execution_count": 434,
   "metadata": {},
   "outputs": [
    {
     "name": "stderr",
     "output_type": "stream",
     "text": [
      "C:\\ProgramData\\Anaconda3\\lib\\site-packages\\ipykernel_launcher.py:2: SettingWithCopyWarning: \n",
      "A value is trying to be set on a copy of a slice from a DataFrame\n",
      "\n",
      "See the caveats in the documentation: https://pandas.pydata.org/pandas-docs/stable/user_guide/indexing.html#returning-a-view-versus-a-copy\n",
      "  \n",
      "C:\\ProgramData\\Anaconda3\\lib\\site-packages\\ipykernel_launcher.py:3: SettingWithCopyWarning: \n",
      "A value is trying to be set on a copy of a slice from a DataFrame\n",
      "\n",
      "See the caveats in the documentation: https://pandas.pydata.org/pandas-docs/stable/user_guide/indexing.html#returning-a-view-versus-a-copy\n",
      "  This is separate from the ipykernel package so we can avoid doing imports until\n",
      "C:\\ProgramData\\Anaconda3\\lib\\site-packages\\ipykernel_launcher.py:4: SettingWithCopyWarning: \n",
      "A value is trying to be set on a copy of a slice from a DataFrame\n",
      "\n",
      "See the caveats in the documentation: https://pandas.pydata.org/pandas-docs/stable/user_guide/indexing.html#returning-a-view-versus-a-copy\n",
      "  after removing the cwd from sys.path.\n",
      "C:\\ProgramData\\Anaconda3\\lib\\site-packages\\ipykernel_launcher.py:5: SettingWithCopyWarning: \n",
      "A value is trying to be set on a copy of a slice from a DataFrame\n",
      "\n",
      "See the caveats in the documentation: https://pandas.pydata.org/pandas-docs/stable/user_guide/indexing.html#returning-a-view-versus-a-copy\n",
      "  \"\"\"\n"
     ]
    },
    {
     "data": {
      "text/plain": [
       "0       **\n",
       "1     (ns)\n",
       "2     (ns)\n",
       "3     (ns)\n",
       "4     (ns)\n",
       "      ... \n",
       "57      **\n",
       "58    (ns)\n",
       "59    (ns)\n",
       "60     ***\n",
       "61     ***\n",
       "Name: const_p_ast, Length: 62, dtype: object"
      ]
     },
     "execution_count": 434,
     "metadata": {},
     "output_type": "execute_result"
    }
   ],
   "source": [
    "df_fin['const_p_ast'] = None\n",
    "df_fin['const_p_ast'][(df_fin.const_p<=0.001)&(df_fin.const_p_ast.isna()==True)] = '***'\n",
    "df_fin['const_p_ast'][(df_fin.const_p<=0.01)&(df_fin.const_p_ast.isna()==True)] = '**'\n",
    "df_fin['const_p_ast'][(df_fin.const_p<=0.05)&(df_fin.const_p_ast.isna()==True)] = '*'\n",
    "df_fin['const_p_ast'][(df_fin.const_p>0.05)&(df_fin.const_p_ast.isna()==True)] = '(ns)'\n",
    "df_fin.const_p_ast"
   ]
  },
  {
   "cell_type": "code",
   "execution_count": 435,
   "metadata": {},
   "outputs": [],
   "source": [
    "df_fin.const_p_ast = round(df_fin.const,3).astype(str) + df_fin.const_p_ast"
   ]
  },
  {
   "cell_type": "code",
   "execution_count": 436,
   "metadata": {},
   "outputs": [
    {
     "name": "stderr",
     "output_type": "stream",
     "text": [
      "C:\\ProgramData\\Anaconda3\\lib\\site-packages\\ipykernel_launcher.py:2: SettingWithCopyWarning: \n",
      "A value is trying to be set on a copy of a slice from a DataFrame\n",
      "\n",
      "See the caveats in the documentation: https://pandas.pydata.org/pandas-docs/stable/user_guide/indexing.html#returning-a-view-versus-a-copy\n",
      "  \n",
      "C:\\ProgramData\\Anaconda3\\lib\\site-packages\\ipykernel_launcher.py:3: SettingWithCopyWarning: \n",
      "A value is trying to be set on a copy of a slice from a DataFrame\n",
      "\n",
      "See the caveats in the documentation: https://pandas.pydata.org/pandas-docs/stable/user_guide/indexing.html#returning-a-view-versus-a-copy\n",
      "  This is separate from the ipykernel package so we can avoid doing imports until\n",
      "C:\\ProgramData\\Anaconda3\\lib\\site-packages\\ipykernel_launcher.py:4: SettingWithCopyWarning: \n",
      "A value is trying to be set on a copy of a slice from a DataFrame\n",
      "\n",
      "See the caveats in the documentation: https://pandas.pydata.org/pandas-docs/stable/user_guide/indexing.html#returning-a-view-versus-a-copy\n",
      "  after removing the cwd from sys.path.\n",
      "C:\\ProgramData\\Anaconda3\\lib\\site-packages\\ipykernel_launcher.py:5: SettingWithCopyWarning: \n",
      "A value is trying to be set on a copy of a slice from a DataFrame\n",
      "\n",
      "See the caveats in the documentation: https://pandas.pydata.org/pandas-docs/stable/user_guide/indexing.html#returning-a-view-versus-a-copy\n",
      "  \"\"\"\n"
     ]
    },
    {
     "data": {
      "text/plain": [
       "0     ***\n",
       "1     ***\n",
       "2     ***\n",
       "3     ***\n",
       "4     ***\n",
       "     ... \n",
       "57    ***\n",
       "58    ***\n",
       "59    ***\n",
       "60    ***\n",
       "61    ***\n",
       "Name: close_lag_1_p_ast, Length: 62, dtype: object"
      ]
     },
     "execution_count": 436,
     "metadata": {},
     "output_type": "execute_result"
    }
   ],
   "source": [
    "df_fin['close_lag_1_p_ast'] = None\n",
    "df_fin['close_lag_1_p_ast'][(df_fin.close_lag_1_p<=0.001)&(df_fin.close_lag_1_p_ast.isna()==True)] = '***'\n",
    "df_fin['close_lag_1_p_ast'][(df_fin.close_lag_1_p<=0.01)&(df_fin.close_lag_1_p_ast.isna()==True)] = '**'\n",
    "df_fin['close_lag_1_p_ast'][(df_fin.close_lag_1_p<=0.05)&(df_fin.close_lag_1_p_ast.isna()==True)] = '*'\n",
    "df_fin['close_lag_1_p_ast'][(df_fin.close_lag_1_p>0.05)&(df_fin.close_lag_1_p_ast.isna()==True)] = '(ns)'\n",
    "df_fin.close_lag_1_p_ast"
   ]
  },
  {
   "cell_type": "code",
   "execution_count": 437,
   "metadata": {},
   "outputs": [],
   "source": [
    "df_fin.close_lag_1_p_ast = round(df_fin.close_lag_1_coef,3).astype(str) + df_fin.close_lag_1_p_ast"
   ]
  },
  {
   "cell_type": "code",
   "execution_count": 438,
   "metadata": {},
   "outputs": [
    {
     "name": "stderr",
     "output_type": "stream",
     "text": [
      "C:\\ProgramData\\Anaconda3\\lib\\site-packages\\ipykernel_launcher.py:2: SettingWithCopyWarning: \n",
      "A value is trying to be set on a copy of a slice from a DataFrame\n",
      "\n",
      "See the caveats in the documentation: https://pandas.pydata.org/pandas-docs/stable/user_guide/indexing.html#returning-a-view-versus-a-copy\n",
      "  \n",
      "C:\\ProgramData\\Anaconda3\\lib\\site-packages\\ipykernel_launcher.py:3: SettingWithCopyWarning: \n",
      "A value is trying to be set on a copy of a slice from a DataFrame\n",
      "\n",
      "See the caveats in the documentation: https://pandas.pydata.org/pandas-docs/stable/user_guide/indexing.html#returning-a-view-versus-a-copy\n",
      "  This is separate from the ipykernel package so we can avoid doing imports until\n",
      "C:\\ProgramData\\Anaconda3\\lib\\site-packages\\ipykernel_launcher.py:4: SettingWithCopyWarning: \n",
      "A value is trying to be set on a copy of a slice from a DataFrame\n",
      "\n",
      "See the caveats in the documentation: https://pandas.pydata.org/pandas-docs/stable/user_guide/indexing.html#returning-a-view-versus-a-copy\n",
      "  after removing the cwd from sys.path.\n",
      "C:\\ProgramData\\Anaconda3\\lib\\site-packages\\ipykernel_launcher.py:5: SettingWithCopyWarning: \n",
      "A value is trying to be set on a copy of a slice from a DataFrame\n",
      "\n",
      "See the caveats in the documentation: https://pandas.pydata.org/pandas-docs/stable/user_guide/indexing.html#returning-a-view-versus-a-copy\n",
      "  \"\"\"\n"
     ]
    },
    {
     "data": {
      "text/plain": [
       "0       **\n",
       "1        *\n",
       "2     (ns)\n",
       "3     (ns)\n",
       "4        *\n",
       "      ... \n",
       "57    (ns)\n",
       "58       *\n",
       "59    (ns)\n",
       "60       *\n",
       "61    (ns)\n",
       "Name: sum_sentiment_1_p_ast, Length: 62, dtype: object"
      ]
     },
     "execution_count": 438,
     "metadata": {},
     "output_type": "execute_result"
    }
   ],
   "source": [
    "df_fin['sum_sentiment_1_p_ast'] = None\n",
    "df_fin['sum_sentiment_1_p_ast'][(df_fin.sum_sentiment_1_p<=0.001)&(df_fin.sum_sentiment_1_p_ast.isna()==True)] = '***'\n",
    "df_fin['sum_sentiment_1_p_ast'][(df_fin.sum_sentiment_1_p<=0.01)&(df_fin.sum_sentiment_1_p_ast.isna()==True)] = '**'\n",
    "df_fin['sum_sentiment_1_p_ast'][(df_fin.sum_sentiment_1_p<=0.05)&(df_fin.sum_sentiment_1_p_ast.isna()==True)] = '*'\n",
    "df_fin['sum_sentiment_1_p_ast'][(df_fin.sum_sentiment_1_p>0.05)&(df_fin.sum_sentiment_1_p_ast.isna()==True)] = '(ns)'\n",
    "df_fin.sum_sentiment_1_p_ast"
   ]
  },
  {
   "cell_type": "code",
   "execution_count": 439,
   "metadata": {},
   "outputs": [
    {
     "data": {
      "text/plain": [
       "0           0.0**\n",
       "1        125.059*\n",
       "2       8.354(ns)\n",
       "3       0.229(ns)\n",
       "4          2.043*\n",
       "         ...     \n",
       "57    -14.452(ns)\n",
       "58         5.318*\n",
       "59      5.395(ns)\n",
       "60         0.729*\n",
       "61      0.409(ns)\n",
       "Name: sum_sentiment_1_p_ast, Length: 62, dtype: object"
      ]
     },
     "execution_count": 439,
     "metadata": {},
     "output_type": "execute_result"
    }
   ],
   "source": [
    "df_fin.sum_sentiment_1_p_ast = round(df_fin.sum_sentiment_1_coef,3).astype(str) + df_fin.sum_sentiment_1_p_ast\n",
    "df_fin.sum_sentiment_1_p_ast"
   ]
  },
  {
   "cell_type": "code",
   "execution_count": 440,
   "metadata": {},
   "outputs": [
    {
     "name": "stderr",
     "output_type": "stream",
     "text": [
      "C:\\ProgramData\\Anaconda3\\lib\\site-packages\\ipykernel_launcher.py:2: SettingWithCopyWarning: \n",
      "A value is trying to be set on a copy of a slice from a DataFrame\n",
      "\n",
      "See the caveats in the documentation: https://pandas.pydata.org/pandas-docs/stable/user_guide/indexing.html#returning-a-view-versus-a-copy\n",
      "  \n",
      "C:\\ProgramData\\Anaconda3\\lib\\site-packages\\ipykernel_launcher.py:3: SettingWithCopyWarning: \n",
      "A value is trying to be set on a copy of a slice from a DataFrame\n",
      "\n",
      "See the caveats in the documentation: https://pandas.pydata.org/pandas-docs/stable/user_guide/indexing.html#returning-a-view-versus-a-copy\n",
      "  This is separate from the ipykernel package so we can avoid doing imports until\n",
      "C:\\ProgramData\\Anaconda3\\lib\\site-packages\\ipykernel_launcher.py:4: SettingWithCopyWarning: \n",
      "A value is trying to be set on a copy of a slice from a DataFrame\n",
      "\n",
      "See the caveats in the documentation: https://pandas.pydata.org/pandas-docs/stable/user_guide/indexing.html#returning-a-view-versus-a-copy\n",
      "  after removing the cwd from sys.path.\n",
      "C:\\ProgramData\\Anaconda3\\lib\\site-packages\\ipykernel_launcher.py:5: SettingWithCopyWarning: \n",
      "A value is trying to be set on a copy of a slice from a DataFrame\n",
      "\n",
      "See the caveats in the documentation: https://pandas.pydata.org/pandas-docs/stable/user_guide/indexing.html#returning-a-view-versus-a-copy\n",
      "  \"\"\"\n"
     ]
    },
    {
     "data": {
      "text/plain": [
       "0     (ns)\n",
       "1     (ns)\n",
       "2        *\n",
       "3        *\n",
       "4     (ns)\n",
       "      ... \n",
       "57       *\n",
       "58    (ns)\n",
       "59       *\n",
       "60    (ns)\n",
       "61       *\n",
       "Name: sum_sentiment_0_p_ast, Length: 62, dtype: object"
      ]
     },
     "execution_count": 440,
     "metadata": {},
     "output_type": "execute_result"
    }
   ],
   "source": [
    "df_fin['sum_sentiment_0_p_ast'] = None\n",
    "df_fin['sum_sentiment_0_p_ast'][(df_fin.sum_sentiment_0_p<=0.001)&(df_fin.sum_sentiment_0_p_ast.isna()==True)] = '***'\n",
    "df_fin['sum_sentiment_0_p_ast'][(df_fin.sum_sentiment_0_p<=0.01)&(df_fin.sum_sentiment_0_p_ast.isna()==True)] = '**'\n",
    "df_fin['sum_sentiment_0_p_ast'][(df_fin.sum_sentiment_0_p<=0.05)&(df_fin.sum_sentiment_0_p_ast.isna()==True)] = '*'\n",
    "df_fin['sum_sentiment_0_p_ast'][(df_fin.sum_sentiment_0_p>0.05)&(df_fin.sum_sentiment_0_p_ast.isna()==True)] = '(ns)'\n",
    "df_fin.sum_sentiment_0_p_ast"
   ]
  },
  {
   "cell_type": "code",
   "execution_count": 441,
   "metadata": {},
   "outputs": [
    {
     "data": {
      "text/plain": [
       "0        0.0(ns)\n",
       "1     61.558(ns)\n",
       "2       -14.223*\n",
       "3          0.48*\n",
       "4     -1.545(ns)\n",
       "         ...    \n",
       "57      -45.379*\n",
       "58    -1.886(ns)\n",
       "59       15.288*\n",
       "60     0.019(ns)\n",
       "61        2.041*\n",
       "Name: sum_sentiment_0_p_ast, Length: 62, dtype: object"
      ]
     },
     "execution_count": 441,
     "metadata": {},
     "output_type": "execute_result"
    }
   ],
   "source": [
    "df_fin.sum_sentiment_0_p_ast = round(df_fin.sum_sentiment_0_coef, 3).astype(str) + df_fin.sum_sentiment_0_p_ast\n",
    "df_fin.sum_sentiment_0_p_ast"
   ]
  },
  {
   "cell_type": "code",
   "execution_count": 442,
   "metadata": {},
   "outputs": [],
   "source": [
    "df_fin.to_excel('tg_final.xlsx')"
   ]
  },
  {
   "cell_type": "code",
   "execution_count": 204,
   "metadata": {},
   "outputs": [
    {
     "data": {
      "text/plain": [
       "95"
      ]
     },
     "execution_count": 204,
     "metadata": {},
     "output_type": "execute_result"
    }
   ],
   "source": [
    "df_fin.test_size.min()"
   ]
  },
  {
   "cell_type": "code",
   "execution_count": 207,
   "metadata": {},
   "outputs": [
    {
     "data": {
      "text/plain": [
       "(62, 42)"
      ]
     },
     "execution_count": 207,
     "metadata": {},
     "output_type": "execute_result"
    }
   ],
   "source": [
    "df_fin.shape"
   ]
  },
  {
   "cell_type": "code",
   "execution_count": 209,
   "metadata": {},
   "outputs": [
    {
     "data": {
      "text/plain": [
       "(2, 42)"
      ]
     },
     "execution_count": 209,
     "metadata": {},
     "output_type": "execute_result"
    }
   ],
   "source": [
    "df_fin[(df_fin.sum_sentiment_0_p<=0.05)&(df_fin.sum_sentiment_1_p<=0.05)].shape"
   ]
  },
  {
   "cell_type": "code",
   "execution_count": 216,
   "metadata": {},
   "outputs": [
    {
     "data": {
      "text/html": [
       "<div>\n",
       "<style scoped>\n",
       "    .dataframe tbody tr th:only-of-type {\n",
       "        vertical-align: middle;\n",
       "    }\n",
       "\n",
       "    .dataframe tbody tr th {\n",
       "        vertical-align: top;\n",
       "    }\n",
       "\n",
       "    .dataframe thead th {\n",
       "        text-align: right;\n",
       "    }\n",
       "</style>\n",
       "<table border=\"1\" class=\"dataframe\">\n",
       "  <thead>\n",
       "    <tr style=\"text-align: right;\">\n",
       "      <th></th>\n",
       "      <th>index</th>\n",
       "      <th>Buy &amp; Hold</th>\n",
       "      <th>Простая стратегия</th>\n",
       "      <th>Простая стратегия с дивергенцией</th>\n",
       "    </tr>\n",
       "  </thead>\n",
       "  <tbody>\n",
       "    <tr>\n",
       "      <th>0</th>\n",
       "      <td>count</td>\n",
       "      <td>62.000000</td>\n",
       "      <td>62.000000</td>\n",
       "      <td>62.000000</td>\n",
       "    </tr>\n",
       "    <tr>\n",
       "      <th>1</th>\n",
       "      <td>mean</td>\n",
       "      <td>73.851297</td>\n",
       "      <td>64.761180</td>\n",
       "      <td>46.926573</td>\n",
       "    </tr>\n",
       "    <tr>\n",
       "      <th>2</th>\n",
       "      <td>std</td>\n",
       "      <td>207.461793</td>\n",
       "      <td>51.473024</td>\n",
       "      <td>46.065963</td>\n",
       "    </tr>\n",
       "    <tr>\n",
       "      <th>3</th>\n",
       "      <td>min</td>\n",
       "      <td>-83.812500</td>\n",
       "      <td>0.642302</td>\n",
       "      <td>-11.378265</td>\n",
       "    </tr>\n",
       "    <tr>\n",
       "      <th>4</th>\n",
       "      <td>25%</td>\n",
       "      <td>-0.473067</td>\n",
       "      <td>35.015238</td>\n",
       "      <td>22.692370</td>\n",
       "    </tr>\n",
       "    <tr>\n",
       "      <th>5</th>\n",
       "      <td>50%</td>\n",
       "      <td>35.791325</td>\n",
       "      <td>55.994766</td>\n",
       "      <td>38.842534</td>\n",
       "    </tr>\n",
       "    <tr>\n",
       "      <th>6</th>\n",
       "      <td>75%</td>\n",
       "      <td>76.064861</td>\n",
       "      <td>74.167402</td>\n",
       "      <td>61.635361</td>\n",
       "    </tr>\n",
       "    <tr>\n",
       "      <th>7</th>\n",
       "      <td>max</td>\n",
       "      <td>1516.952790</td>\n",
       "      <td>299.574628</td>\n",
       "      <td>298.660715</td>\n",
       "    </tr>\n",
       "  </tbody>\n",
       "</table>\n",
       "</div>"
      ],
      "text/plain": [
       "   index   Buy & Hold  Простая стратегия  Простая стратегия с дивергенцией\n",
       "0  count    62.000000          62.000000                         62.000000\n",
       "1   mean    73.851297          64.761180                         46.926573\n",
       "2    std   207.461793          51.473024                         46.065963\n",
       "3    min   -83.812500           0.642302                        -11.378265\n",
       "4    25%    -0.473067          35.015238                         22.692370\n",
       "5    50%    35.791325          55.994766                         38.842534\n",
       "6    75%    76.064861          74.167402                         61.635361\n",
       "7    max  1516.952790         299.574628                        298.660715"
      ]
     },
     "execution_count": 216,
     "metadata": {},
     "output_type": "execute_result"
    }
   ],
   "source": [
    "df_fin[['bh', 'model_return_isna_all', 'model_diver_return_isna_all']].describe().\\\n",
    "rename(columns={'bh':'Buy & Hold', 'model_return_isna_all':'Простая стратегия', 'model_diver_return_isna_all':'Простая стратегия с дивергенцией'}).reset_index()"
   ]
  },
  {
   "cell_type": "code",
   "execution_count": 213,
   "metadata": {},
   "outputs": [
    {
     "data": {
      "text/plain": [
       "Index(['counter', 'ticker', 'date', 'min_df', 'j_neut', 'j_pos', 'j_neg',\n",
       "       'train_size', 'test_size', 'obs', 'bh', 'original_return_isna_all',\n",
       "       'model_return_isna_all', 'model_return_isna_short',\n",
       "       'model_return_isna_long', 'model_diver_return_isna_all',\n",
       "       'model_diver_return_isna_short', 'model_diver_return_isna_long',\n",
       "       'train_accuracy', 'train_precision_macro', 'train_precision_micro',\n",
       "       'train_recall_micro', 'train_recall_macro', 'train_f1_micro',\n",
       "       'train_f1_macro', 'const', 'close_lag_1_coef', 'sum_sentiment_0_coef',\n",
       "       'sum_sentiment_1_coef', 'const_p', 'close_lag_1_p', 'sum_sentiment_0_p',\n",
       "       'sum_sentiment_1_p', 'r2', 'nobs', 'max_p', 'min_p', 'delta',\n",
       "       'const_p_ast', 'close_lag_1_p_ast', 'sum_sentiment_1_p_ast',\n",
       "       'sum_sentiment_0_p_ast'],\n",
       "      dtype='object')"
      ]
     },
     "execution_count": 213,
     "metadata": {},
     "output_type": "execute_result"
    }
   ],
   "source": [
    "df_fin.columns"
   ]
  },
  {
   "cell_type": "code",
   "execution_count": 217,
   "metadata": {},
   "outputs": [],
   "source": [
    "df_fin[['bh', 'model_return_isna_all', 'model_diver_return_isna_all']].describe().\\\n",
    "rename(columns={'bh':'Buy & Hold', 'model_return_isna_all':'Простая стратегия', 'model_diver_return_isna_all':'Простая стратегия с дивергенцией'}).reset_index().to_excel('tg_sharpe.xlsx')"
   ]
  },
  {
   "cell_type": "code",
   "execution_count": null,
   "metadata": {},
   "outputs": [],
   "source": []
  },
  {
   "cell_type": "code",
   "execution_count": null,
   "metadata": {},
   "outputs": [],
   "source": []
  },
  {
   "cell_type": "markdown",
   "metadata": {},
   "source": [
    "#### MFD"
   ]
  },
  {
   "cell_type": "code",
   "execution_count": 443,
   "metadata": {},
   "outputs": [
    {
     "data": {
      "text/html": [
       "<div>\n",
       "<style scoped>\n",
       "    .dataframe tbody tr th:only-of-type {\n",
       "        vertical-align: middle;\n",
       "    }\n",
       "\n",
       "    .dataframe tbody tr th {\n",
       "        vertical-align: top;\n",
       "    }\n",
       "\n",
       "    .dataframe thead th {\n",
       "        text-align: right;\n",
       "    }\n",
       "</style>\n",
       "<table border=\"1\" class=\"dataframe\">\n",
       "  <thead>\n",
       "    <tr style=\"text-align: right;\">\n",
       "      <th></th>\n",
       "      <th>counter</th>\n",
       "      <th>ticker</th>\n",
       "      <th>date</th>\n",
       "      <th>min_df</th>\n",
       "      <th>j_neut</th>\n",
       "      <th>j_pos</th>\n",
       "      <th>j_neg</th>\n",
       "      <th>train_size</th>\n",
       "      <th>test_size</th>\n",
       "      <th>obs</th>\n",
       "      <th>...</th>\n",
       "      <th>const</th>\n",
       "      <th>close_lag_1_coef</th>\n",
       "      <th>sum_sentiment_0_coef</th>\n",
       "      <th>sum_sentiment_1_coef</th>\n",
       "      <th>const_p</th>\n",
       "      <th>close_lag_1_p</th>\n",
       "      <th>sum_sentiment_0_p</th>\n",
       "      <th>sum_sentiment_1_p</th>\n",
       "      <th>r2</th>\n",
       "      <th>nobs</th>\n",
       "    </tr>\n",
       "  </thead>\n",
       "  <tbody>\n",
       "    <tr>\n",
       "      <th>0</th>\n",
       "      <td>0</td>\n",
       "      <td>tgka</td>\n",
       "      <td>1</td>\n",
       "      <td>5</td>\n",
       "      <td>0.2</td>\n",
       "      <td>2</td>\n",
       "      <td>2</td>\n",
       "      <td>82884</td>\n",
       "      <td>442</td>\n",
       "      <td>441</td>\n",
       "      <td>...</td>\n",
       "      <td>0.000226</td>\n",
       "      <td>0.968630</td>\n",
       "      <td>0.000073</td>\n",
       "      <td>0.000221</td>\n",
       "      <td>0.255588</td>\n",
       "      <td>1.938864e-132</td>\n",
       "      <td>0.640492</td>\n",
       "      <td>0.232602</td>\n",
       "      <td>0.941409</td>\n",
       "      <td>217</td>\n",
       "    </tr>\n",
       "    <tr>\n",
       "      <th>1</th>\n",
       "      <td>1</td>\n",
       "      <td>tgka</td>\n",
       "      <td>1</td>\n",
       "      <td>10</td>\n",
       "      <td>0.2</td>\n",
       "      <td>2</td>\n",
       "      <td>2</td>\n",
       "      <td>82884</td>\n",
       "      <td>442</td>\n",
       "      <td>441</td>\n",
       "      <td>...</td>\n",
       "      <td>0.000186</td>\n",
       "      <td>0.968696</td>\n",
       "      <td>0.000110</td>\n",
       "      <td>0.000323</td>\n",
       "      <td>0.339980</td>\n",
       "      <td>8.622856e-133</td>\n",
       "      <td>0.467298</td>\n",
       "      <td>0.080363</td>\n",
       "      <td>0.941868</td>\n",
       "      <td>217</td>\n",
       "    </tr>\n",
       "    <tr>\n",
       "      <th>2</th>\n",
       "      <td>2</td>\n",
       "      <td>tgka</td>\n",
       "      <td>1</td>\n",
       "      <td>15</td>\n",
       "      <td>0.2</td>\n",
       "      <td>2</td>\n",
       "      <td>2</td>\n",
       "      <td>82884</td>\n",
       "      <td>442</td>\n",
       "      <td>441</td>\n",
       "      <td>...</td>\n",
       "      <td>0.000169</td>\n",
       "      <td>0.966554</td>\n",
       "      <td>0.000168</td>\n",
       "      <td>0.000363</td>\n",
       "      <td>0.368229</td>\n",
       "      <td>3.381964e-131</td>\n",
       "      <td>0.268638</td>\n",
       "      <td>0.056595</td>\n",
       "      <td>0.941974</td>\n",
       "      <td>217</td>\n",
       "    </tr>\n",
       "    <tr>\n",
       "      <th>3</th>\n",
       "      <td>3</td>\n",
       "      <td>tgka</td>\n",
       "      <td>1</td>\n",
       "      <td>21</td>\n",
       "      <td>0.2</td>\n",
       "      <td>2</td>\n",
       "      <td>2</td>\n",
       "      <td>82884</td>\n",
       "      <td>442</td>\n",
       "      <td>441</td>\n",
       "      <td>...</td>\n",
       "      <td>0.000161</td>\n",
       "      <td>0.967426</td>\n",
       "      <td>0.000173</td>\n",
       "      <td>0.000385</td>\n",
       "      <td>0.390951</td>\n",
       "      <td>1.787427e-131</td>\n",
       "      <td>0.247596</td>\n",
       "      <td>0.053947</td>\n",
       "      <td>0.941997</td>\n",
       "      <td>217</td>\n",
       "    </tr>\n",
       "    <tr>\n",
       "      <th>4</th>\n",
       "      <td>4</td>\n",
       "      <td>tgka</td>\n",
       "      <td>1</td>\n",
       "      <td>28</td>\n",
       "      <td>0.2</td>\n",
       "      <td>2</td>\n",
       "      <td>2</td>\n",
       "      <td>82884</td>\n",
       "      <td>442</td>\n",
       "      <td>441</td>\n",
       "      <td>...</td>\n",
       "      <td>0.000183</td>\n",
       "      <td>0.966629</td>\n",
       "      <td>0.000187</td>\n",
       "      <td>0.000205</td>\n",
       "      <td>0.339371</td>\n",
       "      <td>1.300220e-130</td>\n",
       "      <td>0.227627</td>\n",
       "      <td>0.287994</td>\n",
       "      <td>0.941425</td>\n",
       "      <td>217</td>\n",
       "    </tr>\n",
       "  </tbody>\n",
       "</table>\n",
       "<p>5 rows × 35 columns</p>\n",
       "</div>"
      ],
      "text/plain": [
       "   counter ticker  date  min_df  j_neut  j_pos  j_neg  train_size  test_size  \\\n",
       "0        0   tgka     1       5     0.2      2      2       82884        442   \n",
       "1        1   tgka     1      10     0.2      2      2       82884        442   \n",
       "2        2   tgka     1      15     0.2      2      2       82884        442   \n",
       "3        3   tgka     1      21     0.2      2      2       82884        442   \n",
       "4        4   tgka     1      28     0.2      2      2       82884        442   \n",
       "\n",
       "   obs  ...     const  close_lag_1_coef  sum_sentiment_0_coef  \\\n",
       "0  441  ...  0.000226          0.968630              0.000073   \n",
       "1  441  ...  0.000186          0.968696              0.000110   \n",
       "2  441  ...  0.000169          0.966554              0.000168   \n",
       "3  441  ...  0.000161          0.967426              0.000173   \n",
       "4  441  ...  0.000183          0.966629              0.000187   \n",
       "\n",
       "   sum_sentiment_1_coef   const_p  close_lag_1_p  sum_sentiment_0_p  \\\n",
       "0              0.000221  0.255588  1.938864e-132           0.640492   \n",
       "1              0.000323  0.339980  8.622856e-133           0.467298   \n",
       "2              0.000363  0.368229  3.381964e-131           0.268638   \n",
       "3              0.000385  0.390951  1.787427e-131           0.247596   \n",
       "4              0.000205  0.339371  1.300220e-130           0.227627   \n",
       "\n",
       "   sum_sentiment_1_p        r2  nobs  \n",
       "0           0.232602  0.941409   217  \n",
       "1           0.080363  0.941868   217  \n",
       "2           0.056595  0.941974   217  \n",
       "3           0.053947  0.941997   217  \n",
       "4           0.287994  0.941425   217  \n",
       "\n",
       "[5 rows x 35 columns]"
      ]
     },
     "execution_count": 443,
     "metadata": {},
     "output_type": "execute_result"
    }
   ],
   "source": [
    "import pandas as pd\n",
    "df = pd.read_excel(r'C:\\Users\\ВТБ\\Desktop\\Результаты\\mfd\\Nb\\mfd_nb_model_ind_final (2).xlsx')\n",
    "df.head()"
   ]
  },
  {
   "cell_type": "code",
   "execution_count": 444,
   "metadata": {},
   "outputs": [
    {
     "data": {
      "text/plain": [
       "Index(['counter', 'ticker', 'date', 'min_df', 'j_neut', 'j_pos', 'j_neg',\n",
       "       'train_size', 'test_size', 'obs', 'bh', 'original_return_isna_all',\n",
       "       'model_return_isna_all', 'model_return_isna_short',\n",
       "       'model_return_isna_long', 'model_diver_return_isna_all',\n",
       "       'model_diver_return_isna_short', 'model_diver_return_isna_long',\n",
       "       'train_accuracy', 'train_precision_macro', 'train_precision_micro',\n",
       "       'train_recall_micro', 'train_recall_macro', 'train_f1_micro',\n",
       "       'train_f1_macro', 'const', 'close_lag_1_coef', 'sum_sentiment_0_coef',\n",
       "       'sum_sentiment_1_coef', 'const_p', 'close_lag_1_p', 'sum_sentiment_0_p',\n",
       "       'sum_sentiment_1_p', 'r2', 'nobs'],\n",
       "      dtype='object')"
      ]
     },
     "execution_count": 444,
     "metadata": {},
     "output_type": "execute_result"
    }
   ],
   "source": [
    "df.columns"
   ]
  },
  {
   "cell_type": "code",
   "execution_count": 445,
   "metadata": {},
   "outputs": [],
   "source": [
    "df['min_p'] = df[['sum_sentiment_0_p', 'sum_sentiment_1_p']].min(axis=1)\n",
    "df['max_p'] = df[['sum_sentiment_0_p', 'sum_sentiment_1_p']].max(axis=1)"
   ]
  },
  {
   "cell_type": "code",
   "execution_count": 446,
   "metadata": {},
   "outputs": [],
   "source": [
    "min_p_values = df[df.min_p<=0.05][['ticker', 'max_p']].groupby('ticker').min().sort_values('max_p').reset_index()"
   ]
  },
  {
   "cell_type": "code",
   "execution_count": 447,
   "metadata": {},
   "outputs": [],
   "source": [
    "df_min = df[['ticker', 'bh', 'model_return_isna_all', 'const','close_lag_1_coef','sum_sentiment_0_coef','sum_sentiment_1_coef','const_p','close_lag_1_p','sum_sentiment_0_p','sum_sentiment_1_p','r2','nobs']].merge(min_p_values, how='inner')"
   ]
  },
  {
   "cell_type": "code",
   "execution_count": 448,
   "metadata": {},
   "outputs": [],
   "source": [
    "df_min['delta'] = df_min.model_return_isna_all - df_min.bh"
   ]
  },
  {
   "cell_type": "code",
   "execution_count": 449,
   "metadata": {},
   "outputs": [],
   "source": [
    "df_delta = df_min[['ticker', 'delta']].groupby('ticker').max().sort_values('delta').reset_index()"
   ]
  },
  {
   "cell_type": "code",
   "execution_count": 450,
   "metadata": {},
   "outputs": [],
   "source": [
    "df_fin = df_min[['ticker', 'bh', 'model_return_isna_all', 'const','close_lag_1_coef','sum_sentiment_0_coef','sum_sentiment_1_coef','const_p','close_lag_1_p','sum_sentiment_0_p','sum_sentiment_1_p','r2','nobs', 'delta']].merge(df_delta, on=['ticker', 'delta'], how='inner')"
   ]
  },
  {
   "cell_type": "code",
   "execution_count": 451,
   "metadata": {},
   "outputs": [
    {
     "data": {
      "text/plain": [
       "12.936156993079951"
      ]
     },
     "execution_count": 451,
     "metadata": {},
     "output_type": "execute_result"
    }
   ],
   "source": [
    "df_fin.bh.median()"
   ]
  },
  {
   "cell_type": "code",
   "execution_count": 452,
   "metadata": {},
   "outputs": [
    {
     "data": {
      "text/plain": [
       "101.33694010748658"
      ]
     },
     "execution_count": 452,
     "metadata": {},
     "output_type": "execute_result"
    }
   ],
   "source": [
    "df_fin.model_return_isna_all.median()"
   ]
  },
  {
   "cell_type": "markdown",
   "metadata": {},
   "source": [
    "#### Со всеми коэфами"
   ]
  },
  {
   "cell_type": "code",
   "execution_count": 453,
   "metadata": {},
   "outputs": [],
   "source": [
    "df['min_p'] = df[['sum_sentiment_0_p', 'sum_sentiment_1_p']].min(axis=1)\n",
    "df['max_p'] = df[['sum_sentiment_0_p', 'sum_sentiment_1_p']].max(axis=1)"
   ]
  },
  {
   "cell_type": "code",
   "execution_count": 454,
   "metadata": {},
   "outputs": [],
   "source": [
    "df_min = df[df.min_p<0.05]"
   ]
  },
  {
   "cell_type": "code",
   "execution_count": 455,
   "metadata": {},
   "outputs": [
    {
     "name": "stderr",
     "output_type": "stream",
     "text": [
      "C:\\ProgramData\\Anaconda3\\lib\\site-packages\\ipykernel_launcher.py:1: SettingWithCopyWarning: \n",
      "A value is trying to be set on a copy of a slice from a DataFrame.\n",
      "Try using .loc[row_indexer,col_indexer] = value instead\n",
      "\n",
      "See the caveats in the documentation: https://pandas.pydata.org/pandas-docs/stable/user_guide/indexing.html#returning-a-view-versus-a-copy\n",
      "  \"\"\"Entry point for launching an IPython kernel.\n"
     ]
    }
   ],
   "source": [
    "df_min['delta'] = df_min.model_return_isna_all - df_min.bh"
   ]
  },
  {
   "cell_type": "code",
   "execution_count": 456,
   "metadata": {},
   "outputs": [],
   "source": [
    "df_delta = df_min[['ticker', 'delta']].groupby('ticker').max().sort_values('delta').reset_index()"
   ]
  },
  {
   "cell_type": "code",
   "execution_count": 457,
   "metadata": {},
   "outputs": [],
   "source": [
    "df_fin = df_min.merge(df_delta, on=['ticker', 'delta'], how='inner')"
   ]
  },
  {
   "cell_type": "code",
   "execution_count": 458,
   "metadata": {},
   "outputs": [
    {
     "name": "stderr",
     "output_type": "stream",
     "text": [
      "C:\\ProgramData\\Anaconda3\\lib\\site-packages\\ipykernel_launcher.py:2: SettingWithCopyWarning: \n",
      "A value is trying to be set on a copy of a slice from a DataFrame\n",
      "\n",
      "See the caveats in the documentation: https://pandas.pydata.org/pandas-docs/stable/user_guide/indexing.html#returning-a-view-versus-a-copy\n",
      "  \n",
      "C:\\ProgramData\\Anaconda3\\lib\\site-packages\\ipykernel_launcher.py:3: SettingWithCopyWarning: \n",
      "A value is trying to be set on a copy of a slice from a DataFrame\n",
      "\n",
      "See the caveats in the documentation: https://pandas.pydata.org/pandas-docs/stable/user_guide/indexing.html#returning-a-view-versus-a-copy\n",
      "  This is separate from the ipykernel package so we can avoid doing imports until\n",
      "C:\\ProgramData\\Anaconda3\\lib\\site-packages\\ipykernel_launcher.py:4: SettingWithCopyWarning: \n",
      "A value is trying to be set on a copy of a slice from a DataFrame\n",
      "\n",
      "See the caveats in the documentation: https://pandas.pydata.org/pandas-docs/stable/user_guide/indexing.html#returning-a-view-versus-a-copy\n",
      "  after removing the cwd from sys.path.\n",
      "C:\\ProgramData\\Anaconda3\\lib\\site-packages\\ipykernel_launcher.py:5: SettingWithCopyWarning: \n",
      "A value is trying to be set on a copy of a slice from a DataFrame\n",
      "\n",
      "See the caveats in the documentation: https://pandas.pydata.org/pandas-docs/stable/user_guide/indexing.html#returning-a-view-versus-a-copy\n",
      "  \"\"\"\n"
     ]
    }
   ],
   "source": [
    "df_fin['const_p_ast'] = None\n",
    "df_fin['const_p_ast'][(df_fin.const_p<=0.001)&(df_fin.const_p_ast.isna()==True)] = '***'\n",
    "df_fin['const_p_ast'][(df_fin.const_p<=0.01)&(df_fin.const_p_ast.isna()==True)] = '**'\n",
    "df_fin['const_p_ast'][(df_fin.const_p<=0.05)&(df_fin.const_p_ast.isna()==True)] = '*'\n",
    "df_fin['const_p_ast'][(df_fin.const_p>0.05)&(df_fin.const_p_ast.isna()==True)] = '(ns)'"
   ]
  },
  {
   "cell_type": "code",
   "execution_count": 459,
   "metadata": {},
   "outputs": [],
   "source": [
    "df_fin.const_p_ast = round(df_fin.const,3).astype(str) + df_fin.const_p_ast"
   ]
  },
  {
   "cell_type": "code",
   "execution_count": 460,
   "metadata": {},
   "outputs": [
    {
     "name": "stderr",
     "output_type": "stream",
     "text": [
      "C:\\ProgramData\\Anaconda3\\lib\\site-packages\\ipykernel_launcher.py:2: SettingWithCopyWarning: \n",
      "A value is trying to be set on a copy of a slice from a DataFrame\n",
      "\n",
      "See the caveats in the documentation: https://pandas.pydata.org/pandas-docs/stable/user_guide/indexing.html#returning-a-view-versus-a-copy\n",
      "  \n",
      "C:\\ProgramData\\Anaconda3\\lib\\site-packages\\ipykernel_launcher.py:3: SettingWithCopyWarning: \n",
      "A value is trying to be set on a copy of a slice from a DataFrame\n",
      "\n",
      "See the caveats in the documentation: https://pandas.pydata.org/pandas-docs/stable/user_guide/indexing.html#returning-a-view-versus-a-copy\n",
      "  This is separate from the ipykernel package so we can avoid doing imports until\n",
      "C:\\ProgramData\\Anaconda3\\lib\\site-packages\\ipykernel_launcher.py:4: SettingWithCopyWarning: \n",
      "A value is trying to be set on a copy of a slice from a DataFrame\n",
      "\n",
      "See the caveats in the documentation: https://pandas.pydata.org/pandas-docs/stable/user_guide/indexing.html#returning-a-view-versus-a-copy\n",
      "  after removing the cwd from sys.path.\n",
      "C:\\ProgramData\\Anaconda3\\lib\\site-packages\\ipykernel_launcher.py:5: SettingWithCopyWarning: \n",
      "A value is trying to be set on a copy of a slice from a DataFrame\n",
      "\n",
      "See the caveats in the documentation: https://pandas.pydata.org/pandas-docs/stable/user_guide/indexing.html#returning-a-view-versus-a-copy\n",
      "  \"\"\"\n"
     ]
    }
   ],
   "source": [
    "df_fin['close_lag_1_p_ast'] = None\n",
    "df_fin['close_lag_1_p_ast'][(df_fin.close_lag_1_p<=0.001)&(df_fin.close_lag_1_p_ast.isna()==True)] = '***'\n",
    "df_fin['close_lag_1_p_ast'][(df_fin.close_lag_1_p<=0.01)&(df_fin.close_lag_1_p_ast.isna()==True)] = '**'\n",
    "df_fin['close_lag_1_p_ast'][(df_fin.close_lag_1_p<=0.05)&(df_fin.close_lag_1_p_ast.isna()==True)] = '*'\n",
    "df_fin['close_lag_1_p_ast'][(df_fin.close_lag_1_p>0.05)&(df_fin.close_lag_1_p_ast.isna()==True)] = '(ns)'"
   ]
  },
  {
   "cell_type": "code",
   "execution_count": 461,
   "metadata": {},
   "outputs": [],
   "source": [
    "df_fin.close_lag_1_p_ast = round(df_fin.close_lag_1_coef,3).astype(str) + df_fin.close_lag_1_p_ast"
   ]
  },
  {
   "cell_type": "code",
   "execution_count": 462,
   "metadata": {},
   "outputs": [
    {
     "name": "stderr",
     "output_type": "stream",
     "text": [
      "C:\\ProgramData\\Anaconda3\\lib\\site-packages\\ipykernel_launcher.py:2: SettingWithCopyWarning: \n",
      "A value is trying to be set on a copy of a slice from a DataFrame\n",
      "\n",
      "See the caveats in the documentation: https://pandas.pydata.org/pandas-docs/stable/user_guide/indexing.html#returning-a-view-versus-a-copy\n",
      "  \n",
      "C:\\ProgramData\\Anaconda3\\lib\\site-packages\\ipykernel_launcher.py:3: SettingWithCopyWarning: \n",
      "A value is trying to be set on a copy of a slice from a DataFrame\n",
      "\n",
      "See the caveats in the documentation: https://pandas.pydata.org/pandas-docs/stable/user_guide/indexing.html#returning-a-view-versus-a-copy\n",
      "  This is separate from the ipykernel package so we can avoid doing imports until\n",
      "C:\\ProgramData\\Anaconda3\\lib\\site-packages\\ipykernel_launcher.py:4: SettingWithCopyWarning: \n",
      "A value is trying to be set on a copy of a slice from a DataFrame\n",
      "\n",
      "See the caveats in the documentation: https://pandas.pydata.org/pandas-docs/stable/user_guide/indexing.html#returning-a-view-versus-a-copy\n",
      "  after removing the cwd from sys.path.\n",
      "C:\\ProgramData\\Anaconda3\\lib\\site-packages\\ipykernel_launcher.py:5: SettingWithCopyWarning: \n",
      "A value is trying to be set on a copy of a slice from a DataFrame\n",
      "\n",
      "See the caveats in the documentation: https://pandas.pydata.org/pandas-docs/stable/user_guide/indexing.html#returning-a-view-versus-a-copy\n",
      "  \"\"\"\n"
     ]
    }
   ],
   "source": [
    "df_fin['sum_sentiment_1_p_ast'] = None\n",
    "df_fin['sum_sentiment_1_p_ast'][(df_fin.sum_sentiment_1_p<=0.001)&(df_fin.sum_sentiment_1_p_ast.isna()==True)] = '***'\n",
    "df_fin['sum_sentiment_1_p_ast'][(df_fin.sum_sentiment_1_p<=0.01)&(df_fin.sum_sentiment_1_p_ast.isna()==True)] = '**'\n",
    "df_fin['sum_sentiment_1_p_ast'][(df_fin.sum_sentiment_1_p<=0.05)&(df_fin.sum_sentiment_1_p_ast.isna()==True)] = '*'\n",
    "df_fin['sum_sentiment_1_p_ast'][(df_fin.sum_sentiment_1_p>0.05)&(df_fin.sum_sentiment_1_p_ast.isna()==True)] = '(ns)'"
   ]
  },
  {
   "cell_type": "code",
   "execution_count": 463,
   "metadata": {},
   "outputs": [],
   "source": [
    "df_fin.sum_sentiment_1_p_ast = round(df_fin.sum_sentiment_1_coef,3).astype(str) + df_fin.sum_sentiment_1_p_ast"
   ]
  },
  {
   "cell_type": "code",
   "execution_count": 464,
   "metadata": {},
   "outputs": [
    {
     "name": "stderr",
     "output_type": "stream",
     "text": [
      "C:\\ProgramData\\Anaconda3\\lib\\site-packages\\ipykernel_launcher.py:2: SettingWithCopyWarning: \n",
      "A value is trying to be set on a copy of a slice from a DataFrame\n",
      "\n",
      "See the caveats in the documentation: https://pandas.pydata.org/pandas-docs/stable/user_guide/indexing.html#returning-a-view-versus-a-copy\n",
      "  \n",
      "C:\\ProgramData\\Anaconda3\\lib\\site-packages\\ipykernel_launcher.py:3: SettingWithCopyWarning: \n",
      "A value is trying to be set on a copy of a slice from a DataFrame\n",
      "\n",
      "See the caveats in the documentation: https://pandas.pydata.org/pandas-docs/stable/user_guide/indexing.html#returning-a-view-versus-a-copy\n",
      "  This is separate from the ipykernel package so we can avoid doing imports until\n",
      "C:\\ProgramData\\Anaconda3\\lib\\site-packages\\ipykernel_launcher.py:4: SettingWithCopyWarning: \n",
      "A value is trying to be set on a copy of a slice from a DataFrame\n",
      "\n",
      "See the caveats in the documentation: https://pandas.pydata.org/pandas-docs/stable/user_guide/indexing.html#returning-a-view-versus-a-copy\n",
      "  after removing the cwd from sys.path.\n",
      "C:\\ProgramData\\Anaconda3\\lib\\site-packages\\ipykernel_launcher.py:5: SettingWithCopyWarning: \n",
      "A value is trying to be set on a copy of a slice from a DataFrame\n",
      "\n",
      "See the caveats in the documentation: https://pandas.pydata.org/pandas-docs/stable/user_guide/indexing.html#returning-a-view-versus-a-copy\n",
      "  \"\"\"\n"
     ]
    }
   ],
   "source": [
    "df_fin['sum_sentiment_0_p_ast'] = None\n",
    "df_fin['sum_sentiment_0_p_ast'][(df_fin.sum_sentiment_0_p<=0.001)&(df_fin.sum_sentiment_0_p_ast.isna()==True)] = '***'\n",
    "df_fin['sum_sentiment_0_p_ast'][(df_fin.sum_sentiment_0_p<=0.01)&(df_fin.sum_sentiment_0_p_ast.isna()==True)] = '**'\n",
    "df_fin['sum_sentiment_0_p_ast'][(df_fin.sum_sentiment_0_p<=0.05)&(df_fin.sum_sentiment_0_p_ast.isna()==True)] = '*'\n",
    "df_fin['sum_sentiment_0_p_ast'][(df_fin.sum_sentiment_0_p>0.05)&(df_fin.sum_sentiment_0_p_ast.isna()==True)] = '(ns)'"
   ]
  },
  {
   "cell_type": "code",
   "execution_count": 465,
   "metadata": {},
   "outputs": [],
   "source": [
    "df_fin.sum_sentiment_0_p_ast = round(df_fin.sum_sentiment_0_coef, 3).astype(str) + df_fin.sum_sentiment_0_p_ast\n"
   ]
  },
  {
   "cell_type": "code",
   "execution_count": 466,
   "metadata": {},
   "outputs": [
    {
     "data": {
      "text/plain": [
       "Index(['counter', 'ticker', 'date', 'min_df', 'j_neut', 'j_pos', 'j_neg',\n",
       "       'train_size', 'test_size', 'obs', 'bh', 'original_return_isna_all',\n",
       "       'model_return_isna_all', 'model_return_isna_short',\n",
       "       'model_return_isna_long', 'model_diver_return_isna_all',\n",
       "       'model_diver_return_isna_short', 'model_diver_return_isna_long',\n",
       "       'train_accuracy', 'train_precision_macro', 'train_precision_micro',\n",
       "       'train_recall_micro', 'train_recall_macro', 'train_f1_micro',\n",
       "       'train_f1_macro', 'const', 'close_lag_1_coef', 'sum_sentiment_0_coef',\n",
       "       'sum_sentiment_1_coef', 'const_p', 'close_lag_1_p', 'sum_sentiment_0_p',\n",
       "       'sum_sentiment_1_p', 'r2', 'nobs', 'min_p', 'max_p', 'delta',\n",
       "       'const_p_ast', 'close_lag_1_p_ast', 'sum_sentiment_1_p_ast',\n",
       "       'sum_sentiment_0_p_ast'],\n",
       "      dtype='object')"
      ]
     },
     "execution_count": 466,
     "metadata": {},
     "output_type": "execute_result"
    }
   ],
   "source": [
    "df_fin.columns"
   ]
  },
  {
   "cell_type": "code",
   "execution_count": null,
   "metadata": {},
   "outputs": [],
   "source": []
  },
  {
   "cell_type": "code",
   "execution_count": 467,
   "metadata": {},
   "outputs": [],
   "source": [
    "df_fin.to_excel('mfd_final.xlsx')"
   ]
  },
  {
   "cell_type": "code",
   "execution_count": 204,
   "metadata": {},
   "outputs": [
    {
     "data": {
      "text/plain": [
       "95"
      ]
     },
     "execution_count": 204,
     "metadata": {},
     "output_type": "execute_result"
    }
   ],
   "source": [
    "df_fin.test_size.min()"
   ]
  },
  {
   "cell_type": "code",
   "execution_count": 258,
   "metadata": {},
   "outputs": [
    {
     "data": {
      "text/plain": [
       "(58, 42)"
      ]
     },
     "execution_count": 258,
     "metadata": {},
     "output_type": "execute_result"
    }
   ],
   "source": [
    "df_fin.shape"
   ]
  },
  {
   "cell_type": "code",
   "execution_count": 257,
   "metadata": {},
   "outputs": [
    {
     "data": {
      "text/plain": [
       "(44, 42)"
      ]
     },
     "execution_count": 257,
     "metadata": {},
     "output_type": "execute_result"
    }
   ],
   "source": [
    "df_fin[df_fin.model_return_isna_all>df_fin.bh].shape"
   ]
  },
  {
   "cell_type": "code",
   "execution_count": 209,
   "metadata": {},
   "outputs": [
    {
     "data": {
      "text/plain": [
       "(2, 42)"
      ]
     },
     "execution_count": 209,
     "metadata": {},
     "output_type": "execute_result"
    }
   ],
   "source": [
    "df_fin[(df_fin.sum_sentiment_0_p<=0.05)&(df_fin.sum_sentiment_1_p<=0.05)].shape"
   ]
  },
  {
   "cell_type": "code",
   "execution_count": 260,
   "metadata": {},
   "outputs": [
    {
     "data": {
      "text/html": [
       "<div>\n",
       "<style scoped>\n",
       "    .dataframe tbody tr th:only-of-type {\n",
       "        vertical-align: middle;\n",
       "    }\n",
       "\n",
       "    .dataframe tbody tr th {\n",
       "        vertical-align: top;\n",
       "    }\n",
       "\n",
       "    .dataframe thead th {\n",
       "        text-align: right;\n",
       "    }\n",
       "</style>\n",
       "<table border=\"1\" class=\"dataframe\">\n",
       "  <thead>\n",
       "    <tr style=\"text-align: right;\">\n",
       "      <th></th>\n",
       "      <th>index</th>\n",
       "      <th>Buy &amp; Hold</th>\n",
       "      <th>Cтратегия</th>\n",
       "      <th>Cтратегия с дивергенцией</th>\n",
       "    </tr>\n",
       "  </thead>\n",
       "  <tbody>\n",
       "    <tr>\n",
       "      <th>0</th>\n",
       "      <td>count</td>\n",
       "      <td>58.000000</td>\n",
       "      <td>58.000000</td>\n",
       "      <td>58.000000</td>\n",
       "    </tr>\n",
       "    <tr>\n",
       "      <th>1</th>\n",
       "      <td>mean</td>\n",
       "      <td>24.345917</td>\n",
       "      <td>88.453094</td>\n",
       "      <td>63.908012</td>\n",
       "    </tr>\n",
       "    <tr>\n",
       "      <th>2</th>\n",
       "      <td>std</td>\n",
       "      <td>55.985844</td>\n",
       "      <td>88.593685</td>\n",
       "      <td>64.994969</td>\n",
       "    </tr>\n",
       "    <tr>\n",
       "      <th>3</th>\n",
       "      <td>min</td>\n",
       "      <td>-66.136364</td>\n",
       "      <td>-21.744800</td>\n",
       "      <td>-15.379577</td>\n",
       "    </tr>\n",
       "    <tr>\n",
       "      <th>4</th>\n",
       "      <td>25%</td>\n",
       "      <td>-10.963355</td>\n",
       "      <td>31.774138</td>\n",
       "      <td>23.776644</td>\n",
       "    </tr>\n",
       "    <tr>\n",
       "      <th>5</th>\n",
       "      <td>50%</td>\n",
       "      <td>11.185665</td>\n",
       "      <td>60.964897</td>\n",
       "      <td>38.643378</td>\n",
       "    </tr>\n",
       "    <tr>\n",
       "      <th>6</th>\n",
       "      <td>75%</td>\n",
       "      <td>38.801745</td>\n",
       "      <td>113.437351</td>\n",
       "      <td>81.811266</td>\n",
       "    </tr>\n",
       "    <tr>\n",
       "      <th>7</th>\n",
       "      <td>max</td>\n",
       "      <td>238.121118</td>\n",
       "      <td>321.883163</td>\n",
       "      <td>294.499837</td>\n",
       "    </tr>\n",
       "  </tbody>\n",
       "</table>\n",
       "</div>"
      ],
      "text/plain": [
       "   index  Buy & Hold   Cтратегия  Cтратегия с дивергенцией\n",
       "0  count   58.000000   58.000000                 58.000000\n",
       "1   mean   24.345917   88.453094                 63.908012\n",
       "2    std   55.985844   88.593685                 64.994969\n",
       "3    min  -66.136364  -21.744800                -15.379577\n",
       "4    25%  -10.963355   31.774138                 23.776644\n",
       "5    50%   11.185665   60.964897                 38.643378\n",
       "6    75%   38.801745  113.437351                 81.811266\n",
       "7    max  238.121118  321.883163                294.499837"
      ]
     },
     "execution_count": 260,
     "metadata": {},
     "output_type": "execute_result"
    }
   ],
   "source": [
    "df_fin[['bh', 'model_return_isna_all', 'model_diver_return_isna_all']].describe().\\\n",
    "rename(columns={'bh':'Buy & Hold', 'model_return_isna_all':'Cтратегия', 'model_diver_return_isna_all':'Cтратегия с дивергенцией'}).reset_index()"
   ]
  },
  {
   "cell_type": "code",
   "execution_count": 262,
   "metadata": {},
   "outputs": [],
   "source": [
    "df_fin[['bh', 'model_return_isna_all', 'model_diver_return_isna_all']].describe().\\\n",
    "rename(columns={'bh':'Buy & Hold', 'model_return_isna_all':'Cтратегия', 'model_diver_return_isna_all':'Cтратегия с дивергенцией'}).reset_index().to_excel('mfd_sharpe.xlsx')"
   ]
  },
  {
   "cell_type": "code",
   "execution_count": 263,
   "metadata": {},
   "outputs": [
    {
     "data": {
      "text/html": [
       "<div>\n",
       "<style scoped>\n",
       "    .dataframe tbody tr th:only-of-type {\n",
       "        vertical-align: middle;\n",
       "    }\n",
       "\n",
       "    .dataframe tbody tr th {\n",
       "        vertical-align: top;\n",
       "    }\n",
       "\n",
       "    .dataframe thead th {\n",
       "        text-align: right;\n",
       "    }\n",
       "</style>\n",
       "<table border=\"1\" class=\"dataframe\">\n",
       "  <thead>\n",
       "    <tr style=\"text-align: right;\">\n",
       "      <th></th>\n",
       "      <th>sum_sentiment_0_coef</th>\n",
       "      <th>sum_sentiment_1_coef</th>\n",
       "    </tr>\n",
       "  </thead>\n",
       "  <tbody>\n",
       "    <tr>\n",
       "      <th>sum_sentiment_0_coef</th>\n",
       "      <td>1.000000</td>\n",
       "      <td>0.923748</td>\n",
       "    </tr>\n",
       "    <tr>\n",
       "      <th>sum_sentiment_1_coef</th>\n",
       "      <td>0.923748</td>\n",
       "      <td>1.000000</td>\n",
       "    </tr>\n",
       "  </tbody>\n",
       "</table>\n",
       "</div>"
      ],
      "text/plain": [
       "                      sum_sentiment_0_coef  sum_sentiment_1_coef\n",
       "sum_sentiment_0_coef              1.000000              0.923748\n",
       "sum_sentiment_1_coef              0.923748              1.000000"
      ]
     },
     "execution_count": 263,
     "metadata": {},
     "output_type": "execute_result"
    }
   ],
   "source": [
    "df_fin[['sum_sentiment_0_coef', 'sum_sentiment_1_coef']].corr()"
   ]
  },
  {
   "cell_type": "code",
   "execution_count": null,
   "metadata": {},
   "outputs": [],
   "source": []
  },
  {
   "cell_type": "markdown",
   "metadata": {},
   "source": [
    "#### Mag"
   ]
  },
  {
   "cell_type": "code",
   "execution_count": 282,
   "metadata": {},
   "outputs": [
    {
     "data": {
      "text/html": [
       "<div>\n",
       "<style scoped>\n",
       "    .dataframe tbody tr th:only-of-type {\n",
       "        vertical-align: middle;\n",
       "    }\n",
       "\n",
       "    .dataframe tbody tr th {\n",
       "        vertical-align: top;\n",
       "    }\n",
       "\n",
       "    .dataframe thead th {\n",
       "        text-align: right;\n",
       "    }\n",
       "</style>\n",
       "<table border=\"1\" class=\"dataframe\">\n",
       "  <thead>\n",
       "    <tr style=\"text-align: right;\">\n",
       "      <th></th>\n",
       "      <th>counter</th>\n",
       "      <th>ticker</th>\n",
       "      <th>date</th>\n",
       "      <th>min_df</th>\n",
       "      <th>j_neut</th>\n",
       "      <th>j_pos</th>\n",
       "      <th>j_neg</th>\n",
       "      <th>train_size</th>\n",
       "      <th>test_size</th>\n",
       "      <th>obs</th>\n",
       "      <th>...</th>\n",
       "      <th>const</th>\n",
       "      <th>close_lag_1_coef</th>\n",
       "      <th>sum_sentiment_0_coef</th>\n",
       "      <th>sum_sentiment_1_coef</th>\n",
       "      <th>const_p</th>\n",
       "      <th>close_lag_1_p</th>\n",
       "      <th>sum_sentiment_0_p</th>\n",
       "      <th>sum_sentiment_1_p</th>\n",
       "      <th>r2</th>\n",
       "      <th>nobs</th>\n",
       "    </tr>\n",
       "  </thead>\n",
       "  <tbody>\n",
       "    <tr>\n",
       "      <th>0</th>\n",
       "      <td>0</td>\n",
       "      <td>irao</td>\n",
       "      <td>1</td>\n",
       "      <td>5</td>\n",
       "      <td>0.2</td>\n",
       "      <td>4</td>\n",
       "      <td>4</td>\n",
       "      <td>1107</td>\n",
       "      <td>397</td>\n",
       "      <td>396</td>\n",
       "      <td>...</td>\n",
       "      <td>0.022088</td>\n",
       "      <td>0.994947</td>\n",
       "      <td>0.020300</td>\n",
       "      <td>-0.012506</td>\n",
       "      <td>0.313966</td>\n",
       "      <td>0.0</td>\n",
       "      <td>0.380224</td>\n",
       "      <td>0.618302</td>\n",
       "      <td>0.992291</td>\n",
       "      <td>353</td>\n",
       "    </tr>\n",
       "    <tr>\n",
       "      <th>1</th>\n",
       "      <td>1</td>\n",
       "      <td>irao</td>\n",
       "      <td>1</td>\n",
       "      <td>10</td>\n",
       "      <td>0.2</td>\n",
       "      <td>4</td>\n",
       "      <td>4</td>\n",
       "      <td>1107</td>\n",
       "      <td>397</td>\n",
       "      <td>396</td>\n",
       "      <td>...</td>\n",
       "      <td>-0.002931</td>\n",
       "      <td>0.994336</td>\n",
       "      <td>0.043742</td>\n",
       "      <td>0.035603</td>\n",
       "      <td>0.894072</td>\n",
       "      <td>0.0</td>\n",
       "      <td>0.062147</td>\n",
       "      <td>0.176362</td>\n",
       "      <td>0.992309</td>\n",
       "      <td>353</td>\n",
       "    </tr>\n",
       "    <tr>\n",
       "      <th>2</th>\n",
       "      <td>2</td>\n",
       "      <td>irao</td>\n",
       "      <td>1</td>\n",
       "      <td>15</td>\n",
       "      <td>0.2</td>\n",
       "      <td>4</td>\n",
       "      <td>4</td>\n",
       "      <td>1107</td>\n",
       "      <td>397</td>\n",
       "      <td>396</td>\n",
       "      <td>...</td>\n",
       "      <td>0.007746</td>\n",
       "      <td>0.995122</td>\n",
       "      <td>0.027500</td>\n",
       "      <td>0.022034</td>\n",
       "      <td>0.722614</td>\n",
       "      <td>0.0</td>\n",
       "      <td>0.229077</td>\n",
       "      <td>0.391763</td>\n",
       "      <td>0.992264</td>\n",
       "      <td>353</td>\n",
       "    </tr>\n",
       "    <tr>\n",
       "      <th>3</th>\n",
       "      <td>3</td>\n",
       "      <td>irao</td>\n",
       "      <td>1</td>\n",
       "      <td>25</td>\n",
       "      <td>0.2</td>\n",
       "      <td>4</td>\n",
       "      <td>4</td>\n",
       "      <td>1107</td>\n",
       "      <td>397</td>\n",
       "      <td>396</td>\n",
       "      <td>...</td>\n",
       "      <td>0.020037</td>\n",
       "      <td>0.994978</td>\n",
       "      <td>0.017419</td>\n",
       "      <td>-0.007812</td>\n",
       "      <td>0.391269</td>\n",
       "      <td>0.0</td>\n",
       "      <td>0.473127</td>\n",
       "      <td>0.777790</td>\n",
       "      <td>0.992266</td>\n",
       "      <td>353</td>\n",
       "    </tr>\n",
       "    <tr>\n",
       "      <th>4</th>\n",
       "      <td>4</td>\n",
       "      <td>irao</td>\n",
       "      <td>1</td>\n",
       "      <td>35</td>\n",
       "      <td>0.2</td>\n",
       "      <td>4</td>\n",
       "      <td>4</td>\n",
       "      <td>1107</td>\n",
       "      <td>397</td>\n",
       "      <td>396</td>\n",
       "      <td>...</td>\n",
       "      <td>0.012793</td>\n",
       "      <td>0.994688</td>\n",
       "      <td>0.024740</td>\n",
       "      <td>0.005310</td>\n",
       "      <td>0.594261</td>\n",
       "      <td>0.0</td>\n",
       "      <td>0.329785</td>\n",
       "      <td>0.853725</td>\n",
       "      <td>0.992263</td>\n",
       "      <td>353</td>\n",
       "    </tr>\n",
       "  </tbody>\n",
       "</table>\n",
       "<p>5 rows × 35 columns</p>\n",
       "</div>"
      ],
      "text/plain": [
       "   counter ticker  date  min_df  j_neut  j_pos  j_neg  train_size  test_size  \\\n",
       "0        0   irao     1       5     0.2      4      4        1107        397   \n",
       "1        1   irao     1      10     0.2      4      4        1107        397   \n",
       "2        2   irao     1      15     0.2      4      4        1107        397   \n",
       "3        3   irao     1      25     0.2      4      4        1107        397   \n",
       "4        4   irao     1      35     0.2      4      4        1107        397   \n",
       "\n",
       "   obs  ...     const  close_lag_1_coef  sum_sentiment_0_coef  \\\n",
       "0  396  ...  0.022088          0.994947              0.020300   \n",
       "1  396  ... -0.002931          0.994336              0.043742   \n",
       "2  396  ...  0.007746          0.995122              0.027500   \n",
       "3  396  ...  0.020037          0.994978              0.017419   \n",
       "4  396  ...  0.012793          0.994688              0.024740   \n",
       "\n",
       "   sum_sentiment_1_coef   const_p  close_lag_1_p  sum_sentiment_0_p  \\\n",
       "0             -0.012506  0.313966            0.0           0.380224   \n",
       "1              0.035603  0.894072            0.0           0.062147   \n",
       "2              0.022034  0.722614            0.0           0.229077   \n",
       "3             -0.007812  0.391269            0.0           0.473127   \n",
       "4              0.005310  0.594261            0.0           0.329785   \n",
       "\n",
       "   sum_sentiment_1_p        r2  nobs  \n",
       "0           0.618302  0.992291   353  \n",
       "1           0.176362  0.992309   353  \n",
       "2           0.391763  0.992264   353  \n",
       "3           0.777790  0.992266   353  \n",
       "4           0.853725  0.992263   353  \n",
       "\n",
       "[5 rows x 35 columns]"
      ]
     },
     "execution_count": 282,
     "metadata": {},
     "output_type": "execute_result"
    }
   ],
   "source": [
    "import pandas as pd\n",
    "df = pd.read_excel(r'C:\\Users\\ВТБ\\Desktop\\Результаты\\mag\\Nb\\mag_nb_model_ind_final14.xlsx')\n",
    "df.head()"
   ]
  },
  {
   "cell_type": "code",
   "execution_count": 283,
   "metadata": {},
   "outputs": [],
   "source": [
    "df0 = pd.concat([df0, df])"
   ]
  },
  {
   "cell_type": "code",
   "execution_count": 288,
   "metadata": {},
   "outputs": [
    {
     "data": {
      "text/plain": [
       "(1442, 37)"
      ]
     },
     "execution_count": 288,
     "metadata": {},
     "output_type": "execute_result"
    }
   ],
   "source": [
    "df0.shape"
   ]
  },
  {
   "cell_type": "code",
   "execution_count": 285,
   "metadata": {},
   "outputs": [
    {
     "data": {
      "text/plain": [
       "(236, 35)"
      ]
     },
     "execution_count": 285,
     "metadata": {},
     "output_type": "execute_result"
    }
   ],
   "source": [
    "df.shape"
   ]
  },
  {
   "cell_type": "code",
   "execution_count": 219,
   "metadata": {},
   "outputs": [
    {
     "data": {
      "text/plain": [
       "Index(['counter', 'ticker', 'date', 'min_df', 'j_neut', 'j_pos', 'j_neg',\n",
       "       'train_size', 'test_size', 'obs', 'bh', 'original_return_isna_all',\n",
       "       'model_return_isna_all', 'model_return_isna_short',\n",
       "       'model_return_isna_long', 'model_diver_return_isna_all',\n",
       "       'model_diver_return_isna_short', 'model_diver_return_isna_long',\n",
       "       'train_accuracy', 'train_precision_macro', 'train_precision_micro',\n",
       "       'train_recall_micro', 'train_recall_macro', 'train_f1_micro',\n",
       "       'train_f1_macro', 'const', 'close_lag_1_coef', 'sum_sentiment_0_coef',\n",
       "       'sum_sentiment_1_coef', 'const_p', 'close_lag_1_p', 'sum_sentiment_0_p',\n",
       "       'sum_sentiment_1_p', 'r2', 'nobs'],\n",
       "      dtype='object')"
      ]
     },
     "execution_count": 219,
     "metadata": {},
     "output_type": "execute_result"
    }
   ],
   "source": [
    "df.columns"
   ]
  },
  {
   "cell_type": "code",
   "execution_count": 286,
   "metadata": {},
   "outputs": [],
   "source": [
    "df['min_p'] = df[['sum_sentiment_0_p', 'sum_sentiment_1_p']].min(axis=1)\n",
    "df['max_p'] = df[['sum_sentiment_0_p', 'sum_sentiment_1_p']].max(axis=1)"
   ]
  },
  {
   "cell_type": "code",
   "execution_count": 287,
   "metadata": {},
   "outputs": [],
   "source": [
    "min_p_values = df[df.min_p<=0.05][['ticker', 'max_p']].groupby('ticker').min().sort_values('max_p').reset_index()"
   ]
  },
  {
   "cell_type": "code",
   "execution_count": 222,
   "metadata": {},
   "outputs": [],
   "source": [
    "df_min = df[['ticker', 'bh', 'model_return_isna_all', 'const','close_lag_1_coef','sum_sentiment_0_coef','sum_sentiment_1_coef','const_p','close_lag_1_p','sum_sentiment_0_p','sum_sentiment_1_p','r2','nobs']].merge(min_p_values, how='inner')"
   ]
  },
  {
   "cell_type": "code",
   "execution_count": 223,
   "metadata": {},
   "outputs": [],
   "source": [
    "df_min['delta'] = df_min.model_return_isna_all - df_min.bh"
   ]
  },
  {
   "cell_type": "code",
   "execution_count": 224,
   "metadata": {},
   "outputs": [],
   "source": [
    "df_delta = df_min[['ticker', 'delta']].groupby('ticker').max().sort_values('delta').reset_index()"
   ]
  },
  {
   "cell_type": "code",
   "execution_count": 225,
   "metadata": {},
   "outputs": [],
   "source": [
    "df_fin = df_min[['ticker', 'bh', 'model_return_isna_all', 'const','close_lag_1_coef','sum_sentiment_0_coef','sum_sentiment_1_coef','const_p','close_lag_1_p','sum_sentiment_0_p','sum_sentiment_1_p','r2','nobs', 'delta']].merge(df_delta, on=['ticker', 'delta'], how='inner')"
   ]
  },
  {
   "cell_type": "code",
   "execution_count": 289,
   "metadata": {},
   "outputs": [
    {
     "data": {
      "text/plain": [
       "11.185665365644159"
      ]
     },
     "execution_count": 289,
     "metadata": {},
     "output_type": "execute_result"
    }
   ],
   "source": [
    "df_fin.bh.median()"
   ]
  },
  {
   "cell_type": "code",
   "execution_count": 290,
   "metadata": {},
   "outputs": [
    {
     "data": {
      "text/plain": [
       "60.9648971419915"
      ]
     },
     "execution_count": 290,
     "metadata": {},
     "output_type": "execute_result"
    }
   ],
   "source": [
    "df_fin.model_return_isna_all.median()"
   ]
  },
  {
   "cell_type": "markdown",
   "metadata": {},
   "source": [
    "#### Со всеми коэфами"
   ]
  },
  {
   "cell_type": "code",
   "execution_count": 385,
   "metadata": {},
   "outputs": [],
   "source": [
    "df = df0"
   ]
  },
  {
   "cell_type": "code",
   "execution_count": 397,
   "metadata": {},
   "outputs": [
    {
     "data": {
      "text/plain": [
       "(41,)"
      ]
     },
     "execution_count": 397,
     "metadata": {},
     "output_type": "execute_result"
    }
   ],
   "source": [
    "df.ticker.unique().shape"
   ]
  },
  {
   "cell_type": "code",
   "execution_count": 386,
   "metadata": {},
   "outputs": [],
   "source": [
    "df['min_p'] = df[['sum_sentiment_0_p', 'sum_sentiment_1_p']].min(axis=1)\n",
    "df['max_p'] = df[['sum_sentiment_0_p', 'sum_sentiment_1_p']].max(axis=1)"
   ]
  },
  {
   "cell_type": "code",
   "execution_count": 387,
   "metadata": {},
   "outputs": [],
   "source": [
    "minn = df[['ticker', 'min_p']].groupby('ticker').min().reset_index()"
   ]
  },
  {
   "cell_type": "code",
   "execution_count": 388,
   "metadata": {},
   "outputs": [],
   "source": [
    "maxx = df[['ticker', 'model_return_isna_all']].groupby('ticker').max().reset_index()"
   ]
  },
  {
   "cell_type": "code",
   "execution_count": 389,
   "metadata": {},
   "outputs": [
    {
     "data": {
      "text/plain": [
       "Index(['counter', 'ticker', 'date', 'min_df', 'j_neut', 'j_pos', 'j_neg',\n",
       "       'train_size', 'test_size', 'obs', 'bh', 'original_return_isna_all',\n",
       "       'model_return_isna_all', 'model_return_isna_short',\n",
       "       'model_return_isna_long', 'model_diver_return_isna_all',\n",
       "       'model_diver_return_isna_short', 'model_diver_return_isna_long',\n",
       "       'train_accuracy', 'train_precision_macro', 'train_precision_micro',\n",
       "       'train_recall_micro', 'train_recall_macro', 'train_f1_micro',\n",
       "       'train_f1_macro', 'const', 'close_lag_1_coef', 'sum_sentiment_0_coef',\n",
       "       'sum_sentiment_1_coef', 'const_p', 'close_lag_1_p', 'sum_sentiment_0_p',\n",
       "       'sum_sentiment_1_p', 'r2', 'nobs', 'f', 'r', 'min_p', 'max_p'],\n",
       "      dtype='object')"
      ]
     },
     "execution_count": 389,
     "metadata": {},
     "output_type": "execute_result"
    }
   ],
   "source": [
    "df.columns"
   ]
  },
  {
   "cell_type": "code",
   "execution_count": 390,
   "metadata": {},
   "outputs": [
    {
     "data": {
      "text/plain": [
       "(41,)"
      ]
     },
     "execution_count": 390,
     "metadata": {},
     "output_type": "execute_result"
    }
   ],
   "source": [
    "df.ticker.unique().shape"
   ]
  },
  {
   "cell_type": "code",
   "execution_count": 391,
   "metadata": {},
   "outputs": [],
   "source": [
    "df_min = df[df.sum_sentiment_1_p<=0.05]"
   ]
  },
  {
   "cell_type": "code",
   "execution_count": 405,
   "metadata": {},
   "outputs": [
    {
     "data": {
      "text/plain": [
       "(12,)"
      ]
     },
     "execution_count": 405,
     "metadata": {},
     "output_type": "execute_result"
    }
   ],
   "source": [
    "df_min[df_min.sum_sentiment_1_coef<=0.05].ticker.unique().shape"
   ]
  },
  {
   "cell_type": "code",
   "execution_count": 411,
   "metadata": {},
   "outputs": [
    {
     "data": {
      "text/plain": [
       "0.2682926829268293"
      ]
     },
     "execution_count": 411,
     "metadata": {},
     "output_type": "execute_result"
    }
   ],
   "source": [
    "11/41"
   ]
  },
  {
   "cell_type": "code",
   "execution_count": 400,
   "metadata": {},
   "outputs": [],
   "source": [
    "final = df_min.merge(df_min_max, how='inner', on = ['ticker', 'model_return_isna_all'])"
   ]
  },
  {
   "cell_type": "code",
   "execution_count": 408,
   "metadata": {},
   "outputs": [
    {
     "data": {
      "text/plain": [
       "(5,)"
      ]
     },
     "execution_count": 408,
     "metadata": {},
     "output_type": "execute_result"
    }
   ],
   "source": [
    "final[final.model_return_isna_all >= final.bh].ticker.unique().shape"
   ]
  },
  {
   "cell_type": "code",
   "execution_count": 399,
   "metadata": {},
   "outputs": [
    {
     "data": {
      "text/html": [
       "<div>\n",
       "<style scoped>\n",
       "    .dataframe tbody tr th:only-of-type {\n",
       "        vertical-align: middle;\n",
       "    }\n",
       "\n",
       "    .dataframe tbody tr th {\n",
       "        vertical-align: top;\n",
       "    }\n",
       "\n",
       "    .dataframe thead th {\n",
       "        text-align: right;\n",
       "    }\n",
       "</style>\n",
       "<table border=\"1\" class=\"dataframe\">\n",
       "  <thead>\n",
       "    <tr style=\"text-align: right;\">\n",
       "      <th></th>\n",
       "      <th>ticker</th>\n",
       "      <th>model_return_isna_all</th>\n",
       "    </tr>\n",
       "  </thead>\n",
       "  <tbody>\n",
       "    <tr>\n",
       "      <th>0</th>\n",
       "      <td>aflt</td>\n",
       "      <td>59.345788</td>\n",
       "    </tr>\n",
       "    <tr>\n",
       "      <th>1</th>\n",
       "      <td>akrn</td>\n",
       "      <td>10.584979</td>\n",
       "    </tr>\n",
       "    <tr>\n",
       "      <th>2</th>\n",
       "      <td>cbom</td>\n",
       "      <td>7.411451</td>\n",
       "    </tr>\n",
       "    <tr>\n",
       "      <th>3</th>\n",
       "      <td>dvec</td>\n",
       "      <td>-29.257829</td>\n",
       "    </tr>\n",
       "    <tr>\n",
       "      <th>4</th>\n",
       "      <td>five</td>\n",
       "      <td>30.138464</td>\n",
       "    </tr>\n",
       "    <tr>\n",
       "      <th>5</th>\n",
       "      <td>gazp</td>\n",
       "      <td>-29.865728</td>\n",
       "    </tr>\n",
       "    <tr>\n",
       "      <th>6</th>\n",
       "      <td>gmkn</td>\n",
       "      <td>4.649787</td>\n",
       "    </tr>\n",
       "    <tr>\n",
       "      <th>7</th>\n",
       "      <td>irao</td>\n",
       "      <td>-24.484910</td>\n",
       "    </tr>\n",
       "    <tr>\n",
       "      <th>8</th>\n",
       "      <td>kbtk</td>\n",
       "      <td>50.753174</td>\n",
       "    </tr>\n",
       "    <tr>\n",
       "      <th>9</th>\n",
       "      <td>kmaz</td>\n",
       "      <td>1.412719</td>\n",
       "    </tr>\n",
       "    <tr>\n",
       "      <th>10</th>\n",
       "      <td>lnta</td>\n",
       "      <td>22.182614</td>\n",
       "    </tr>\n",
       "    <tr>\n",
       "      <th>11</th>\n",
       "      <td>mgnt</td>\n",
       "      <td>9.731463</td>\n",
       "    </tr>\n",
       "    <tr>\n",
       "      <th>12</th>\n",
       "      <td>moex</td>\n",
       "      <td>10.140140</td>\n",
       "    </tr>\n",
       "    <tr>\n",
       "      <th>13</th>\n",
       "      <td>nknc</td>\n",
       "      <td>19.457883</td>\n",
       "    </tr>\n",
       "    <tr>\n",
       "      <th>14</th>\n",
       "      <td>nmtp</td>\n",
       "      <td>27.449405</td>\n",
       "    </tr>\n",
       "    <tr>\n",
       "      <th>15</th>\n",
       "      <td>qiwi</td>\n",
       "      <td>-1.772011</td>\n",
       "    </tr>\n",
       "    <tr>\n",
       "      <th>16</th>\n",
       "      <td>rosb</td>\n",
       "      <td>-26.741709</td>\n",
       "    </tr>\n",
       "    <tr>\n",
       "      <th>17</th>\n",
       "      <td>rosn</td>\n",
       "      <td>-23.675579</td>\n",
       "    </tr>\n",
       "    <tr>\n",
       "      <th>18</th>\n",
       "      <td>sber</td>\n",
       "      <td>46.665476</td>\n",
       "    </tr>\n",
       "    <tr>\n",
       "      <th>19</th>\n",
       "      <td>tanl</td>\n",
       "      <td>13.491927</td>\n",
       "    </tr>\n",
       "    <tr>\n",
       "      <th>20</th>\n",
       "      <td>tgkd</td>\n",
       "      <td>-22.280217</td>\n",
       "    </tr>\n",
       "    <tr>\n",
       "      <th>21</th>\n",
       "      <td>tnse</td>\n",
       "      <td>-6.427334</td>\n",
       "    </tr>\n",
       "    <tr>\n",
       "      <th>22</th>\n",
       "      <td>trcn</td>\n",
       "      <td>29.773981</td>\n",
       "    </tr>\n",
       "    <tr>\n",
       "      <th>23</th>\n",
       "      <td>yndx</td>\n",
       "      <td>15.732223</td>\n",
       "    </tr>\n",
       "  </tbody>\n",
       "</table>\n",
       "</div>"
      ],
      "text/plain": [
       "   ticker  model_return_isna_all\n",
       "0    aflt              59.345788\n",
       "1    akrn              10.584979\n",
       "2    cbom               7.411451\n",
       "3    dvec             -29.257829\n",
       "4    five              30.138464\n",
       "5    gazp             -29.865728\n",
       "6    gmkn               4.649787\n",
       "7    irao             -24.484910\n",
       "8    kbtk              50.753174\n",
       "9    kmaz               1.412719\n",
       "10   lnta              22.182614\n",
       "11   mgnt               9.731463\n",
       "12   moex              10.140140\n",
       "13   nknc              19.457883\n",
       "14   nmtp              27.449405\n",
       "15   qiwi              -1.772011\n",
       "16   rosb             -26.741709\n",
       "17   rosn             -23.675579\n",
       "18   sber              46.665476\n",
       "19   tanl              13.491927\n",
       "20   tgkd             -22.280217\n",
       "21   tnse              -6.427334\n",
       "22   trcn              29.773981\n",
       "23   yndx              15.732223"
      ]
     },
     "execution_count": 399,
     "metadata": {},
     "output_type": "execute_result"
    }
   ],
   "source": [
    "df_min_max = df_min[['ticker', 'model_return_isna_all']].groupby('ticker').max().reset_index()\n",
    "df_min_max"
   ]
  },
  {
   "cell_type": "code",
   "execution_count": null,
   "metadata": {},
   "outputs": [],
   "source": []
  },
  {
   "cell_type": "code",
   "execution_count": null,
   "metadata": {},
   "outputs": [],
   "source": []
  },
  {
   "cell_type": "code",
   "execution_count": 343,
   "metadata": {},
   "outputs": [
    {
     "name": "stderr",
     "output_type": "stream",
     "text": [
      "C:\\ProgramData\\Anaconda3\\lib\\site-packages\\ipykernel_launcher.py:1: SettingWithCopyWarning: \n",
      "A value is trying to be set on a copy of a slice from a DataFrame.\n",
      "Try using .loc[row_indexer,col_indexer] = value instead\n",
      "\n",
      "See the caveats in the documentation: https://pandas.pydata.org/pandas-docs/stable/user_guide/indexing.html#returning-a-view-versus-a-copy\n",
      "  \"\"\"Entry point for launching an IPython kernel.\n"
     ]
    }
   ],
   "source": [
    "df_min['delta'] = df_min.model_return_isna_all - df_min.bh"
   ]
  },
  {
   "cell_type": "code",
   "execution_count": 344,
   "metadata": {},
   "outputs": [],
   "source": [
    "df_delta = df_min[['ticker', 'delta']].groupby('ticker').max().sort_values('delta').reset_index()"
   ]
  },
  {
   "cell_type": "code",
   "execution_count": 345,
   "metadata": {},
   "outputs": [],
   "source": [
    "df_fin = df_min.merge(df_delta, on=['ticker', 'delta'], how='inner')"
   ]
  },
  {
   "cell_type": "code",
   "execution_count": 346,
   "metadata": {},
   "outputs": [
    {
     "name": "stderr",
     "output_type": "stream",
     "text": [
      "C:\\ProgramData\\Anaconda3\\lib\\site-packages\\ipykernel_launcher.py:2: SettingWithCopyWarning: \n",
      "A value is trying to be set on a copy of a slice from a DataFrame\n",
      "\n",
      "See the caveats in the documentation: https://pandas.pydata.org/pandas-docs/stable/user_guide/indexing.html#returning-a-view-versus-a-copy\n",
      "  \n",
      "C:\\ProgramData\\Anaconda3\\lib\\site-packages\\ipykernel_launcher.py:3: SettingWithCopyWarning: \n",
      "A value is trying to be set on a copy of a slice from a DataFrame\n",
      "\n",
      "See the caveats in the documentation: https://pandas.pydata.org/pandas-docs/stable/user_guide/indexing.html#returning-a-view-versus-a-copy\n",
      "  This is separate from the ipykernel package so we can avoid doing imports until\n",
      "C:\\ProgramData\\Anaconda3\\lib\\site-packages\\ipykernel_launcher.py:4: SettingWithCopyWarning: \n",
      "A value is trying to be set on a copy of a slice from a DataFrame\n",
      "\n",
      "See the caveats in the documentation: https://pandas.pydata.org/pandas-docs/stable/user_guide/indexing.html#returning-a-view-versus-a-copy\n",
      "  after removing the cwd from sys.path.\n",
      "C:\\ProgramData\\Anaconda3\\lib\\site-packages\\ipykernel_launcher.py:5: SettingWithCopyWarning: \n",
      "A value is trying to be set on a copy of a slice from a DataFrame\n",
      "\n",
      "See the caveats in the documentation: https://pandas.pydata.org/pandas-docs/stable/user_guide/indexing.html#returning-a-view-versus-a-copy\n",
      "  \"\"\"\n"
     ]
    }
   ],
   "source": [
    "df_fin['const_p_ast'] = None\n",
    "df_fin['const_p_ast'][(df_fin.const_p<=0.001)&(df_fin.const_p_ast.isna()==True)] = '***'\n",
    "df_fin['const_p_ast'][(df_fin.const_p<=0.01)&(df_fin.const_p_ast.isna()==True)] = '**'\n",
    "df_fin['const_p_ast'][(df_fin.const_p<=0.05)&(df_fin.const_p_ast.isna()==True)] = '*'\n",
    "df_fin['const_p_ast'][(df_fin.const_p>0.05)&(df_fin.const_p_ast.isna()==True)] = '(ns)'"
   ]
  },
  {
   "cell_type": "code",
   "execution_count": 347,
   "metadata": {},
   "outputs": [],
   "source": [
    "df_fin.const_p_ast = round(df_fin.const,3).astype(str) + df_fin.const_p_ast"
   ]
  },
  {
   "cell_type": "code",
   "execution_count": 348,
   "metadata": {},
   "outputs": [
    {
     "name": "stderr",
     "output_type": "stream",
     "text": [
      "C:\\ProgramData\\Anaconda3\\lib\\site-packages\\ipykernel_launcher.py:2: SettingWithCopyWarning: \n",
      "A value is trying to be set on a copy of a slice from a DataFrame\n",
      "\n",
      "See the caveats in the documentation: https://pandas.pydata.org/pandas-docs/stable/user_guide/indexing.html#returning-a-view-versus-a-copy\n",
      "  \n",
      "C:\\ProgramData\\Anaconda3\\lib\\site-packages\\ipykernel_launcher.py:3: SettingWithCopyWarning: \n",
      "A value is trying to be set on a copy of a slice from a DataFrame\n",
      "\n",
      "See the caveats in the documentation: https://pandas.pydata.org/pandas-docs/stable/user_guide/indexing.html#returning-a-view-versus-a-copy\n",
      "  This is separate from the ipykernel package so we can avoid doing imports until\n",
      "C:\\ProgramData\\Anaconda3\\lib\\site-packages\\ipykernel_launcher.py:4: SettingWithCopyWarning: \n",
      "A value is trying to be set on a copy of a slice from a DataFrame\n",
      "\n",
      "See the caveats in the documentation: https://pandas.pydata.org/pandas-docs/stable/user_guide/indexing.html#returning-a-view-versus-a-copy\n",
      "  after removing the cwd from sys.path.\n",
      "C:\\ProgramData\\Anaconda3\\lib\\site-packages\\ipykernel_launcher.py:5: SettingWithCopyWarning: \n",
      "A value is trying to be set on a copy of a slice from a DataFrame\n",
      "\n",
      "See the caveats in the documentation: https://pandas.pydata.org/pandas-docs/stable/user_guide/indexing.html#returning-a-view-versus-a-copy\n",
      "  \"\"\"\n"
     ]
    }
   ],
   "source": [
    "df_fin['close_lag_1_p_ast'] = None\n",
    "df_fin['close_lag_1_p_ast'][(df_fin.close_lag_1_p<=0.001)&(df_fin.close_lag_1_p_ast.isna()==True)] = '***'\n",
    "df_fin['close_lag_1_p_ast'][(df_fin.close_lag_1_p<=0.01)&(df_fin.close_lag_1_p_ast.isna()==True)] = '**'\n",
    "df_fin['close_lag_1_p_ast'][(df_fin.close_lag_1_p<=0.05)&(df_fin.close_lag_1_p_ast.isna()==True)] = '*'\n",
    "df_fin['close_lag_1_p_ast'][(df_fin.close_lag_1_p>0.05)&(df_fin.close_lag_1_p_ast.isna()==True)] = '(ns)'"
   ]
  },
  {
   "cell_type": "code",
   "execution_count": 349,
   "metadata": {},
   "outputs": [],
   "source": [
    "df_fin.close_lag_1_p_ast = round(df_fin.close_lag_1_coef,3).astype(str) + df_fin.close_lag_1_p_ast"
   ]
  },
  {
   "cell_type": "code",
   "execution_count": 350,
   "metadata": {},
   "outputs": [
    {
     "name": "stderr",
     "output_type": "stream",
     "text": [
      "C:\\ProgramData\\Anaconda3\\lib\\site-packages\\ipykernel_launcher.py:2: SettingWithCopyWarning: \n",
      "A value is trying to be set on a copy of a slice from a DataFrame\n",
      "\n",
      "See the caveats in the documentation: https://pandas.pydata.org/pandas-docs/stable/user_guide/indexing.html#returning-a-view-versus-a-copy\n",
      "  \n",
      "C:\\ProgramData\\Anaconda3\\lib\\site-packages\\ipykernel_launcher.py:3: SettingWithCopyWarning: \n",
      "A value is trying to be set on a copy of a slice from a DataFrame\n",
      "\n",
      "See the caveats in the documentation: https://pandas.pydata.org/pandas-docs/stable/user_guide/indexing.html#returning-a-view-versus-a-copy\n",
      "  This is separate from the ipykernel package so we can avoid doing imports until\n",
      "C:\\ProgramData\\Anaconda3\\lib\\site-packages\\ipykernel_launcher.py:4: SettingWithCopyWarning: \n",
      "A value is trying to be set on a copy of a slice from a DataFrame\n",
      "\n",
      "See the caveats in the documentation: https://pandas.pydata.org/pandas-docs/stable/user_guide/indexing.html#returning-a-view-versus-a-copy\n",
      "  after removing the cwd from sys.path.\n",
      "C:\\ProgramData\\Anaconda3\\lib\\site-packages\\ipykernel_launcher.py:5: SettingWithCopyWarning: \n",
      "A value is trying to be set on a copy of a slice from a DataFrame\n",
      "\n",
      "See the caveats in the documentation: https://pandas.pydata.org/pandas-docs/stable/user_guide/indexing.html#returning-a-view-versus-a-copy\n",
      "  \"\"\"\n"
     ]
    }
   ],
   "source": [
    "df_fin['sum_sentiment_1_p_ast'] = None\n",
    "df_fin['sum_sentiment_1_p_ast'][(df_fin.sum_sentiment_1_p<=0.001)&(df_fin.sum_sentiment_1_p_ast.isna()==True)] = '***'\n",
    "df_fin['sum_sentiment_1_p_ast'][(df_fin.sum_sentiment_1_p<=0.01)&(df_fin.sum_sentiment_1_p_ast.isna()==True)] = '**'\n",
    "df_fin['sum_sentiment_1_p_ast'][(df_fin.sum_sentiment_1_p<=0.05)&(df_fin.sum_sentiment_1_p_ast.isna()==True)] = '*'\n",
    "df_fin['sum_sentiment_1_p_ast'][(df_fin.sum_sentiment_1_p>0.05)&(df_fin.sum_sentiment_1_p_ast.isna()==True)] = '(ns)'"
   ]
  },
  {
   "cell_type": "code",
   "execution_count": 351,
   "metadata": {},
   "outputs": [],
   "source": [
    "df_fin.sum_sentiment_1_p_ast = round(df_fin.sum_sentiment_1_coef,3).astype(str) + df_fin.sum_sentiment_1_p_ast"
   ]
  },
  {
   "cell_type": "code",
   "execution_count": 352,
   "metadata": {},
   "outputs": [
    {
     "name": "stderr",
     "output_type": "stream",
     "text": [
      "C:\\ProgramData\\Anaconda3\\lib\\site-packages\\ipykernel_launcher.py:2: SettingWithCopyWarning: \n",
      "A value is trying to be set on a copy of a slice from a DataFrame\n",
      "\n",
      "See the caveats in the documentation: https://pandas.pydata.org/pandas-docs/stable/user_guide/indexing.html#returning-a-view-versus-a-copy\n",
      "  \n",
      "C:\\ProgramData\\Anaconda3\\lib\\site-packages\\ipykernel_launcher.py:3: SettingWithCopyWarning: \n",
      "A value is trying to be set on a copy of a slice from a DataFrame\n",
      "\n",
      "See the caveats in the documentation: https://pandas.pydata.org/pandas-docs/stable/user_guide/indexing.html#returning-a-view-versus-a-copy\n",
      "  This is separate from the ipykernel package so we can avoid doing imports until\n",
      "C:\\ProgramData\\Anaconda3\\lib\\site-packages\\ipykernel_launcher.py:4: SettingWithCopyWarning: \n",
      "A value is trying to be set on a copy of a slice from a DataFrame\n",
      "\n",
      "See the caveats in the documentation: https://pandas.pydata.org/pandas-docs/stable/user_guide/indexing.html#returning-a-view-versus-a-copy\n",
      "  after removing the cwd from sys.path.\n",
      "C:\\ProgramData\\Anaconda3\\lib\\site-packages\\ipykernel_launcher.py:5: SettingWithCopyWarning: \n",
      "A value is trying to be set on a copy of a slice from a DataFrame\n",
      "\n",
      "See the caveats in the documentation: https://pandas.pydata.org/pandas-docs/stable/user_guide/indexing.html#returning-a-view-versus-a-copy\n",
      "  \"\"\"\n"
     ]
    }
   ],
   "source": [
    "df_fin['sum_sentiment_0_p_ast'] = None\n",
    "df_fin['sum_sentiment_0_p_ast'][(df_fin.sum_sentiment_0_p<=0.001)&(df_fin.sum_sentiment_0_p_ast.isna()==True)] = '***'\n",
    "df_fin['sum_sentiment_0_p_ast'][(df_fin.sum_sentiment_0_p<=0.01)&(df_fin.sum_sentiment_0_p_ast.isna()==True)] = '**'\n",
    "df_fin['sum_sentiment_0_p_ast'][(df_fin.sum_sentiment_0_p<=0.05)&(df_fin.sum_sentiment_0_p_ast.isna()==True)] = '*'\n",
    "df_fin['sum_sentiment_0_p_ast'][(df_fin.sum_sentiment_0_p>0.05)&(df_fin.sum_sentiment_0_p_ast.isna()==True)] = '(ns)'"
   ]
  },
  {
   "cell_type": "code",
   "execution_count": 353,
   "metadata": {},
   "outputs": [],
   "source": [
    "df_fin.sum_sentiment_0_p_ast = round(df_fin.sum_sentiment_0_coef, 3).astype(str) + df_fin.sum_sentiment_0_p_ast\n"
   ]
  },
  {
   "cell_type": "code",
   "execution_count": 354,
   "metadata": {},
   "outputs": [
    {
     "data": {
      "text/plain": [
       "Index(['counter', 'ticker', 'date', 'min_df', 'j_neut', 'j_pos', 'j_neg',\n",
       "       'train_size', 'test_size', 'obs', 'bh', 'original_return_isna_all',\n",
       "       'model_return_isna_all', 'model_return_isna_short',\n",
       "       'model_return_isna_long', 'model_diver_return_isna_all',\n",
       "       'model_diver_return_isna_short', 'model_diver_return_isna_long',\n",
       "       'train_accuracy', 'train_precision_macro', 'train_precision_micro',\n",
       "       'train_recall_micro', 'train_recall_macro', 'train_f1_micro',\n",
       "       'train_f1_macro', 'const', 'close_lag_1_coef', 'sum_sentiment_0_coef',\n",
       "       'sum_sentiment_1_coef', 'const_p', 'close_lag_1_p', 'sum_sentiment_0_p',\n",
       "       'sum_sentiment_1_p', 'r2', 'nobs', 'min_p', 'max_p', 'delta',\n",
       "       'const_p_ast', 'close_lag_1_p_ast', 'sum_sentiment_1_p_ast',\n",
       "       'sum_sentiment_0_p_ast'],\n",
       "      dtype='object')"
      ]
     },
     "execution_count": 354,
     "metadata": {},
     "output_type": "execute_result"
    }
   ],
   "source": [
    "df_fin.columns"
   ]
  },
  {
   "cell_type": "code",
   "execution_count": 355,
   "metadata": {},
   "outputs": [
    {
     "data": {
      "text/html": [
       "<div>\n",
       "<style scoped>\n",
       "    .dataframe tbody tr th:only-of-type {\n",
       "        vertical-align: middle;\n",
       "    }\n",
       "\n",
       "    .dataframe tbody tr th {\n",
       "        vertical-align: top;\n",
       "    }\n",
       "\n",
       "    .dataframe thead th {\n",
       "        text-align: right;\n",
       "    }\n",
       "</style>\n",
       "<table border=\"1\" class=\"dataframe\">\n",
       "  <thead>\n",
       "    <tr style=\"text-align: right;\">\n",
       "      <th></th>\n",
       "      <th>counter</th>\n",
       "      <th>ticker</th>\n",
       "      <th>date</th>\n",
       "      <th>min_df</th>\n",
       "      <th>j_neut</th>\n",
       "      <th>j_pos</th>\n",
       "      <th>j_neg</th>\n",
       "      <th>train_size</th>\n",
       "      <th>test_size</th>\n",
       "      <th>obs</th>\n",
       "      <th>...</th>\n",
       "      <th>r2</th>\n",
       "      <th>nobs</th>\n",
       "      <th>min_p</th>\n",
       "      <th>max_p</th>\n",
       "      <th>delta</th>\n",
       "      <th>const_p_ast</th>\n",
       "      <th>close_lag_1_p_ast</th>\n",
       "      <th>sum_sentiment_1_p_ast</th>\n",
       "      <th>sum_sentiment_0_p_ast</th>\n",
       "      <th>r22</th>\n",
       "    </tr>\n",
       "  </thead>\n",
       "  <tbody>\n",
       "    <tr>\n",
       "      <th>0</th>\n",
       "      <td>18</td>\n",
       "      <td>gmkn</td>\n",
       "      <td>1</td>\n",
       "      <td>5</td>\n",
       "      <td>0.2</td>\n",
       "      <td>4</td>\n",
       "      <td>4</td>\n",
       "      <td>1149</td>\n",
       "      <td>211</td>\n",
       "      <td>210</td>\n",
       "      <td>...</td>\n",
       "      <td>0.979237</td>\n",
       "      <td>190</td>\n",
       "      <td>0.014055</td>\n",
       "      <td>0.671205</td>\n",
       "      <td>-337.297917</td>\n",
       "      <td>78.24(ns)</td>\n",
       "      <td>0.999***</td>\n",
       "      <td>419.787*</td>\n",
       "      <td>-49.557(ns)</td>\n",
       "      <td>0.979</td>\n",
       "    </tr>\n",
       "    <tr>\n",
       "      <th>1</th>\n",
       "      <td>30</td>\n",
       "      <td>nmtp</td>\n",
       "      <td>1</td>\n",
       "      <td>5</td>\n",
       "      <td>0.2</td>\n",
       "      <td>4</td>\n",
       "      <td>4</td>\n",
       "      <td>1149</td>\n",
       "      <td>177</td>\n",
       "      <td>176</td>\n",
       "      <td>...</td>\n",
       "      <td>0.983706</td>\n",
       "      <td>164</td>\n",
       "      <td>0.042447</td>\n",
       "      <td>0.243060</td>\n",
       "      <td>-160.364215</td>\n",
       "      <td>0.125(ns)</td>\n",
       "      <td>0.997***</td>\n",
       "      <td>-0.142*</td>\n",
       "      <td>-0.077(ns)</td>\n",
       "      <td>0.984</td>\n",
       "    </tr>\n",
       "    <tr>\n",
       "      <th>2</th>\n",
       "      <td>54</td>\n",
       "      <td>moex</td>\n",
       "      <td>1</td>\n",
       "      <td>35</td>\n",
       "      <td>0.2</td>\n",
       "      <td>4</td>\n",
       "      <td>4</td>\n",
       "      <td>1149</td>\n",
       "      <td>111</td>\n",
       "      <td>110</td>\n",
       "      <td>...</td>\n",
       "      <td>0.917248</td>\n",
       "      <td>105</td>\n",
       "      <td>0.015079</td>\n",
       "      <td>0.950892</td>\n",
       "      <td>-147.174009</td>\n",
       "      <td>2.676(ns)</td>\n",
       "      <td>1.001***</td>\n",
       "      <td>-3.802*</td>\n",
       "      <td>0.189(ns)</td>\n",
       "      <td>0.917</td>\n",
       "    </tr>\n",
       "    <tr>\n",
       "      <th>3</th>\n",
       "      <td>65</td>\n",
       "      <td>five</td>\n",
       "      <td>1</td>\n",
       "      <td>25</td>\n",
       "      <td>0.2</td>\n",
       "      <td>4</td>\n",
       "      <td>4</td>\n",
       "      <td>1149</td>\n",
       "      <td>176</td>\n",
       "      <td>175</td>\n",
       "      <td>...</td>\n",
       "      <td>0.960838</td>\n",
       "      <td>155</td>\n",
       "      <td>0.048831</td>\n",
       "      <td>0.152502</td>\n",
       "      <td>-32.415121</td>\n",
       "      <td>16.903(ns)</td>\n",
       "      <td>0.98***</td>\n",
       "      <td>42.52*</td>\n",
       "      <td>28.425(ns)</td>\n",
       "      <td>0.961</td>\n",
       "    </tr>\n",
       "    <tr>\n",
       "      <th>4</th>\n",
       "      <td>98</td>\n",
       "      <td>kbtk</td>\n",
       "      <td>1</td>\n",
       "      <td>5</td>\n",
       "      <td>0.2</td>\n",
       "      <td>4</td>\n",
       "      <td>4</td>\n",
       "      <td>1140</td>\n",
       "      <td>266</td>\n",
       "      <td>265</td>\n",
       "      <td>...</td>\n",
       "      <td>0.975223</td>\n",
       "      <td>231</td>\n",
       "      <td>0.028347</td>\n",
       "      <td>0.054093</td>\n",
       "      <td>-123.786401</td>\n",
       "      <td>6.26**</td>\n",
       "      <td>0.983***</td>\n",
       "      <td>-4.267*</td>\n",
       "      <td>-3.647(ns)</td>\n",
       "      <td>0.975</td>\n",
       "    </tr>\n",
       "    <tr>\n",
       "      <th>5</th>\n",
       "      <td>123</td>\n",
       "      <td>mvid</td>\n",
       "      <td>1</td>\n",
       "      <td>10</td>\n",
       "      <td>0.2</td>\n",
       "      <td>4</td>\n",
       "      <td>4</td>\n",
       "      <td>1131</td>\n",
       "      <td>326</td>\n",
       "      <td>323</td>\n",
       "      <td>...</td>\n",
       "      <td>0.968826</td>\n",
       "      <td>293</td>\n",
       "      <td>0.007045</td>\n",
       "      <td>0.999885</td>\n",
       "      <td>-189.936358</td>\n",
       "      <td>0.577(ns)</td>\n",
       "      <td>0.995***</td>\n",
       "      <td>0.0(ns)</td>\n",
       "      <td>7.549**</td>\n",
       "      <td>0.969</td>\n",
       "    </tr>\n",
       "    <tr>\n",
       "      <th>6</th>\n",
       "      <td>130</td>\n",
       "      <td>akrn</td>\n",
       "      <td>1</td>\n",
       "      <td>15</td>\n",
       "      <td>0.2</td>\n",
       "      <td>4</td>\n",
       "      <td>4</td>\n",
       "      <td>1155</td>\n",
       "      <td>188</td>\n",
       "      <td>187</td>\n",
       "      <td>...</td>\n",
       "      <td>0.979504</td>\n",
       "      <td>172</td>\n",
       "      <td>0.041748</td>\n",
       "      <td>0.936466</td>\n",
       "      <td>-389.491193</td>\n",
       "      <td>127.623*</td>\n",
       "      <td>0.986***</td>\n",
       "      <td>-3.456(ns)</td>\n",
       "      <td>-71.828*</td>\n",
       "      <td>0.980</td>\n",
       "    </tr>\n",
       "    <tr>\n",
       "      <th>7</th>\n",
       "      <td>140</td>\n",
       "      <td>mgnt</td>\n",
       "      <td>1</td>\n",
       "      <td>5</td>\n",
       "      <td>0.2</td>\n",
       "      <td>4</td>\n",
       "      <td>4</td>\n",
       "      <td>1137</td>\n",
       "      <td>268</td>\n",
       "      <td>266</td>\n",
       "      <td>...</td>\n",
       "      <td>0.980466</td>\n",
       "      <td>241</td>\n",
       "      <td>0.037647</td>\n",
       "      <td>0.049307</td>\n",
       "      <td>39.129660</td>\n",
       "      <td>163.813(ns)</td>\n",
       "      <td>0.99***</td>\n",
       "      <td>-135.798*</td>\n",
       "      <td>-133.878*</td>\n",
       "      <td>0.980</td>\n",
       "    </tr>\n",
       "    <tr>\n",
       "      <th>8</th>\n",
       "      <td>151</td>\n",
       "      <td>qiwi</td>\n",
       "      <td>1</td>\n",
       "      <td>50</td>\n",
       "      <td>0.2</td>\n",
       "      <td>4</td>\n",
       "      <td>4</td>\n",
       "      <td>1137</td>\n",
       "      <td>92</td>\n",
       "      <td>91</td>\n",
       "      <td>...</td>\n",
       "      <td>0.763509</td>\n",
       "      <td>89</td>\n",
       "      <td>0.000760</td>\n",
       "      <td>0.948891</td>\n",
       "      <td>39.804831</td>\n",
       "      <td>199.172**</td>\n",
       "      <td>0.852***</td>\n",
       "      <td>-129.545***</td>\n",
       "      <td>2.147(ns)</td>\n",
       "      <td>0.764</td>\n",
       "    </tr>\n",
       "    <tr>\n",
       "      <th>9</th>\n",
       "      <td>152</td>\n",
       "      <td>plzl</td>\n",
       "      <td>1</td>\n",
       "      <td>5</td>\n",
       "      <td>0.2</td>\n",
       "      <td>4</td>\n",
       "      <td>4</td>\n",
       "      <td>1149</td>\n",
       "      <td>108</td>\n",
       "      <td>107</td>\n",
       "      <td>...</td>\n",
       "      <td>0.970244</td>\n",
       "      <td>103</td>\n",
       "      <td>0.049725</td>\n",
       "      <td>0.074169</td>\n",
       "      <td>-1811.460553</td>\n",
       "      <td>335.27(ns)</td>\n",
       "      <td>1.021***</td>\n",
       "      <td>-362.305(ns)</td>\n",
       "      <td>-346.737*</td>\n",
       "      <td>0.970</td>\n",
       "    </tr>\n",
       "    <tr>\n",
       "      <th>10</th>\n",
       "      <td>163</td>\n",
       "      <td>tgkd</td>\n",
       "      <td>1</td>\n",
       "      <td>50</td>\n",
       "      <td>0.2</td>\n",
       "      <td>4</td>\n",
       "      <td>4</td>\n",
       "      <td>1113</td>\n",
       "      <td>275</td>\n",
       "      <td>274</td>\n",
       "      <td>...</td>\n",
       "      <td>0.857527</td>\n",
       "      <td>253</td>\n",
       "      <td>0.019697</td>\n",
       "      <td>0.036645</td>\n",
       "      <td>-96.345638</td>\n",
       "      <td>0.0***</td>\n",
       "      <td>0.93***</td>\n",
       "      <td>-0.0*</td>\n",
       "      <td>-0.0*</td>\n",
       "      <td>0.858</td>\n",
       "    </tr>\n",
       "    <tr>\n",
       "      <th>11</th>\n",
       "      <td>220</td>\n",
       "      <td>tanl</td>\n",
       "      <td>1</td>\n",
       "      <td>15</td>\n",
       "      <td>0.2</td>\n",
       "      <td>4</td>\n",
       "      <td>4</td>\n",
       "      <td>1074</td>\n",
       "      <td>179</td>\n",
       "      <td>178</td>\n",
       "      <td>...</td>\n",
       "      <td>0.556558</td>\n",
       "      <td>163</td>\n",
       "      <td>0.025260</td>\n",
       "      <td>0.851236</td>\n",
       "      <td>-121.887180</td>\n",
       "      <td>8.329**</td>\n",
       "      <td>0.734***</td>\n",
       "      <td>5.6*</td>\n",
       "      <td>-0.704(ns)</td>\n",
       "      <td>0.557</td>\n",
       "    </tr>\n",
       "    <tr>\n",
       "      <th>12</th>\n",
       "      <td>229</td>\n",
       "      <td>trcn</td>\n",
       "      <td>1</td>\n",
       "      <td>50</td>\n",
       "      <td>0.2</td>\n",
       "      <td>4</td>\n",
       "      <td>4</td>\n",
       "      <td>1149</td>\n",
       "      <td>128</td>\n",
       "      <td>127</td>\n",
       "      <td>...</td>\n",
       "      <td>0.977781</td>\n",
       "      <td>119</td>\n",
       "      <td>0.015781</td>\n",
       "      <td>0.034290</td>\n",
       "      <td>-215.775067</td>\n",
       "      <td>139.488(ns)</td>\n",
       "      <td>1.001***</td>\n",
       "      <td>-178.325*</td>\n",
       "      <td>-137.392*</td>\n",
       "      <td>0.978</td>\n",
       "    </tr>\n",
       "    <tr>\n",
       "      <th>13</th>\n",
       "      <td>233</td>\n",
       "      <td>tnse</td>\n",
       "      <td>1</td>\n",
       "      <td>25</td>\n",
       "      <td>0.2</td>\n",
       "      <td>4</td>\n",
       "      <td>4</td>\n",
       "      <td>1155</td>\n",
       "      <td>78</td>\n",
       "      <td>77</td>\n",
       "      <td>...</td>\n",
       "      <td>0.868595</td>\n",
       "      <td>65</td>\n",
       "      <td>0.035455</td>\n",
       "      <td>0.430838</td>\n",
       "      <td>25.220248</td>\n",
       "      <td>-13.781(ns)</td>\n",
       "      <td>1.016***</td>\n",
       "      <td>-17.981(ns)</td>\n",
       "      <td>-43.525*</td>\n",
       "      <td>0.869</td>\n",
       "    </tr>\n",
       "  </tbody>\n",
       "</table>\n",
       "<p>14 rows × 43 columns</p>\n",
       "</div>"
      ],
      "text/plain": [
       "    counter ticker  date  min_df  j_neut  j_pos  j_neg  train_size  test_size  \\\n",
       "0        18   gmkn     1       5     0.2      4      4        1149        211   \n",
       "1        30   nmtp     1       5     0.2      4      4        1149        177   \n",
       "2        54   moex     1      35     0.2      4      4        1149        111   \n",
       "3        65   five     1      25     0.2      4      4        1149        176   \n",
       "4        98   kbtk     1       5     0.2      4      4        1140        266   \n",
       "5       123   mvid     1      10     0.2      4      4        1131        326   \n",
       "6       130   akrn     1      15     0.2      4      4        1155        188   \n",
       "7       140   mgnt     1       5     0.2      4      4        1137        268   \n",
       "8       151   qiwi     1      50     0.2      4      4        1137         92   \n",
       "9       152   plzl     1       5     0.2      4      4        1149        108   \n",
       "10      163   tgkd     1      50     0.2      4      4        1113        275   \n",
       "11      220   tanl     1      15     0.2      4      4        1074        179   \n",
       "12      229   trcn     1      50     0.2      4      4        1149        128   \n",
       "13      233   tnse     1      25     0.2      4      4        1155         78   \n",
       "\n",
       "    obs  ...        r2  nobs     min_p     max_p        delta  const_p_ast  \\\n",
       "0   210  ...  0.979237   190  0.014055  0.671205  -337.297917    78.24(ns)   \n",
       "1   176  ...  0.983706   164  0.042447  0.243060  -160.364215    0.125(ns)   \n",
       "2   110  ...  0.917248   105  0.015079  0.950892  -147.174009    2.676(ns)   \n",
       "3   175  ...  0.960838   155  0.048831  0.152502   -32.415121   16.903(ns)   \n",
       "4   265  ...  0.975223   231  0.028347  0.054093  -123.786401       6.26**   \n",
       "5   323  ...  0.968826   293  0.007045  0.999885  -189.936358    0.577(ns)   \n",
       "6   187  ...  0.979504   172  0.041748  0.936466  -389.491193     127.623*   \n",
       "7   266  ...  0.980466   241  0.037647  0.049307    39.129660  163.813(ns)   \n",
       "8    91  ...  0.763509    89  0.000760  0.948891    39.804831    199.172**   \n",
       "9   107  ...  0.970244   103  0.049725  0.074169 -1811.460553   335.27(ns)   \n",
       "10  274  ...  0.857527   253  0.019697  0.036645   -96.345638       0.0***   \n",
       "11  178  ...  0.556558   163  0.025260  0.851236  -121.887180      8.329**   \n",
       "12  127  ...  0.977781   119  0.015781  0.034290  -215.775067  139.488(ns)   \n",
       "13   77  ...  0.868595    65  0.035455  0.430838    25.220248  -13.781(ns)   \n",
       "\n",
       "    close_lag_1_p_ast  sum_sentiment_1_p_ast  sum_sentiment_0_p_ast    r22  \n",
       "0            0.999***               419.787*            -49.557(ns)  0.979  \n",
       "1            0.997***                -0.142*             -0.077(ns)  0.984  \n",
       "2            1.001***                -3.802*              0.189(ns)  0.917  \n",
       "3             0.98***                 42.52*             28.425(ns)  0.961  \n",
       "4            0.983***                -4.267*             -3.647(ns)  0.975  \n",
       "5            0.995***                0.0(ns)                7.549**  0.969  \n",
       "6            0.986***             -3.456(ns)               -71.828*  0.980  \n",
       "7             0.99***              -135.798*              -133.878*  0.980  \n",
       "8            0.852***            -129.545***              2.147(ns)  0.764  \n",
       "9            1.021***           -362.305(ns)              -346.737*  0.970  \n",
       "10            0.93***                  -0.0*                  -0.0*  0.858  \n",
       "11           0.734***                   5.6*             -0.704(ns)  0.557  \n",
       "12           1.001***              -178.325*              -137.392*  0.978  \n",
       "13           1.016***            -17.981(ns)               -43.525*  0.869  \n",
       "\n",
       "[14 rows x 43 columns]"
      ]
     },
     "execution_count": 355,
     "metadata": {},
     "output_type": "execute_result"
    }
   ],
   "source": [
    "df_fin['r22'] = round(df_fin['r2'],3)\n",
    "df_fin"
   ]
  },
  {
   "cell_type": "code",
   "execution_count": 357,
   "metadata": {},
   "outputs": [],
   "source": [
    "df_fin.to_excel('mfd_final.xlsx')"
   ]
  },
  {
   "cell_type": "code",
   "execution_count": 412,
   "metadata": {},
   "outputs": [
    {
     "data": {
      "text/plain": [
       "78"
      ]
     },
     "execution_count": 412,
     "metadata": {},
     "output_type": "execute_result"
    }
   ],
   "source": [
    "df_fin.test_size.min()"
   ]
  },
  {
   "cell_type": "code",
   "execution_count": 258,
   "metadata": {},
   "outputs": [
    {
     "data": {
      "text/plain": [
       "(58, 42)"
      ]
     },
     "execution_count": 258,
     "metadata": {},
     "output_type": "execute_result"
    }
   ],
   "source": [
    "df_fin.shape"
   ]
  },
  {
   "cell_type": "code",
   "execution_count": 257,
   "metadata": {},
   "outputs": [
    {
     "data": {
      "text/plain": [
       "(44, 42)"
      ]
     },
     "execution_count": 257,
     "metadata": {},
     "output_type": "execute_result"
    }
   ],
   "source": [
    "df_fin[df_fin.model_return_isna_all>df_fin.bh].shape"
   ]
  },
  {
   "cell_type": "code",
   "execution_count": 209,
   "metadata": {},
   "outputs": [
    {
     "data": {
      "text/plain": [
       "(2, 42)"
      ]
     },
     "execution_count": 209,
     "metadata": {},
     "output_type": "execute_result"
    }
   ],
   "source": [
    "df_fin[(df_fin.sum_sentiment_0_p<=0.05)&(df_fin.sum_sentiment_1_p<=0.05)].shape"
   ]
  },
  {
   "cell_type": "code",
   "execution_count": 260,
   "metadata": {},
   "outputs": [
    {
     "data": {
      "text/html": [
       "<div>\n",
       "<style scoped>\n",
       "    .dataframe tbody tr th:only-of-type {\n",
       "        vertical-align: middle;\n",
       "    }\n",
       "\n",
       "    .dataframe tbody tr th {\n",
       "        vertical-align: top;\n",
       "    }\n",
       "\n",
       "    .dataframe thead th {\n",
       "        text-align: right;\n",
       "    }\n",
       "</style>\n",
       "<table border=\"1\" class=\"dataframe\">\n",
       "  <thead>\n",
       "    <tr style=\"text-align: right;\">\n",
       "      <th></th>\n",
       "      <th>index</th>\n",
       "      <th>Buy &amp; Hold</th>\n",
       "      <th>Cтратегия</th>\n",
       "      <th>Cтратегия с дивергенцией</th>\n",
       "    </tr>\n",
       "  </thead>\n",
       "  <tbody>\n",
       "    <tr>\n",
       "      <th>0</th>\n",
       "      <td>count</td>\n",
       "      <td>58.000000</td>\n",
       "      <td>58.000000</td>\n",
       "      <td>58.000000</td>\n",
       "    </tr>\n",
       "    <tr>\n",
       "      <th>1</th>\n",
       "      <td>mean</td>\n",
       "      <td>24.345917</td>\n",
       "      <td>88.453094</td>\n",
       "      <td>63.908012</td>\n",
       "    </tr>\n",
       "    <tr>\n",
       "      <th>2</th>\n",
       "      <td>std</td>\n",
       "      <td>55.985844</td>\n",
       "      <td>88.593685</td>\n",
       "      <td>64.994969</td>\n",
       "    </tr>\n",
       "    <tr>\n",
       "      <th>3</th>\n",
       "      <td>min</td>\n",
       "      <td>-66.136364</td>\n",
       "      <td>-21.744800</td>\n",
       "      <td>-15.379577</td>\n",
       "    </tr>\n",
       "    <tr>\n",
       "      <th>4</th>\n",
       "      <td>25%</td>\n",
       "      <td>-10.963355</td>\n",
       "      <td>31.774138</td>\n",
       "      <td>23.776644</td>\n",
       "    </tr>\n",
       "    <tr>\n",
       "      <th>5</th>\n",
       "      <td>50%</td>\n",
       "      <td>11.185665</td>\n",
       "      <td>60.964897</td>\n",
       "      <td>38.643378</td>\n",
       "    </tr>\n",
       "    <tr>\n",
       "      <th>6</th>\n",
       "      <td>75%</td>\n",
       "      <td>38.801745</td>\n",
       "      <td>113.437351</td>\n",
       "      <td>81.811266</td>\n",
       "    </tr>\n",
       "    <tr>\n",
       "      <th>7</th>\n",
       "      <td>max</td>\n",
       "      <td>238.121118</td>\n",
       "      <td>321.883163</td>\n",
       "      <td>294.499837</td>\n",
       "    </tr>\n",
       "  </tbody>\n",
       "</table>\n",
       "</div>"
      ],
      "text/plain": [
       "   index  Buy & Hold   Cтратегия  Cтратегия с дивергенцией\n",
       "0  count   58.000000   58.000000                 58.000000\n",
       "1   mean   24.345917   88.453094                 63.908012\n",
       "2    std   55.985844   88.593685                 64.994969\n",
       "3    min  -66.136364  -21.744800                -15.379577\n",
       "4    25%  -10.963355   31.774138                 23.776644\n",
       "5    50%   11.185665   60.964897                 38.643378\n",
       "6    75%   38.801745  113.437351                 81.811266\n",
       "7    max  238.121118  321.883163                294.499837"
      ]
     },
     "execution_count": 260,
     "metadata": {},
     "output_type": "execute_result"
    }
   ],
   "source": [
    "df_fin[['bh', 'model_return_isna_all', 'model_diver_return_isna_all']].describe().\\\n",
    "rename(columns={'bh':'Buy & Hold', 'model_return_isna_all':'Cтратегия', 'model_diver_return_isna_all':'Cтратегия с дивергенцией'}).reset_index()"
   ]
  },
  {
   "cell_type": "code",
   "execution_count": 262,
   "metadata": {},
   "outputs": [],
   "source": [
    "df_fin[['bh', 'model_return_isna_all', 'model_diver_return_isna_all']].describe().\\\n",
    "rename(columns={'bh':'Buy & Hold', 'model_return_isna_all':'Cтратегия', 'model_diver_return_isna_all':'Cтратегия с дивергенцией'}).reset_index().to_excel('mag_sharpe.xlsx')"
   ]
  },
  {
   "cell_type": "code",
   "execution_count": 263,
   "metadata": {},
   "outputs": [
    {
     "data": {
      "text/html": [
       "<div>\n",
       "<style scoped>\n",
       "    .dataframe tbody tr th:only-of-type {\n",
       "        vertical-align: middle;\n",
       "    }\n",
       "\n",
       "    .dataframe tbody tr th {\n",
       "        vertical-align: top;\n",
       "    }\n",
       "\n",
       "    .dataframe thead th {\n",
       "        text-align: right;\n",
       "    }\n",
       "</style>\n",
       "<table border=\"1\" class=\"dataframe\">\n",
       "  <thead>\n",
       "    <tr style=\"text-align: right;\">\n",
       "      <th></th>\n",
       "      <th>sum_sentiment_0_coef</th>\n",
       "      <th>sum_sentiment_1_coef</th>\n",
       "    </tr>\n",
       "  </thead>\n",
       "  <tbody>\n",
       "    <tr>\n",
       "      <th>sum_sentiment_0_coef</th>\n",
       "      <td>1.000000</td>\n",
       "      <td>0.923748</td>\n",
       "    </tr>\n",
       "    <tr>\n",
       "      <th>sum_sentiment_1_coef</th>\n",
       "      <td>0.923748</td>\n",
       "      <td>1.000000</td>\n",
       "    </tr>\n",
       "  </tbody>\n",
       "</table>\n",
       "</div>"
      ],
      "text/plain": [
       "                      sum_sentiment_0_coef  sum_sentiment_1_coef\n",
       "sum_sentiment_0_coef              1.000000              0.923748\n",
       "sum_sentiment_1_coef              0.923748              1.000000"
      ]
     },
     "execution_count": 263,
     "metadata": {},
     "output_type": "execute_result"
    }
   ],
   "source": [
    "df_fin[['sum_sentiment_0_coef', 'sum_sentiment_1_coef']].corr()"
   ]
  },
  {
   "cell_type": "code",
   "execution_count": null,
   "metadata": {},
   "outputs": [],
   "source": []
  },
  {
   "cell_type": "code",
   "execution_count": null,
   "metadata": {},
   "outputs": [],
   "source": []
  }
 ],
 "metadata": {
  "kernelspec": {
   "display_name": "Python 3",
   "language": "python",
   "name": "python3"
  },
  "language_info": {
   "codemirror_mode": {
    "name": "ipython",
    "version": 3
   },
   "file_extension": ".py",
   "mimetype": "text/x-python",
   "name": "python",
   "nbconvert_exporter": "python",
   "pygments_lexer": "ipython3",
   "version": "3.7.6"
  }
 },
 "nbformat": 4,
 "nbformat_minor": 4
}
