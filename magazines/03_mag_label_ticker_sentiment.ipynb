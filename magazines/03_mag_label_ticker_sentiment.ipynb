{
 "cells": [
  {
   "cell_type": "markdown",
   "metadata": {},
   "source": [
    "## В данном ноутбуке происходит labelling акций, join сентимента и цен"
   ]
  },
  {
   "cell_type": "code",
   "execution_count": 1,
   "metadata": {
    "id": "TaDFTaiKTl6l"
   },
   "outputs": [],
   "source": [
    "import pandas as pd\n",
    "import numpy as np\n",
    "from tqdm.notebook import tqdm"
   ]
  },
  {
   "cell_type": "markdown",
   "metadata": {},
   "source": [
    "### Сентимент"
   ]
  },
  {
   "cell_type": "code",
   "execution_count": 2,
   "metadata": {},
   "outputs": [
    {
     "data": {
      "text/html": [
       "<div>\n",
       "<style scoped>\n",
       "    .dataframe tbody tr th:only-of-type {\n",
       "        vertical-align: middle;\n",
       "    }\n",
       "\n",
       "    .dataframe tbody tr th {\n",
       "        vertical-align: top;\n",
       "    }\n",
       "\n",
       "    .dataframe thead th {\n",
       "        text-align: right;\n",
       "    }\n",
       "</style>\n",
       "<table border=\"1\" class=\"dataframe\">\n",
       "  <thead>\n",
       "    <tr style=\"text-align: right;\">\n",
       "      <th></th>\n",
       "      <th>date</th>\n",
       "      <th>ticker</th>\n",
       "      <th>total_msg</th>\n",
       "      <th>text_reg_stop</th>\n",
       "      <th>text_reg_stop_stem</th>\n",
       "      <th>len_lem_text</th>\n",
       "    </tr>\n",
       "  </thead>\n",
       "  <tbody>\n",
       "    <tr>\n",
       "      <th>0</th>\n",
       "      <td>20210311.0</td>\n",
       "      <td>sber</td>\n",
       "      <td>2548</td>\n",
       "      <td>схема крупной программы борьбы бедностью рф по...</td>\n",
       "      <td>схем крупн программ борьб бедност рф поддержк ...</td>\n",
       "      <td>4041</td>\n",
       "    </tr>\n",
       "    <tr>\n",
       "      <th>1</th>\n",
       "      <td>20140108.0</td>\n",
       "      <td>aflt</td>\n",
       "      <td>916</td>\n",
       "      <td>следственный комитет россии скр начал проверку...</td>\n",
       "      <td>следствен комитет росс скр нача проверк эвитер...</td>\n",
       "      <td>2642</td>\n",
       "    </tr>\n",
       "    <tr>\n",
       "      <th>2</th>\n",
       "      <td>20140108.0</td>\n",
       "      <td>sber</td>\n",
       "      <td>2548</td>\n",
       "      <td>владелец ратма таран продал основной цементный...</td>\n",
       "      <td>владелец ратм тара прода основн цементн акт гр...</td>\n",
       "      <td>2387</td>\n",
       "    </tr>\n",
       "    <tr>\n",
       "      <th>3</th>\n",
       "      <td>20140108.0</td>\n",
       "      <td>gazp</td>\n",
       "      <td>2391</td>\n",
       "      <td>прошлом году увеличил экспорт частности европу...</td>\n",
       "      <td>прошл год увелич экспорт частност европ сократ...</td>\n",
       "      <td>1630</td>\n",
       "    </tr>\n",
       "    <tr>\n",
       "      <th>4</th>\n",
       "      <td>20140109.0</td>\n",
       "      <td>zill</td>\n",
       "      <td>90</td>\n",
       "      <td>председатель совета директоров независимой неф...</td>\n",
       "      <td>председател совет директор независим нефтян ко...</td>\n",
       "      <td>961</td>\n",
       "    </tr>\n",
       "  </tbody>\n",
       "</table>\n",
       "</div>"
      ],
      "text/plain": [
       "         date ticker  total_msg  \\\n",
       "0  20210311.0   sber       2548   \n",
       "1  20140108.0   aflt        916   \n",
       "2  20140108.0   sber       2548   \n",
       "3  20140108.0   gazp       2391   \n",
       "4  20140109.0   zill         90   \n",
       "\n",
       "                                       text_reg_stop  \\\n",
       "0  схема крупной программы борьбы бедностью рф по...   \n",
       "1  следственный комитет россии скр начал проверку...   \n",
       "2  владелец ратма таран продал основной цементный...   \n",
       "3  прошлом году увеличил экспорт частности европу...   \n",
       "4  председатель совета директоров независимой неф...   \n",
       "\n",
       "                                  text_reg_stop_stem  len_lem_text  \n",
       "0  схем крупн программ борьб бедност рф поддержк ...          4041  \n",
       "1  следствен комитет росс скр нача проверк эвитер...          2642  \n",
       "2  владелец ратм тара прода основн цементн акт гр...          2387  \n",
       "3  прошл год увелич экспорт частност европ сократ...          1630  \n",
       "4  председател совет директор независим нефтян ко...           961  "
      ]
     },
     "execution_count": 2,
     "metadata": {},
     "output_type": "execute_result"
    }
   ],
   "source": [
    "s = pd.read_csv('/is/texts/mag/mag_text_lower_tic_all_flag_all_dt_e_reg_stop_stem_len.csv', sep='|')\n",
    "s.head()"
   ]
  },
  {
   "cell_type": "code",
   "execution_count": 3,
   "metadata": {},
   "outputs": [
    {
     "name": "stdout",
     "output_type": "stream",
     "text": [
      "(16280, 6)\n",
      "(16280, 6)\n",
      "(16280, 6)\n",
      "(16280, 6)\n"
     ]
    }
   ],
   "source": [
    "print(s.shape)\n",
    "s = s[(s.text_reg_stop_stem != '')]\n",
    "print(s.shape)\n",
    "s = s[(s.text_reg_stop_stem.isna() != True)]\n",
    "print(s.shape)\n",
    "s = s.drop_duplicates()\n",
    "print(s.shape)"
   ]
  },
  {
   "cell_type": "code",
   "execution_count": 4,
   "metadata": {},
   "outputs": [
    {
     "data": {
      "text/html": [
       "<div>\n",
       "<style scoped>\n",
       "    .dataframe tbody tr th:only-of-type {\n",
       "        vertical-align: middle;\n",
       "    }\n",
       "\n",
       "    .dataframe tbody tr th {\n",
       "        vertical-align: top;\n",
       "    }\n",
       "\n",
       "    .dataframe thead th {\n",
       "        text-align: right;\n",
       "    }\n",
       "</style>\n",
       "<table border=\"1\" class=\"dataframe\">\n",
       "  <thead>\n",
       "    <tr style=\"text-align: right;\">\n",
       "      <th></th>\n",
       "      <th>date</th>\n",
       "      <th>ticker</th>\n",
       "      <th>total_msg</th>\n",
       "      <th>text_reg_stop</th>\n",
       "      <th>text_reg_stop_stem</th>\n",
       "      <th>len_lem_text</th>\n",
       "      <th>msg_init</th>\n",
       "    </tr>\n",
       "  </thead>\n",
       "  <tbody>\n",
       "    <tr>\n",
       "      <th>0</th>\n",
       "      <td>20210311.0</td>\n",
       "      <td>sber</td>\n",
       "      <td>2548</td>\n",
       "      <td>схема крупной программы борьбы бедностью рф по...</td>\n",
       "      <td>схем крупн программ борьб бедност рф поддержк ...</td>\n",
       "      <td>4041</td>\n",
       "      <td>1</td>\n",
       "    </tr>\n",
       "    <tr>\n",
       "      <th>1</th>\n",
       "      <td>20140108.0</td>\n",
       "      <td>aflt</td>\n",
       "      <td>916</td>\n",
       "      <td>следственный комитет россии скр начал проверку...</td>\n",
       "      <td>следствен комитет росс скр нача проверк эвитер...</td>\n",
       "      <td>2642</td>\n",
       "      <td>1</td>\n",
       "    </tr>\n",
       "    <tr>\n",
       "      <th>2</th>\n",
       "      <td>20140108.0</td>\n",
       "      <td>sber</td>\n",
       "      <td>2548</td>\n",
       "      <td>владелец ратма таран продал основной цементный...</td>\n",
       "      <td>владелец ратм тара прода основн цементн акт гр...</td>\n",
       "      <td>2387</td>\n",
       "      <td>1</td>\n",
       "    </tr>\n",
       "    <tr>\n",
       "      <th>3</th>\n",
       "      <td>20140108.0</td>\n",
       "      <td>gazp</td>\n",
       "      <td>2391</td>\n",
       "      <td>прошлом году увеличил экспорт частности европу...</td>\n",
       "      <td>прошл год увелич экспорт частност европ сократ...</td>\n",
       "      <td>1630</td>\n",
       "      <td>1</td>\n",
       "    </tr>\n",
       "    <tr>\n",
       "      <th>4</th>\n",
       "      <td>20140109.0</td>\n",
       "      <td>zill</td>\n",
       "      <td>90</td>\n",
       "      <td>председатель совета директоров независимой неф...</td>\n",
       "      <td>председател совет директор независим нефтян ко...</td>\n",
       "      <td>961</td>\n",
       "      <td>1</td>\n",
       "    </tr>\n",
       "  </tbody>\n",
       "</table>\n",
       "</div>"
      ],
      "text/plain": [
       "         date ticker  total_msg  \\\n",
       "0  20210311.0   sber       2548   \n",
       "1  20140108.0   aflt        916   \n",
       "2  20140108.0   sber       2548   \n",
       "3  20140108.0   gazp       2391   \n",
       "4  20140109.0   zill         90   \n",
       "\n",
       "                                       text_reg_stop  \\\n",
       "0  схема крупной программы борьбы бедностью рф по...   \n",
       "1  следственный комитет россии скр начал проверку...   \n",
       "2  владелец ратма таран продал основной цементный...   \n",
       "3  прошлом году увеличил экспорт частности европу...   \n",
       "4  председатель совета директоров независимой неф...   \n",
       "\n",
       "                                  text_reg_stop_stem  len_lem_text  msg_init  \n",
       "0  схем крупн программ борьб бедност рф поддержк ...          4041         1  \n",
       "1  следствен комитет росс скр нача проверк эвитер...          2642         1  \n",
       "2  владелец ратм тара прода основн цементн акт гр...          2387         1  \n",
       "3  прошл год увелич экспорт частност европ сократ...          1630         1  \n",
       "4  председател совет директор независим нефтян ко...           961         1  "
      ]
     },
     "execution_count": 4,
     "metadata": {},
     "output_type": "execute_result"
    }
   ],
   "source": [
    "s['msg_init'] = 1\n",
    "s.head()"
   ]
  },
  {
   "cell_type": "markdown",
   "metadata": {},
   "source": [
    "### Цена"
   ]
  },
  {
   "cell_type": "code",
   "execution_count": 5,
   "metadata": {},
   "outputs": [
    {
     "data": {
      "text/plain": [
       "(77298, 26)"
      ]
     },
     "execution_count": 5,
     "metadata": {},
     "output_type": "execute_result"
    }
   ],
   "source": [
    "p = pd.read_csv('/is/prices/mag_price_change.csv', sep='|')\n",
    "p.shape"
   ]
  },
  {
   "cell_type": "code",
   "execution_count": 6,
   "metadata": {},
   "outputs": [
    {
     "data": {
      "text/html": [
       "<div>\n",
       "<style scoped>\n",
       "    .dataframe tbody tr th:only-of-type {\n",
       "        vertical-align: middle;\n",
       "    }\n",
       "\n",
       "    .dataframe tbody tr th {\n",
       "        vertical-align: top;\n",
       "    }\n",
       "\n",
       "    .dataframe thead th {\n",
       "        text-align: right;\n",
       "    }\n",
       "</style>\n",
       "<table border=\"1\" class=\"dataframe\">\n",
       "  <thead>\n",
       "    <tr style=\"text-align: right;\">\n",
       "      <th></th>\n",
       "      <th>ticker</th>\n",
       "      <th>per</th>\n",
       "      <th>date</th>\n",
       "      <th>time</th>\n",
       "      <th>open</th>\n",
       "      <th>high</th>\n",
       "      <th>low</th>\n",
       "      <th>close</th>\n",
       "      <th>vol</th>\n",
       "      <th>init</th>\n",
       "      <th>...</th>\n",
       "      <th>change_close_7</th>\n",
       "      <th>change_close_8</th>\n",
       "      <th>change_close_9</th>\n",
       "      <th>change_close_10</th>\n",
       "      <th>change_close_15</th>\n",
       "      <th>change_close_20</th>\n",
       "      <th>change_close_25</th>\n",
       "      <th>change_close_30</th>\n",
       "      <th>change_close_40</th>\n",
       "      <th>change_close_50</th>\n",
       "    </tr>\n",
       "  </thead>\n",
       "  <tbody>\n",
       "    <tr>\n",
       "      <th>0</th>\n",
       "      <td>afks</td>\n",
       "      <td>NaN</td>\n",
       "      <td>20150208.0</td>\n",
       "      <td>NaN</td>\n",
       "      <td>16.475</td>\n",
       "      <td>17.8600</td>\n",
       "      <td>16.2700</td>\n",
       "      <td>17.0500</td>\n",
       "      <td>50174450.0</td>\n",
       "      <td>0.0</td>\n",
       "      <td>...</td>\n",
       "      <td>11.344697</td>\n",
       "      <td>8.649621</td>\n",
       "      <td>6.992424</td>\n",
       "      <td>4.598485</td>\n",
       "      <td>6.045455</td>\n",
       "      <td>-9.640152</td>\n",
       "      <td>-4.583333</td>\n",
       "      <td>1.181818</td>\n",
       "      <td>-0.600379</td>\n",
       "      <td>-4.047348</td>\n",
       "    </tr>\n",
       "    <tr>\n",
       "      <th>1</th>\n",
       "      <td>afks</td>\n",
       "      <td>NaN</td>\n",
       "      <td>20150329.0</td>\n",
       "      <td>NaN</td>\n",
       "      <td>17.120</td>\n",
       "      <td>17.3850</td>\n",
       "      <td>16.8500</td>\n",
       "      <td>17.3500</td>\n",
       "      <td>11615400.0</td>\n",
       "      <td>0.0</td>\n",
       "      <td>...</td>\n",
       "      <td>-2.472427</td>\n",
       "      <td>-5.155139</td>\n",
       "      <td>-4.844196</td>\n",
       "      <td>-3.745266</td>\n",
       "      <td>-3.192147</td>\n",
       "      <td>-7.463125</td>\n",
       "      <td>-6.194771</td>\n",
       "      <td>-5.304299</td>\n",
       "      <td>-2.218125</td>\n",
       "      <td>2.997143</td>\n",
       "    </tr>\n",
       "    <tr>\n",
       "      <th>2</th>\n",
       "      <td>afks</td>\n",
       "      <td>NaN</td>\n",
       "      <td>20150524.0</td>\n",
       "      <td>NaN</td>\n",
       "      <td>16.990</td>\n",
       "      <td>17.1150</td>\n",
       "      <td>16.8450</td>\n",
       "      <td>16.9300</td>\n",
       "      <td>4198500.0</td>\n",
       "      <td>0.0</td>\n",
       "      <td>...</td>\n",
       "      <td>0.501710</td>\n",
       "      <td>0.861733</td>\n",
       "      <td>3.049194</td>\n",
       "      <td>4.639627</td>\n",
       "      <td>8.948887</td>\n",
       "      <td>9.872863</td>\n",
       "      <td>16.925720</td>\n",
       "      <td>10.504536</td>\n",
       "      <td>19.436955</td>\n",
       "      <td>23.215582</td>\n",
       "    </tr>\n",
       "    <tr>\n",
       "      <th>3</th>\n",
       "      <td>afks</td>\n",
       "      <td>NaN</td>\n",
       "      <td>20151122.0</td>\n",
       "      <td>NaN</td>\n",
       "      <td>17.360</td>\n",
       "      <td>17.7250</td>\n",
       "      <td>17.1850</td>\n",
       "      <td>17.5300</td>\n",
       "      <td>8739450.0</td>\n",
       "      <td>0.0</td>\n",
       "      <td>...</td>\n",
       "      <td>1.366253</td>\n",
       "      <td>3.060999</td>\n",
       "      <td>2.913499</td>\n",
       "      <td>0.066747</td>\n",
       "      <td>-2.594427</td>\n",
       "      <td>-1.174646</td>\n",
       "      <td>-0.364635</td>\n",
       "      <td>3.279086</td>\n",
       "      <td>0.560050</td>\n",
       "      <td>0.703665</td>\n",
       "    </tr>\n",
       "    <tr>\n",
       "      <th>4</th>\n",
       "      <td>afks</td>\n",
       "      <td>NaN</td>\n",
       "      <td>20151213.0</td>\n",
       "      <td>NaN</td>\n",
       "      <td>16.985</td>\n",
       "      <td>17.1875</td>\n",
       "      <td>16.7875</td>\n",
       "      <td>17.0725</td>\n",
       "      <td>6941850.0</td>\n",
       "      <td>0.0</td>\n",
       "      <td>...</td>\n",
       "      <td>3.618088</td>\n",
       "      <td>3.397399</td>\n",
       "      <td>3.075960</td>\n",
       "      <td>2.283046</td>\n",
       "      <td>6.033962</td>\n",
       "      <td>5.397489</td>\n",
       "      <td>3.272946</td>\n",
       "      <td>3.881582</td>\n",
       "      <td>2.506257</td>\n",
       "      <td>2.870410</td>\n",
       "    </tr>\n",
       "  </tbody>\n",
       "</table>\n",
       "<p>5 rows × 26 columns</p>\n",
       "</div>"
      ],
      "text/plain": [
       "  ticker  per        date  time    open     high      low    close  \\\n",
       "0   afks  NaN  20150208.0   NaN  16.475  17.8600  16.2700  17.0500   \n",
       "1   afks  NaN  20150329.0   NaN  17.120  17.3850  16.8500  17.3500   \n",
       "2   afks  NaN  20150524.0   NaN  16.990  17.1150  16.8450  16.9300   \n",
       "3   afks  NaN  20151122.0   NaN  17.360  17.7250  17.1850  17.5300   \n",
       "4   afks  NaN  20151213.0   NaN  16.985  17.1875  16.7875  17.0725   \n",
       "\n",
       "          vol  init  ...  change_close_7  change_close_8  change_close_9  \\\n",
       "0  50174450.0   0.0  ...       11.344697        8.649621        6.992424   \n",
       "1  11615400.0   0.0  ...       -2.472427       -5.155139       -4.844196   \n",
       "2   4198500.0   0.0  ...        0.501710        0.861733        3.049194   \n",
       "3   8739450.0   0.0  ...        1.366253        3.060999        2.913499   \n",
       "4   6941850.0   0.0  ...        3.618088        3.397399        3.075960   \n",
       "\n",
       "   change_close_10  change_close_15  change_close_20  change_close_25  \\\n",
       "0         4.598485         6.045455        -9.640152        -4.583333   \n",
       "1        -3.745266        -3.192147        -7.463125        -6.194771   \n",
       "2         4.639627         8.948887         9.872863        16.925720   \n",
       "3         0.066747        -2.594427        -1.174646        -0.364635   \n",
       "4         2.283046         6.033962         5.397489         3.272946   \n",
       "\n",
       "   change_close_30  change_close_40  change_close_50  \n",
       "0         1.181818        -0.600379        -4.047348  \n",
       "1        -5.304299        -2.218125         2.997143  \n",
       "2        10.504536        19.436955        23.215582  \n",
       "3         3.279086         0.560050         0.703665  \n",
       "4         3.881582         2.506257         2.870410  \n",
       "\n",
       "[5 rows x 26 columns]"
      ]
     },
     "execution_count": 6,
     "metadata": {},
     "output_type": "execute_result"
    }
   ],
   "source": [
    "p.head()"
   ]
  },
  {
   "cell_type": "code",
   "execution_count": 7,
   "metadata": {},
   "outputs": [],
   "source": [
    "s.date = s.date.astype(float)\n",
    "p.date = p.date.astype(float)\n",
    "s.ticker = s.ticker.str.lower()\n",
    "p.ticker = p.ticker.str.lower()"
   ]
  },
  {
   "cell_type": "code",
   "execution_count": 8,
   "metadata": {},
   "outputs": [
    {
     "name": "stdout",
     "output_type": "stream",
     "text": [
      "(16280, 7) (77298, 26)\n"
     ]
    }
   ],
   "source": [
    "print(s.shape, p.shape)"
   ]
  },
  {
   "cell_type": "code",
   "execution_count": 9,
   "metadata": {},
   "outputs": [
    {
     "data": {
      "text/html": [
       "<div>\n",
       "<style scoped>\n",
       "    .dataframe tbody tr th:only-of-type {\n",
       "        vertical-align: middle;\n",
       "    }\n",
       "\n",
       "    .dataframe tbody tr th {\n",
       "        vertical-align: top;\n",
       "    }\n",
       "\n",
       "    .dataframe thead th {\n",
       "        text-align: right;\n",
       "    }\n",
       "</style>\n",
       "<table border=\"1\" class=\"dataframe\">\n",
       "  <thead>\n",
       "    <tr style=\"text-align: right;\">\n",
       "      <th></th>\n",
       "      <th>ticker</th>\n",
       "      <th>per</th>\n",
       "      <th>date</th>\n",
       "      <th>time</th>\n",
       "      <th>open</th>\n",
       "      <th>high</th>\n",
       "      <th>low</th>\n",
       "      <th>close</th>\n",
       "      <th>vol</th>\n",
       "      <th>price_init</th>\n",
       "      <th>...</th>\n",
       "      <th>change_close_7</th>\n",
       "      <th>change_close_8</th>\n",
       "      <th>change_close_9</th>\n",
       "      <th>change_close_10</th>\n",
       "      <th>change_close_15</th>\n",
       "      <th>change_close_20</th>\n",
       "      <th>change_close_25</th>\n",
       "      <th>change_close_30</th>\n",
       "      <th>change_close_40</th>\n",
       "      <th>change_close_50</th>\n",
       "    </tr>\n",
       "  </thead>\n",
       "  <tbody>\n",
       "    <tr>\n",
       "      <th>0</th>\n",
       "      <td>afks</td>\n",
       "      <td>NaN</td>\n",
       "      <td>20150208.0</td>\n",
       "      <td>NaN</td>\n",
       "      <td>16.475</td>\n",
       "      <td>17.8600</td>\n",
       "      <td>16.2700</td>\n",
       "      <td>17.0500</td>\n",
       "      <td>50174450.0</td>\n",
       "      <td>0.0</td>\n",
       "      <td>...</td>\n",
       "      <td>11.344697</td>\n",
       "      <td>8.649621</td>\n",
       "      <td>6.992424</td>\n",
       "      <td>4.598485</td>\n",
       "      <td>6.045455</td>\n",
       "      <td>-9.640152</td>\n",
       "      <td>-4.583333</td>\n",
       "      <td>1.181818</td>\n",
       "      <td>-0.600379</td>\n",
       "      <td>-4.047348</td>\n",
       "    </tr>\n",
       "    <tr>\n",
       "      <th>1</th>\n",
       "      <td>afks</td>\n",
       "      <td>NaN</td>\n",
       "      <td>20150329.0</td>\n",
       "      <td>NaN</td>\n",
       "      <td>17.120</td>\n",
       "      <td>17.3850</td>\n",
       "      <td>16.8500</td>\n",
       "      <td>17.3500</td>\n",
       "      <td>11615400.0</td>\n",
       "      <td>0.0</td>\n",
       "      <td>...</td>\n",
       "      <td>-2.472427</td>\n",
       "      <td>-5.155139</td>\n",
       "      <td>-4.844196</td>\n",
       "      <td>-3.745266</td>\n",
       "      <td>-3.192147</td>\n",
       "      <td>-7.463125</td>\n",
       "      <td>-6.194771</td>\n",
       "      <td>-5.304299</td>\n",
       "      <td>-2.218125</td>\n",
       "      <td>2.997143</td>\n",
       "    </tr>\n",
       "    <tr>\n",
       "      <th>2</th>\n",
       "      <td>afks</td>\n",
       "      <td>NaN</td>\n",
       "      <td>20150524.0</td>\n",
       "      <td>NaN</td>\n",
       "      <td>16.990</td>\n",
       "      <td>17.1150</td>\n",
       "      <td>16.8450</td>\n",
       "      <td>16.9300</td>\n",
       "      <td>4198500.0</td>\n",
       "      <td>0.0</td>\n",
       "      <td>...</td>\n",
       "      <td>0.501710</td>\n",
       "      <td>0.861733</td>\n",
       "      <td>3.049194</td>\n",
       "      <td>4.639627</td>\n",
       "      <td>8.948887</td>\n",
       "      <td>9.872863</td>\n",
       "      <td>16.925720</td>\n",
       "      <td>10.504536</td>\n",
       "      <td>19.436955</td>\n",
       "      <td>23.215582</td>\n",
       "    </tr>\n",
       "    <tr>\n",
       "      <th>3</th>\n",
       "      <td>afks</td>\n",
       "      <td>NaN</td>\n",
       "      <td>20151122.0</td>\n",
       "      <td>NaN</td>\n",
       "      <td>17.360</td>\n",
       "      <td>17.7250</td>\n",
       "      <td>17.1850</td>\n",
       "      <td>17.5300</td>\n",
       "      <td>8739450.0</td>\n",
       "      <td>0.0</td>\n",
       "      <td>...</td>\n",
       "      <td>1.366253</td>\n",
       "      <td>3.060999</td>\n",
       "      <td>2.913499</td>\n",
       "      <td>0.066747</td>\n",
       "      <td>-2.594427</td>\n",
       "      <td>-1.174646</td>\n",
       "      <td>-0.364635</td>\n",
       "      <td>3.279086</td>\n",
       "      <td>0.560050</td>\n",
       "      <td>0.703665</td>\n",
       "    </tr>\n",
       "    <tr>\n",
       "      <th>4</th>\n",
       "      <td>afks</td>\n",
       "      <td>NaN</td>\n",
       "      <td>20151213.0</td>\n",
       "      <td>NaN</td>\n",
       "      <td>16.985</td>\n",
       "      <td>17.1875</td>\n",
       "      <td>16.7875</td>\n",
       "      <td>17.0725</td>\n",
       "      <td>6941850.0</td>\n",
       "      <td>0.0</td>\n",
       "      <td>...</td>\n",
       "      <td>3.618088</td>\n",
       "      <td>3.397399</td>\n",
       "      <td>3.075960</td>\n",
       "      <td>2.283046</td>\n",
       "      <td>6.033962</td>\n",
       "      <td>5.397489</td>\n",
       "      <td>3.272946</td>\n",
       "      <td>3.881582</td>\n",
       "      <td>2.506257</td>\n",
       "      <td>2.870410</td>\n",
       "    </tr>\n",
       "  </tbody>\n",
       "</table>\n",
       "<p>5 rows × 26 columns</p>\n",
       "</div>"
      ],
      "text/plain": [
       "  ticker  per        date  time    open     high      low    close  \\\n",
       "0   afks  NaN  20150208.0   NaN  16.475  17.8600  16.2700  17.0500   \n",
       "1   afks  NaN  20150329.0   NaN  17.120  17.3850  16.8500  17.3500   \n",
       "2   afks  NaN  20150524.0   NaN  16.990  17.1150  16.8450  16.9300   \n",
       "3   afks  NaN  20151122.0   NaN  17.360  17.7250  17.1850  17.5300   \n",
       "4   afks  NaN  20151213.0   NaN  16.985  17.1875  16.7875  17.0725   \n",
       "\n",
       "          vol  price_init  ...  change_close_7  change_close_8  \\\n",
       "0  50174450.0         0.0  ...       11.344697        8.649621   \n",
       "1  11615400.0         0.0  ...       -2.472427       -5.155139   \n",
       "2   4198500.0         0.0  ...        0.501710        0.861733   \n",
       "3   8739450.0         0.0  ...        1.366253        3.060999   \n",
       "4   6941850.0         0.0  ...        3.618088        3.397399   \n",
       "\n",
       "   change_close_9  change_close_10  change_close_15  change_close_20  \\\n",
       "0        6.992424         4.598485         6.045455        -9.640152   \n",
       "1       -4.844196        -3.745266        -3.192147        -7.463125   \n",
       "2        3.049194         4.639627         8.948887         9.872863   \n",
       "3        2.913499         0.066747        -2.594427        -1.174646   \n",
       "4        3.075960         2.283046         6.033962         5.397489   \n",
       "\n",
       "   change_close_25  change_close_30  change_close_40  change_close_50  \n",
       "0        -4.583333         1.181818        -0.600379        -4.047348  \n",
       "1        -6.194771        -5.304299        -2.218125         2.997143  \n",
       "2        16.925720        10.504536        19.436955        23.215582  \n",
       "3        -0.364635         3.279086         0.560050         0.703665  \n",
       "4         3.272946         3.881582         2.506257         2.870410  \n",
       "\n",
       "[5 rows x 26 columns]"
      ]
     },
     "execution_count": 9,
     "metadata": {},
     "output_type": "execute_result"
    }
   ],
   "source": [
    "p.rename(columns = {'init': 'price_init'}, inplace=True)\n",
    "p.head()"
   ]
  },
  {
   "cell_type": "code",
   "execution_count": 10,
   "metadata": {},
   "outputs": [
    {
     "name": "stdout",
     "output_type": "stream",
     "text": [
      "(15281, 31)\n"
     ]
    },
    {
     "data": {
      "text/html": [
       "<div>\n",
       "<style scoped>\n",
       "    .dataframe tbody tr th:only-of-type {\n",
       "        vertical-align: middle;\n",
       "    }\n",
       "\n",
       "    .dataframe tbody tr th {\n",
       "        vertical-align: top;\n",
       "    }\n",
       "\n",
       "    .dataframe thead th {\n",
       "        text-align: right;\n",
       "    }\n",
       "</style>\n",
       "<table border=\"1\" class=\"dataframe\">\n",
       "  <thead>\n",
       "    <tr style=\"text-align: right;\">\n",
       "      <th></th>\n",
       "      <th>ticker</th>\n",
       "      <th>per</th>\n",
       "      <th>date</th>\n",
       "      <th>time</th>\n",
       "      <th>open</th>\n",
       "      <th>high</th>\n",
       "      <th>low</th>\n",
       "      <th>close</th>\n",
       "      <th>vol</th>\n",
       "      <th>price_init</th>\n",
       "      <th>...</th>\n",
       "      <th>change_close_20</th>\n",
       "      <th>change_close_25</th>\n",
       "      <th>change_close_30</th>\n",
       "      <th>change_close_40</th>\n",
       "      <th>change_close_50</th>\n",
       "      <th>total_msg</th>\n",
       "      <th>text_reg_stop</th>\n",
       "      <th>text_reg_stop_stem</th>\n",
       "      <th>len_lem_text</th>\n",
       "      <th>msg_init</th>\n",
       "    </tr>\n",
       "  </thead>\n",
       "  <tbody>\n",
       "    <tr>\n",
       "      <th>0</th>\n",
       "      <td>afks</td>\n",
       "      <td>NaN</td>\n",
       "      <td>20150208.0</td>\n",
       "      <td>NaN</td>\n",
       "      <td>16.475</td>\n",
       "      <td>17.860</td>\n",
       "      <td>16.2700</td>\n",
       "      <td>17.050</td>\n",
       "      <td>50174450.0</td>\n",
       "      <td>0.0</td>\n",
       "      <td>...</td>\n",
       "      <td>-9.640152</td>\n",
       "      <td>-4.583333</td>\n",
       "      <td>1.181818</td>\n",
       "      <td>-0.600379</td>\n",
       "      <td>-4.047348</td>\n",
       "      <td>182</td>\n",
       "      <td>коррупционный скандал разгорелся подконтрольно...</td>\n",
       "      <td>коррупцион сканда разгорел подконтрольн минстр...</td>\n",
       "      <td>3820</td>\n",
       "      <td>1</td>\n",
       "    </tr>\n",
       "    <tr>\n",
       "      <th>1</th>\n",
       "      <td>afks</td>\n",
       "      <td>NaN</td>\n",
       "      <td>20150329.0</td>\n",
       "      <td>NaN</td>\n",
       "      <td>17.120</td>\n",
       "      <td>17.385</td>\n",
       "      <td>16.8500</td>\n",
       "      <td>17.350</td>\n",
       "      <td>11615400.0</td>\n",
       "      <td>0.0</td>\n",
       "      <td>...</td>\n",
       "      <td>-7.463125</td>\n",
       "      <td>-6.194771</td>\n",
       "      <td>-5.304299</td>\n",
       "      <td>-2.218125</td>\n",
       "      <td>2.997143</td>\n",
       "      <td>182</td>\n",
       "      <td>федеральная таможенная служба фтс изменила пра...</td>\n",
       "      <td>федеральн таможен служб фтс измен прав беспошл...</td>\n",
       "      <td>3637</td>\n",
       "      <td>1</td>\n",
       "    </tr>\n",
       "    <tr>\n",
       "      <th>2</th>\n",
       "      <td>afks</td>\n",
       "      <td>NaN</td>\n",
       "      <td>20150524.0</td>\n",
       "      <td>NaN</td>\n",
       "      <td>16.990</td>\n",
       "      <td>17.115</td>\n",
       "      <td>16.8450</td>\n",
       "      <td>16.930</td>\n",
       "      <td>4198500.0</td>\n",
       "      <td>0.0</td>\n",
       "      <td>...</td>\n",
       "      <td>9.872863</td>\n",
       "      <td>16.925720</td>\n",
       "      <td>10.504536</td>\n",
       "      <td>19.436955</td>\n",
       "      <td>23.215582</td>\n",
       "      <td>182</td>\n",
       "      <td>следственный комитет рф вчера предъявил обвине...</td>\n",
       "      <td>следствен комитет рф вчер предъяв обвинен окон...</td>\n",
       "      <td>1550</td>\n",
       "      <td>1</td>\n",
       "    </tr>\n",
       "    <tr>\n",
       "      <th>3</th>\n",
       "      <td>afks</td>\n",
       "      <td>NaN</td>\n",
       "      <td>20151122.0</td>\n",
       "      <td>NaN</td>\n",
       "      <td>17.360</td>\n",
       "      <td>17.725</td>\n",
       "      <td>17.1850</td>\n",
       "      <td>17.530</td>\n",
       "      <td>8739450.0</td>\n",
       "      <td>0.0</td>\n",
       "      <td>...</td>\n",
       "      <td>-1.174646</td>\n",
       "      <td>-0.364635</td>\n",
       "      <td>3.279086</td>\n",
       "      <td>0.560050</td>\n",
       "      <td>0.703665</td>\n",
       "      <td>182</td>\n",
       "      <td>стало известно ъ совет евразийской экономическ...</td>\n",
       "      <td>стал известн ь совет евразийск экономическ ком...</td>\n",
       "      <td>3445</td>\n",
       "      <td>1</td>\n",
       "    </tr>\n",
       "    <tr>\n",
       "      <th>4</th>\n",
       "      <td>afks</td>\n",
       "      <td>NaN</td>\n",
       "      <td>20160110.0</td>\n",
       "      <td>NaN</td>\n",
       "      <td>17.800</td>\n",
       "      <td>18.050</td>\n",
       "      <td>17.4825</td>\n",
       "      <td>17.835</td>\n",
       "      <td>7370300.0</td>\n",
       "      <td>0.0</td>\n",
       "      <td>...</td>\n",
       "      <td>-2.245219</td>\n",
       "      <td>-1.948543</td>\n",
       "      <td>-0.822827</td>\n",
       "      <td>2.681120</td>\n",
       "      <td>-1.711137</td>\n",
       "      <td>182</td>\n",
       "      <td>продала детского мира российскокитайскому инве...</td>\n",
       "      <td>прода детск мир российскокитайск инвестицион ф...</td>\n",
       "      <td>1811</td>\n",
       "      <td>1</td>\n",
       "    </tr>\n",
       "  </tbody>\n",
       "</table>\n",
       "<p>5 rows × 31 columns</p>\n",
       "</div>"
      ],
      "text/plain": [
       "  ticker  per        date  time    open    high      low   close         vol  \\\n",
       "0   afks  NaN  20150208.0   NaN  16.475  17.860  16.2700  17.050  50174450.0   \n",
       "1   afks  NaN  20150329.0   NaN  17.120  17.385  16.8500  17.350  11615400.0   \n",
       "2   afks  NaN  20150524.0   NaN  16.990  17.115  16.8450  16.930   4198500.0   \n",
       "3   afks  NaN  20151122.0   NaN  17.360  17.725  17.1850  17.530   8739450.0   \n",
       "4   afks  NaN  20160110.0   NaN  17.800  18.050  17.4825  17.835   7370300.0   \n",
       "\n",
       "   price_init  ...  change_close_20  change_close_25  change_close_30  \\\n",
       "0         0.0  ...        -9.640152        -4.583333         1.181818   \n",
       "1         0.0  ...        -7.463125        -6.194771        -5.304299   \n",
       "2         0.0  ...         9.872863        16.925720        10.504536   \n",
       "3         0.0  ...        -1.174646        -0.364635         3.279086   \n",
       "4         0.0  ...        -2.245219        -1.948543        -0.822827   \n",
       "\n",
       "   change_close_40  change_close_50  total_msg  \\\n",
       "0        -0.600379        -4.047348        182   \n",
       "1        -2.218125         2.997143        182   \n",
       "2        19.436955        23.215582        182   \n",
       "3         0.560050         0.703665        182   \n",
       "4         2.681120        -1.711137        182   \n",
       "\n",
       "                                       text_reg_stop  \\\n",
       "0  коррупционный скандал разгорелся подконтрольно...   \n",
       "1  федеральная таможенная служба фтс изменила пра...   \n",
       "2  следственный комитет рф вчера предъявил обвине...   \n",
       "3  стало известно ъ совет евразийской экономическ...   \n",
       "4  продала детского мира российскокитайскому инве...   \n",
       "\n",
       "                                  text_reg_stop_stem  len_lem_text  msg_init  \n",
       "0  коррупцион сканда разгорел подконтрольн минстр...          3820         1  \n",
       "1  федеральн таможен служб фтс измен прав беспошл...          3637         1  \n",
       "2  следствен комитет рф вчер предъяв обвинен окон...          1550         1  \n",
       "3  стал известн ь совет евразийск экономическ ком...          3445         1  \n",
       "4  прода детск мир российскокитайск инвестицион ф...          1811         1  \n",
       "\n",
       "[5 rows x 31 columns]"
      ]
     },
     "execution_count": 10,
     "metadata": {},
     "output_type": "execute_result"
    }
   ],
   "source": [
    "ps = p.merge(s, how='inner', on=['date', 'ticker'])\n",
    "ps.to_csv('/is/prices/mag_price_sentiment_join.csv', sep='|', index = False)\n",
    "print(ps.shape)\n",
    "ps.head()"
   ]
  },
  {
   "cell_type": "code",
   "execution_count": 11,
   "metadata": {},
   "outputs": [
    {
     "name": "stdout",
     "output_type": "stream",
     "text": [
      "(15281, 31)\n",
      "(15281, 31)\n"
     ]
    }
   ],
   "source": [
    "print(ps.shape)\n",
    "ps = ps[ps.ticker.isin(p.ticker.unique())]\n",
    "print(ps.shape)"
   ]
  },
  {
   "cell_type": "code",
   "execution_count": 19,
   "metadata": {},
   "outputs": [
    {
     "name": "stdout",
     "output_type": "stream",
     "text": [
      "'ticker', 'per', 'date', 'time', 'open', 'high', 'low', 'close', 'vol', 'price_init', 'change_close_1', 'change_close_2', 'change_close_3', 'change_close_4', 'change_close_5', 'change_close_6', 'change_close_7', 'change_close_8', 'change_close_9', 'change_close_10', 'change_close_15', 'change_close_20', 'change_close_25', 'change_close_30', 'change_close_40', 'change_close_50', 'total_msg', 'text_reg_stop', 'text_reg_stop_stem', 'len_lem_text', 'msg_init', 'label_1_0.05', 'label_1_0.1', 'label_1_0.2', 'label_1_0.3', 'label_1_0.5', 'label_1_0.8', 'label_1_1.0', 'label_1_2.0', 'label_1_3.0', 'label_1_4.0', 'label_1_5.0', 'label_1_6.0', 'label_1_7.0', 'label_1_8.0', 'label_1_9.0', 'label_1_10.0', 'label_2_0.05', 'label_2_0.1', 'label_2_0.2', 'label_2_0.3', 'label_2_0.5', 'label_2_0.8', 'label_2_1.0', 'label_2_2.0', 'label_2_3.0', 'label_2_4.0', 'label_2_5.0', 'label_2_6.0', 'label_2_7.0', 'label_2_8.0', 'label_2_9.0', 'label_2_10.0', 'label_3_0.05', 'label_3_0.1', 'label_3_0.2', 'label_3_0.3', 'label_3_0.5', 'label_3_0.8', 'label_3_1.0', 'label_3_2.0', 'label_3_3.0', 'label_3_4.0', 'label_3_5.0', 'label_3_6.0', 'label_3_7.0', 'label_3_8.0', 'label_3_9.0', 'label_3_10.0', 'label_4_0.05', 'label_4_0.1', 'label_4_0.2', 'label_4_0.3', 'label_4_0.5', 'label_4_0.8', 'label_4_1.0', 'label_4_2.0', 'label_4_3.0', 'label_4_4.0', 'label_4_5.0', 'label_4_6.0', 'label_4_7.0', 'label_4_8.0', 'label_4_9.0', 'label_4_10.0', 'label_5_0.05', 'label_5_0.1', 'label_5_0.2', 'label_5_0.3', 'label_5_0.5', 'label_5_0.8', 'label_5_1.0', 'label_5_2.0', 'label_5_3.0', 'label_5_4.0', 'label_5_5.0', 'label_5_6.0', 'label_5_7.0', 'label_5_8.0', 'label_5_9.0', 'label_5_10.0', 'label_6_0.05', 'label_6_0.1', 'label_6_0.2', 'label_6_0.3', 'label_6_0.5', 'label_6_0.8', 'label_6_1.0', 'label_6_2.0', 'label_6_3.0', 'label_6_4.0', 'label_6_5.0', 'label_6_6.0', 'label_6_7.0', 'label_6_8.0', 'label_6_9.0', 'label_6_10.0', 'label_7_0.05', 'label_7_0.1', 'label_7_0.2', 'label_7_0.3', 'label_7_0.5', 'label_7_0.8', 'label_7_1.0', 'label_7_2.0', 'label_7_3.0', 'label_7_4.0', 'label_7_5.0', 'label_7_6.0', 'label_7_7.0', 'label_7_8.0', 'label_7_9.0', 'label_7_10.0', 'label_8_0.05', 'label_8_0.1', 'label_8_0.2', 'label_8_0.3', 'label_8_0.5', 'label_8_0.8', 'label_8_1.0', 'label_8_2.0', 'label_8_3.0', 'label_8_4.0', 'label_8_5.0', 'label_8_6.0', 'label_8_7.0', 'label_8_8.0', 'label_8_9.0', 'label_8_10.0', 'label_9_0.05', 'label_9_0.1', 'label_9_0.2', 'label_9_0.3', 'label_9_0.5', 'label_9_0.8', 'label_9_1.0', 'label_9_2.0', 'label_9_3.0', 'label_9_4.0', 'label_9_5.0', 'label_9_6.0', 'label_9_7.0', 'label_9_8.0', 'label_9_9.0', 'label_9_10.0', 'label_10_0.05', 'label_10_0.1', 'label_10_0.2', 'label_10_0.3', 'label_10_0.5', 'label_10_0.8', 'label_10_1.0', 'label_10_2.0', 'label_10_3.0', 'label_10_4.0', 'label_10_5.0', 'label_10_6.0', 'label_10_7.0', 'label_10_8.0', 'label_10_9.0', 'label_10_10.0', 'label_15_0.05', 'label_15_0.1', 'label_15_0.2', 'label_15_0.3', 'label_15_0.5', 'label_15_0.8', 'label_15_1.0', 'label_15_2.0', 'label_15_3.0', 'label_15_4.0', 'label_15_5.0', 'label_15_6.0', 'label_15_7.0', 'label_15_8.0', 'label_15_9.0', 'label_15_10.0', 'label_20_0.05', 'label_20_0.1', 'label_20_0.2', 'label_20_0.3', 'label_20_0.5', 'label_20_0.8', 'label_20_1.0', 'label_20_2.0', 'label_20_3.0', 'label_20_4.0', 'label_20_5.0', 'label_20_6.0', 'label_20_7.0', 'label_20_8.0', 'label_20_9.0', 'label_20_10.0', 'label_25_0.05', 'label_25_0.1', 'label_25_0.2', 'label_25_0.3', 'label_25_0.5', 'label_25_0.8', 'label_25_1.0', 'label_25_2.0', 'label_25_3.0', 'label_25_4.0', 'label_25_5.0', 'label_25_6.0', 'label_25_7.0', 'label_25_8.0', 'label_25_9.0', 'label_25_10.0', 'label_30_0.05', 'label_30_0.1', 'label_30_0.2', 'label_30_0.3', 'label_30_0.5', 'label_30_0.8', 'label_30_1.0', 'label_30_2.0', 'label_30_3.0', 'label_30_4.0', 'label_30_5.0', 'label_30_6.0', 'label_30_7.0', 'label_30_8.0', 'label_30_9.0', 'label_30_10.0', 'label_40_0.05', 'label_40_0.1', 'label_40_0.2', 'label_40_0.3', 'label_40_0.5', 'label_40_0.8', 'label_40_1.0', 'label_40_2.0', 'label_40_3.0', 'label_40_4.0', 'label_40_5.0', 'label_40_6.0', 'label_40_7.0', 'label_40_8.0', 'label_40_9.0', 'label_40_10.0', 'label_50_0.05', 'label_50_0.1', 'label_50_0.2', 'label_50_0.3', 'label_50_0.5', 'label_50_0.8', 'label_50_1.0', 'label_50_2.0', 'label_50_3.0', 'label_50_4.0', 'label_50_5.0', 'label_50_6.0', 'label_50_7.0', 'label_50_8.0', 'label_50_9.0', 'label_50_10.0', "
     ]
    }
   ],
   "source": [
    "for i in ps.columns: print(f\"'{i}', \", sep='', end='')"
   ]
  },
  {
   "cell_type": "code",
   "execution_count": 13,
   "metadata": {},
   "outputs": [],
   "source": [
    "ps.to_csv('/is/prices/mag_price_sentiment_join.csv', sep='|', index = False)"
   ]
  },
  {
   "cell_type": "code",
   "execution_count": 14,
   "metadata": {},
   "outputs": [],
   "source": [
    "def labelling(df, price, field, n=0):\n",
    "#исправить функцию чтобы она по массиву брала\n",
    "    \n",
    "    '''\n",
    "    Функция определяет сентимент поля price\n",
    "    и указывает в новом поле field:\n",
    "    1 для положительного фона,\n",
    "    0 для негативного фона,\n",
    "    -1 для нейтрального фона.\n",
    "    Фон определяется на основе уровня изменения цены - n.\n",
    "    \n",
    "    '''\n",
    "    df[field] = None\n",
    "    \n",
    "    df[field][df[price] >= (n)] = 1\n",
    "    df[field][df[price] <= (-n)] = -1\n",
    "    df[field][(df[price] > (-n)) & (df[price] < (n))] = 0\n"
   ]
  },
  {
   "cell_type": "code",
   "execution_count": 36,
   "metadata": {},
   "outputs": [
    {
     "data": {
      "text/plain": [
       "array([ 1.,  2.,  3.,  4.,  5.,  6.,  7.,  8.,  9., 10.])"
      ]
     },
     "execution_count": 36,
     "metadata": {},
     "output_type": "execute_result"
    }
   ],
   "source": [
    "np.linspace(1, 10, num=10)"
   ]
  },
  {
   "cell_type": "code",
   "execution_count": 15,
   "metadata": {
    "scrolled": true
   },
   "outputs": [
    {
     "data": {
      "application/vnd.jupyter.widget-view+json": {
       "model_id": "ca42787e79c74bbbb432a5ef1bf02548",
       "version_major": 2,
       "version_minor": 0
      },
      "text/plain": [
       "HBox(children=(FloatProgress(value=0.0, max=16.0), HTML(value='')))"
      ]
     },
     "metadata": {},
     "output_type": "display_data"
    },
    {
     "data": {
      "application/vnd.jupyter.widget-view+json": {
       "model_id": "04f76e984a2f434c8a79a5a0d200aa7d",
       "version_major": 2,
       "version_minor": 0
      },
      "text/plain": [
       "HBox(children=(FloatProgress(value=0.0, max=16.0), HTML(value='')))"
      ]
     },
     "metadata": {},
     "output_type": "display_data"
    },
    {
     "name": "stderr",
     "output_type": "stream",
     "text": [
      "/opt/conda/lib/python3.7/site-packages/ipykernel_launcher.py:15: SettingWithCopyWarning: \n",
      "A value is trying to be set on a copy of a slice from a DataFrame\n",
      "\n",
      "See the caveats in the documentation: https://pandas.pydata.org/pandas-docs/stable/user_guide/indexing.html#returning-a-view-versus-a-copy\n",
      "  from ipykernel import kernelapp as app\n",
      "/opt/conda/lib/python3.7/site-packages/ipykernel_launcher.py:16: SettingWithCopyWarning: \n",
      "A value is trying to be set on a copy of a slice from a DataFrame\n",
      "\n",
      "See the caveats in the documentation: https://pandas.pydata.org/pandas-docs/stable/user_guide/indexing.html#returning-a-view-versus-a-copy\n",
      "  app.launch_new_instance()\n",
      "/opt/conda/lib/python3.7/site-packages/ipykernel_launcher.py:17: SettingWithCopyWarning: \n",
      "A value is trying to be set on a copy of a slice from a DataFrame\n",
      "\n",
      "See the caveats in the documentation: https://pandas.pydata.org/pandas-docs/stable/user_guide/indexing.html#returning-a-view-versus-a-copy\n"
     ]
    },
    {
     "name": "stdout",
     "output_type": "stream",
     "text": [
      "\n"
     ]
    },
    {
     "data": {
      "application/vnd.jupyter.widget-view+json": {
       "model_id": "aee9bca512d74948ae0d9a2de59eae38",
       "version_major": 2,
       "version_minor": 0
      },
      "text/plain": [
       "HBox(children=(FloatProgress(value=0.0, max=16.0), HTML(value='')))"
      ]
     },
     "metadata": {},
     "output_type": "display_data"
    },
    {
     "name": "stdout",
     "output_type": "stream",
     "text": [
      "\n"
     ]
    },
    {
     "data": {
      "application/vnd.jupyter.widget-view+json": {
       "model_id": "6ecb4bb5432b425580c5838cfa21e191",
       "version_major": 2,
       "version_minor": 0
      },
      "text/plain": [
       "HBox(children=(FloatProgress(value=0.0, max=16.0), HTML(value='')))"
      ]
     },
     "metadata": {},
     "output_type": "display_data"
    },
    {
     "name": "stdout",
     "output_type": "stream",
     "text": [
      "\n"
     ]
    },
    {
     "data": {
      "application/vnd.jupyter.widget-view+json": {
       "model_id": "e993d4cd93304576891e170cb9748996",
       "version_major": 2,
       "version_minor": 0
      },
      "text/plain": [
       "HBox(children=(FloatProgress(value=0.0, max=16.0), HTML(value='')))"
      ]
     },
     "metadata": {},
     "output_type": "display_data"
    },
    {
     "name": "stdout",
     "output_type": "stream",
     "text": [
      "\n"
     ]
    },
    {
     "data": {
      "application/vnd.jupyter.widget-view+json": {
       "model_id": "550cdf43012a49bb842bf8200920797e",
       "version_major": 2,
       "version_minor": 0
      },
      "text/plain": [
       "HBox(children=(FloatProgress(value=0.0, max=16.0), HTML(value='')))"
      ]
     },
     "metadata": {},
     "output_type": "display_data"
    },
    {
     "name": "stdout",
     "output_type": "stream",
     "text": [
      "\n"
     ]
    },
    {
     "data": {
      "application/vnd.jupyter.widget-view+json": {
       "model_id": "ddf58f2c5a8d407eb4a5c8920fd7fd9e",
       "version_major": 2,
       "version_minor": 0
      },
      "text/plain": [
       "HBox(children=(FloatProgress(value=0.0, max=16.0), HTML(value='')))"
      ]
     },
     "metadata": {},
     "output_type": "display_data"
    },
    {
     "name": "stdout",
     "output_type": "stream",
     "text": [
      "\n"
     ]
    },
    {
     "data": {
      "application/vnd.jupyter.widget-view+json": {
       "model_id": "2e7ef4ecec814709bb0435c7db8a12ac",
       "version_major": 2,
       "version_minor": 0
      },
      "text/plain": [
       "HBox(children=(FloatProgress(value=0.0, max=16.0), HTML(value='')))"
      ]
     },
     "metadata": {},
     "output_type": "display_data"
    },
    {
     "name": "stdout",
     "output_type": "stream",
     "text": [
      "\n"
     ]
    },
    {
     "data": {
      "application/vnd.jupyter.widget-view+json": {
       "model_id": "716afc18ff4a4b56a4054f902b133a6d",
       "version_major": 2,
       "version_minor": 0
      },
      "text/plain": [
       "HBox(children=(FloatProgress(value=0.0, max=16.0), HTML(value='')))"
      ]
     },
     "metadata": {},
     "output_type": "display_data"
    },
    {
     "name": "stdout",
     "output_type": "stream",
     "text": [
      "\n"
     ]
    },
    {
     "data": {
      "application/vnd.jupyter.widget-view+json": {
       "model_id": "08eb96da7aeb48a684e03bf3de99bb73",
       "version_major": 2,
       "version_minor": 0
      },
      "text/plain": [
       "HBox(children=(FloatProgress(value=0.0, max=16.0), HTML(value='')))"
      ]
     },
     "metadata": {},
     "output_type": "display_data"
    },
    {
     "name": "stdout",
     "output_type": "stream",
     "text": [
      "\n"
     ]
    },
    {
     "data": {
      "application/vnd.jupyter.widget-view+json": {
       "model_id": "74d25db965704f21836e6c538b462695",
       "version_major": 2,
       "version_minor": 0
      },
      "text/plain": [
       "HBox(children=(FloatProgress(value=0.0, max=16.0), HTML(value='')))"
      ]
     },
     "metadata": {},
     "output_type": "display_data"
    },
    {
     "name": "stdout",
     "output_type": "stream",
     "text": [
      "\n"
     ]
    },
    {
     "data": {
      "application/vnd.jupyter.widget-view+json": {
       "model_id": "ece3868f05cc48529fa16bb7cd318c85",
       "version_major": 2,
       "version_minor": 0
      },
      "text/plain": [
       "HBox(children=(FloatProgress(value=0.0, max=16.0), HTML(value='')))"
      ]
     },
     "metadata": {},
     "output_type": "display_data"
    },
    {
     "name": "stdout",
     "output_type": "stream",
     "text": [
      "\n"
     ]
    },
    {
     "data": {
      "application/vnd.jupyter.widget-view+json": {
       "model_id": "dcdab08bc68546ed8f3b169590b8559c",
       "version_major": 2,
       "version_minor": 0
      },
      "text/plain": [
       "HBox(children=(FloatProgress(value=0.0, max=16.0), HTML(value='')))"
      ]
     },
     "metadata": {},
     "output_type": "display_data"
    },
    {
     "name": "stdout",
     "output_type": "stream",
     "text": [
      "\n"
     ]
    },
    {
     "data": {
      "application/vnd.jupyter.widget-view+json": {
       "model_id": "c3ed3344010346969346967712264c66",
       "version_major": 2,
       "version_minor": 0
      },
      "text/plain": [
       "HBox(children=(FloatProgress(value=0.0, max=16.0), HTML(value='')))"
      ]
     },
     "metadata": {},
     "output_type": "display_data"
    },
    {
     "name": "stdout",
     "output_type": "stream",
     "text": [
      "\n"
     ]
    },
    {
     "data": {
      "application/vnd.jupyter.widget-view+json": {
       "model_id": "f89d6c9cbdaa4935bd2dba316247198d",
       "version_major": 2,
       "version_minor": 0
      },
      "text/plain": [
       "HBox(children=(FloatProgress(value=0.0, max=16.0), HTML(value='')))"
      ]
     },
     "metadata": {},
     "output_type": "display_data"
    },
    {
     "name": "stdout",
     "output_type": "stream",
     "text": [
      "\n"
     ]
    },
    {
     "data": {
      "application/vnd.jupyter.widget-view+json": {
       "model_id": "6398dfdc64b0401885bf16d33693c67a",
       "version_major": 2,
       "version_minor": 0
      },
      "text/plain": [
       "HBox(children=(FloatProgress(value=0.0, max=16.0), HTML(value='')))"
      ]
     },
     "metadata": {},
     "output_type": "display_data"
    },
    {
     "name": "stdout",
     "output_type": "stream",
     "text": [
      "\n"
     ]
    },
    {
     "data": {
      "application/vnd.jupyter.widget-view+json": {
       "model_id": "716ad9fba4f84c4a96514e9ac70a893b",
       "version_major": 2,
       "version_minor": 0
      },
      "text/plain": [
       "HBox(children=(FloatProgress(value=0.0, max=16.0), HTML(value='')))"
      ]
     },
     "metadata": {},
     "output_type": "display_data"
    },
    {
     "name": "stdout",
     "output_type": "stream",
     "text": [
      "\n",
      "\n"
     ]
    },
    {
     "data": {
      "text/html": [
       "<div>\n",
       "<style scoped>\n",
       "    .dataframe tbody tr th:only-of-type {\n",
       "        vertical-align: middle;\n",
       "    }\n",
       "\n",
       "    .dataframe tbody tr th {\n",
       "        vertical-align: top;\n",
       "    }\n",
       "\n",
       "    .dataframe thead th {\n",
       "        text-align: right;\n",
       "    }\n",
       "</style>\n",
       "<table border=\"1\" class=\"dataframe\">\n",
       "  <thead>\n",
       "    <tr style=\"text-align: right;\">\n",
       "      <th></th>\n",
       "      <th>ticker</th>\n",
       "      <th>per</th>\n",
       "      <th>date</th>\n",
       "      <th>time</th>\n",
       "      <th>open</th>\n",
       "      <th>high</th>\n",
       "      <th>low</th>\n",
       "      <th>close</th>\n",
       "      <th>vol</th>\n",
       "      <th>price_init</th>\n",
       "      <th>...</th>\n",
       "      <th>label_50_1.0</th>\n",
       "      <th>label_50_2.0</th>\n",
       "      <th>label_50_3.0</th>\n",
       "      <th>label_50_4.0</th>\n",
       "      <th>label_50_5.0</th>\n",
       "      <th>label_50_6.0</th>\n",
       "      <th>label_50_7.0</th>\n",
       "      <th>label_50_8.0</th>\n",
       "      <th>label_50_9.0</th>\n",
       "      <th>label_50_10.0</th>\n",
       "    </tr>\n",
       "  </thead>\n",
       "  <tbody>\n",
       "    <tr>\n",
       "      <th>0</th>\n",
       "      <td>afks</td>\n",
       "      <td>NaN</td>\n",
       "      <td>20150208.0</td>\n",
       "      <td>NaN</td>\n",
       "      <td>16.475</td>\n",
       "      <td>17.860</td>\n",
       "      <td>16.2700</td>\n",
       "      <td>17.050</td>\n",
       "      <td>50174450.0</td>\n",
       "      <td>0.0</td>\n",
       "      <td>...</td>\n",
       "      <td>-1</td>\n",
       "      <td>-1</td>\n",
       "      <td>-1</td>\n",
       "      <td>-1</td>\n",
       "      <td>0</td>\n",
       "      <td>0</td>\n",
       "      <td>0</td>\n",
       "      <td>0</td>\n",
       "      <td>0</td>\n",
       "      <td>0</td>\n",
       "    </tr>\n",
       "    <tr>\n",
       "      <th>1</th>\n",
       "      <td>afks</td>\n",
       "      <td>NaN</td>\n",
       "      <td>20150329.0</td>\n",
       "      <td>NaN</td>\n",
       "      <td>17.120</td>\n",
       "      <td>17.385</td>\n",
       "      <td>16.8500</td>\n",
       "      <td>17.350</td>\n",
       "      <td>11615400.0</td>\n",
       "      <td>0.0</td>\n",
       "      <td>...</td>\n",
       "      <td>1</td>\n",
       "      <td>1</td>\n",
       "      <td>0</td>\n",
       "      <td>0</td>\n",
       "      <td>0</td>\n",
       "      <td>0</td>\n",
       "      <td>0</td>\n",
       "      <td>0</td>\n",
       "      <td>0</td>\n",
       "      <td>0</td>\n",
       "    </tr>\n",
       "    <tr>\n",
       "      <th>2</th>\n",
       "      <td>afks</td>\n",
       "      <td>NaN</td>\n",
       "      <td>20150524.0</td>\n",
       "      <td>NaN</td>\n",
       "      <td>16.990</td>\n",
       "      <td>17.115</td>\n",
       "      <td>16.8450</td>\n",
       "      <td>16.930</td>\n",
       "      <td>4198500.0</td>\n",
       "      <td>0.0</td>\n",
       "      <td>...</td>\n",
       "      <td>1</td>\n",
       "      <td>1</td>\n",
       "      <td>1</td>\n",
       "      <td>1</td>\n",
       "      <td>1</td>\n",
       "      <td>1</td>\n",
       "      <td>1</td>\n",
       "      <td>1</td>\n",
       "      <td>1</td>\n",
       "      <td>1</td>\n",
       "    </tr>\n",
       "    <tr>\n",
       "      <th>3</th>\n",
       "      <td>afks</td>\n",
       "      <td>NaN</td>\n",
       "      <td>20151122.0</td>\n",
       "      <td>NaN</td>\n",
       "      <td>17.360</td>\n",
       "      <td>17.725</td>\n",
       "      <td>17.1850</td>\n",
       "      <td>17.530</td>\n",
       "      <td>8739450.0</td>\n",
       "      <td>0.0</td>\n",
       "      <td>...</td>\n",
       "      <td>0</td>\n",
       "      <td>0</td>\n",
       "      <td>0</td>\n",
       "      <td>0</td>\n",
       "      <td>0</td>\n",
       "      <td>0</td>\n",
       "      <td>0</td>\n",
       "      <td>0</td>\n",
       "      <td>0</td>\n",
       "      <td>0</td>\n",
       "    </tr>\n",
       "    <tr>\n",
       "      <th>4</th>\n",
       "      <td>afks</td>\n",
       "      <td>NaN</td>\n",
       "      <td>20160110.0</td>\n",
       "      <td>NaN</td>\n",
       "      <td>17.800</td>\n",
       "      <td>18.050</td>\n",
       "      <td>17.4825</td>\n",
       "      <td>17.835</td>\n",
       "      <td>7370300.0</td>\n",
       "      <td>0.0</td>\n",
       "      <td>...</td>\n",
       "      <td>-1</td>\n",
       "      <td>0</td>\n",
       "      <td>0</td>\n",
       "      <td>0</td>\n",
       "      <td>0</td>\n",
       "      <td>0</td>\n",
       "      <td>0</td>\n",
       "      <td>0</td>\n",
       "      <td>0</td>\n",
       "      <td>0</td>\n",
       "    </tr>\n",
       "  </tbody>\n",
       "</table>\n",
       "<p>5 rows × 287 columns</p>\n",
       "</div>"
      ],
      "text/plain": [
       "  ticker  per        date  time    open    high      low   close         vol  \\\n",
       "0   afks  NaN  20150208.0   NaN  16.475  17.860  16.2700  17.050  50174450.0   \n",
       "1   afks  NaN  20150329.0   NaN  17.120  17.385  16.8500  17.350  11615400.0   \n",
       "2   afks  NaN  20150524.0   NaN  16.990  17.115  16.8450  16.930   4198500.0   \n",
       "3   afks  NaN  20151122.0   NaN  17.360  17.725  17.1850  17.530   8739450.0   \n",
       "4   afks  NaN  20160110.0   NaN  17.800  18.050  17.4825  17.835   7370300.0   \n",
       "\n",
       "   price_init  ...  label_50_1.0  label_50_2.0  label_50_3.0  label_50_4.0  \\\n",
       "0         0.0  ...            -1            -1            -1            -1   \n",
       "1         0.0  ...             1             1             0             0   \n",
       "2         0.0  ...             1             1             1             1   \n",
       "3         0.0  ...             0             0             0             0   \n",
       "4         0.0  ...            -1             0             0             0   \n",
       "\n",
       "   label_50_5.0  label_50_6.0  label_50_7.0  label_50_8.0  label_50_9.0  \\\n",
       "0             0             0             0             0             0   \n",
       "1             0             0             0             0             0   \n",
       "2             1             1             1             1             1   \n",
       "3             0             0             0             0             0   \n",
       "4             0             0             0             0             0   \n",
       "\n",
       "   label_50_10.0  \n",
       "0              0  \n",
       "1              0  \n",
       "2              1  \n",
       "3              0  \n",
       "4              0  \n",
       "\n",
       "[5 rows x 287 columns]"
      ]
     },
     "execution_count": 15,
     "metadata": {},
     "output_type": "execute_result"
    }
   ],
   "source": [
    "yields = [0.05, 0.1, 0.2, 0.3, 0.5, 0.8, 1.,  2.,  3.,  4.,  5.,  6.,  7.,  8.,  9., 10.]\n",
    "lags = [1,2,3,4,5,6,7,8,9,10, 15, 20, 25, 30, 40, 50]\n",
    "for lag in tqdm(lags, position=0, leave=True): \n",
    "    for income in tqdm(yields, position=0, leave=True):\n",
    "        labelling(df=ps, price=f'change_close_{lag}', field=f'label_{lag}_{income}', n=income)\n",
    "\n",
    "ps.to_csv('/is/prices/mag_join.csv', sep='|', index = False)\n",
    "ps.head()"
   ]
  },
  {
   "cell_type": "code",
   "execution_count": 20,
   "metadata": {},
   "outputs": [],
   "source": [
    "ps.drop(columns=['per', 'time', 'open', 'high', 'low', \n",
    "       'text_reg_stop', 'msg_init'], inplace=True)"
   ]
  },
  {
   "cell_type": "code",
   "execution_count": 21,
   "metadata": {},
   "outputs": [],
   "source": [
    "ps.to_csv('/is/prices/mag_join_lab.csv', sep='|', index = False)"
   ]
  },
  {
   "cell_type": "code",
   "execution_count": 22,
   "metadata": {},
   "outputs": [
    {
     "data": {
      "text/html": [
       "<div>\n",
       "<style scoped>\n",
       "    .dataframe tbody tr th:only-of-type {\n",
       "        vertical-align: middle;\n",
       "    }\n",
       "\n",
       "    .dataframe tbody tr th {\n",
       "        vertical-align: top;\n",
       "    }\n",
       "\n",
       "    .dataframe thead th {\n",
       "        text-align: right;\n",
       "    }\n",
       "</style>\n",
       "<table border=\"1\" class=\"dataframe\">\n",
       "  <thead>\n",
       "    <tr style=\"text-align: right;\">\n",
       "      <th></th>\n",
       "      <th>ticker</th>\n",
       "      <th>date</th>\n",
       "      <th>close</th>\n",
       "      <th>vol</th>\n",
       "      <th>price_init</th>\n",
       "      <th>change_close_1</th>\n",
       "      <th>change_close_2</th>\n",
       "      <th>change_close_3</th>\n",
       "      <th>change_close_4</th>\n",
       "      <th>change_close_5</th>\n",
       "      <th>...</th>\n",
       "      <th>label_50_1.0</th>\n",
       "      <th>label_50_2.0</th>\n",
       "      <th>label_50_3.0</th>\n",
       "      <th>label_50_4.0</th>\n",
       "      <th>label_50_5.0</th>\n",
       "      <th>label_50_6.0</th>\n",
       "      <th>label_50_7.0</th>\n",
       "      <th>label_50_8.0</th>\n",
       "      <th>label_50_9.0</th>\n",
       "      <th>label_50_10.0</th>\n",
       "    </tr>\n",
       "  </thead>\n",
       "  <tbody>\n",
       "    <tr>\n",
       "      <th>0</th>\n",
       "      <td>afks</td>\n",
       "      <td>20150208.0</td>\n",
       "      <td>17.050</td>\n",
       "      <td>50174450.0</td>\n",
       "      <td>0.0</td>\n",
       "      <td>4.015152</td>\n",
       "      <td>4.770833</td>\n",
       "      <td>6.306818</td>\n",
       "      <td>9.248106</td>\n",
       "      <td>14.081439</td>\n",
       "      <td>...</td>\n",
       "      <td>-1</td>\n",
       "      <td>-1</td>\n",
       "      <td>-1</td>\n",
       "      <td>-1</td>\n",
       "      <td>0</td>\n",
       "      <td>0</td>\n",
       "      <td>0</td>\n",
       "      <td>0</td>\n",
       "      <td>0</td>\n",
       "      <td>0</td>\n",
       "    </tr>\n",
       "    <tr>\n",
       "      <th>1</th>\n",
       "      <td>afks</td>\n",
       "      <td>20150329.0</td>\n",
       "      <td>17.350</td>\n",
       "      <td>11615400.0</td>\n",
       "      <td>0.0</td>\n",
       "      <td>1.725799</td>\n",
       "      <td>2.739851</td>\n",
       "      <td>2.593681</td>\n",
       "      <td>2.307986</td>\n",
       "      <td>1.873630</td>\n",
       "      <td>...</td>\n",
       "      <td>1</td>\n",
       "      <td>1</td>\n",
       "      <td>0</td>\n",
       "      <td>0</td>\n",
       "      <td>0</td>\n",
       "      <td>0</td>\n",
       "      <td>0</td>\n",
       "      <td>0</td>\n",
       "      <td>0</td>\n",
       "      <td>0</td>\n",
       "    </tr>\n",
       "    <tr>\n",
       "      <th>2</th>\n",
       "      <td>afks</td>\n",
       "      <td>20150524.0</td>\n",
       "      <td>16.930</td>\n",
       "      <td>4198500.0</td>\n",
       "      <td>0.0</td>\n",
       "      <td>-0.263485</td>\n",
       "      <td>0.061510</td>\n",
       "      <td>0.208325</td>\n",
       "      <td>0.000977</td>\n",
       "      <td>-0.264462</td>\n",
       "      <td>...</td>\n",
       "      <td>1</td>\n",
       "      <td>1</td>\n",
       "      <td>1</td>\n",
       "      <td>1</td>\n",
       "      <td>1</td>\n",
       "      <td>1</td>\n",
       "      <td>1</td>\n",
       "      <td>1</td>\n",
       "      <td>1</td>\n",
       "      <td>1</td>\n",
       "    </tr>\n",
       "    <tr>\n",
       "      <th>3</th>\n",
       "      <td>afks</td>\n",
       "      <td>20151122.0</td>\n",
       "      <td>17.530</td>\n",
       "      <td>8739450.0</td>\n",
       "      <td>0.0</td>\n",
       "      <td>0.899222</td>\n",
       "      <td>0.894145</td>\n",
       "      <td>1.265936</td>\n",
       "      <td>1.001126</td>\n",
       "      <td>0.653419</td>\n",
       "      <td>...</td>\n",
       "      <td>0</td>\n",
       "      <td>0</td>\n",
       "      <td>0</td>\n",
       "      <td>0</td>\n",
       "      <td>0</td>\n",
       "      <td>0</td>\n",
       "      <td>0</td>\n",
       "      <td>0</td>\n",
       "      <td>0</td>\n",
       "      <td>0</td>\n",
       "    </tr>\n",
       "    <tr>\n",
       "      <th>4</th>\n",
       "      <td>afks</td>\n",
       "      <td>20160110.0</td>\n",
       "      <td>17.835</td>\n",
       "      <td>7370300.0</td>\n",
       "      <td>0.0</td>\n",
       "      <td>-1.479535</td>\n",
       "      <td>-1.535208</td>\n",
       "      <td>0.798060</td>\n",
       "      <td>0.887084</td>\n",
       "      <td>-2.264758</td>\n",
       "      <td>...</td>\n",
       "      <td>-1</td>\n",
       "      <td>0</td>\n",
       "      <td>0</td>\n",
       "      <td>0</td>\n",
       "      <td>0</td>\n",
       "      <td>0</td>\n",
       "      <td>0</td>\n",
       "      <td>0</td>\n",
       "      <td>0</td>\n",
       "      <td>0</td>\n",
       "    </tr>\n",
       "  </tbody>\n",
       "</table>\n",
       "<p>5 rows × 280 columns</p>\n",
       "</div>"
      ],
      "text/plain": [
       "  ticker        date   close         vol  price_init  change_close_1  \\\n",
       "0   afks  20150208.0  17.050  50174450.0         0.0        4.015152   \n",
       "1   afks  20150329.0  17.350  11615400.0         0.0        1.725799   \n",
       "2   afks  20150524.0  16.930   4198500.0         0.0       -0.263485   \n",
       "3   afks  20151122.0  17.530   8739450.0         0.0        0.899222   \n",
       "4   afks  20160110.0  17.835   7370300.0         0.0       -1.479535   \n",
       "\n",
       "   change_close_2  change_close_3  change_close_4  change_close_5  ...  \\\n",
       "0        4.770833        6.306818        9.248106       14.081439  ...   \n",
       "1        2.739851        2.593681        2.307986        1.873630  ...   \n",
       "2        0.061510        0.208325        0.000977       -0.264462  ...   \n",
       "3        0.894145        1.265936        1.001126        0.653419  ...   \n",
       "4       -1.535208        0.798060        0.887084       -2.264758  ...   \n",
       "\n",
       "   label_50_1.0  label_50_2.0  label_50_3.0  label_50_4.0  label_50_5.0  \\\n",
       "0            -1            -1            -1            -1             0   \n",
       "1             1             1             0             0             0   \n",
       "2             1             1             1             1             1   \n",
       "3             0             0             0             0             0   \n",
       "4            -1             0             0             0             0   \n",
       "\n",
       "   label_50_6.0  label_50_7.0  label_50_8.0  label_50_9.0  label_50_10.0  \n",
       "0             0             0             0             0              0  \n",
       "1             0             0             0             0              0  \n",
       "2             1             1             1             1              1  \n",
       "3             0             0             0             0              0  \n",
       "4             0             0             0             0              0  \n",
       "\n",
       "[5 rows x 280 columns]"
      ]
     },
     "execution_count": 22,
     "metadata": {},
     "output_type": "execute_result"
    }
   ],
   "source": [
    "ps.head()"
   ]
  }
 ],
 "metadata": {
  "colab": {
   "include_colab_link": true,
   "name": "Naive_Bayes.ipynb",
   "provenance": []
  },
  "kernelspec": {
   "display_name": "Python 3",
   "language": "python",
   "name": "python3"
  },
  "language_info": {
   "codemirror_mode": {
    "name": "ipython",
    "version": 3
   },
   "file_extension": ".py",
   "mimetype": "text/x-python",
   "name": "python",
   "nbconvert_exporter": "python",
   "pygments_lexer": "ipython3",
   "version": "3.7.6"
  }
 },
 "nbformat": 4,
 "nbformat_minor": 1
}
