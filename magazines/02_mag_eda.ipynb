{
 "cells": [
  {
   "cell_type": "markdown",
   "metadata": {},
   "source": [
    "## Данный ноутбук обрабатывает текст сообщений: удаляет стоп слова, проводит лемматизацию и стемминг"
   ]
  },
  {
   "cell_type": "code",
   "execution_count": 1,
   "metadata": {},
   "outputs": [],
   "source": [
    "import pandas as pd\n",
    "import numpy as np\n",
    "import matplotlib.pyplot as plt\n",
    "import time\n",
    "import pickle\n",
    "import nltk\n",
    "from nltk.corpus import stopwords\n",
    "from nltk.corpus import brown\n",
    "import re\n",
    "from tqdm import tqdm_notebook as tqdm\n",
    "from nltk.stem import SnowballStemmer"
   ]
  },
  {
   "cell_type": "code",
   "execution_count": 2,
   "metadata": {},
   "outputs": [
    {
     "data": {
      "text/html": [
       "<div>\n",
       "<style scoped>\n",
       "    .dataframe tbody tr th:only-of-type {\n",
       "        vertical-align: middle;\n",
       "    }\n",
       "\n",
       "    .dataframe tbody tr th {\n",
       "        vertical-align: top;\n",
       "    }\n",
       "\n",
       "    .dataframe thead th {\n",
       "        text-align: right;\n",
       "    }\n",
       "</style>\n",
       "<table border=\"1\" class=\"dataframe\">\n",
       "  <thead>\n",
       "    <tr style=\"text-align: right;\">\n",
       "      <th></th>\n",
       "      <th>text</th>\n",
       "      <th>date</th>\n",
       "      <th>lower_text</th>\n",
       "      <th>ticker</th>\n",
       "      <th>total_msg</th>\n",
       "    </tr>\n",
       "  </thead>\n",
       "  <tbody>\n",
       "    <tr>\n",
       "      <th>0</th>\n",
       "      <td>Московский «Спартак» со счетом 2:1 обыграл сто...</td>\n",
       "      <td>20210313.0</td>\n",
       "      <td>московский «спартак» со счетом 2:1 обыграл сто...</td>\n",
       "      <td>vtbr</td>\n",
       "      <td>1833</td>\n",
       "    </tr>\n",
       "    <tr>\n",
       "      <th>1</th>\n",
       "      <td>Схема самой крупной программы борьбы с бедност...</td>\n",
       "      <td>20210311.0</td>\n",
       "      <td>схема самой крупной программы борьбы с бедност...</td>\n",
       "      <td>sber</td>\n",
       "      <td>3634</td>\n",
       "    </tr>\n",
       "    <tr>\n",
       "      <th>2</th>\n",
       "      <td>Следственный комитет России (СКР) начал провер...</td>\n",
       "      <td>20140108.0</td>\n",
       "      <td>следственный комитет россии (скр) начал провер...</td>\n",
       "      <td>aflt</td>\n",
       "      <td>1032</td>\n",
       "    </tr>\n",
       "    <tr>\n",
       "      <th>3</th>\n",
       "      <td>Владелец РАТМа Эдуард Таран продал основной це...</td>\n",
       "      <td>20140108.0</td>\n",
       "      <td>владелец ратма эдуард таран продал основной це...</td>\n",
       "      <td>sber</td>\n",
       "      <td>3634</td>\n",
       "    </tr>\n",
       "    <tr>\n",
       "      <th>4</th>\n",
       "      <td>«Газпром» в прошлом году увеличил экспорт на 7...</td>\n",
       "      <td>20140108.0</td>\n",
       "      <td>«газпром» в прошлом году увеличил экспорт на 7...</td>\n",
       "      <td>gazp</td>\n",
       "      <td>2768</td>\n",
       "    </tr>\n",
       "  </tbody>\n",
       "</table>\n",
       "</div>"
      ],
      "text/plain": [
       "                                                text        date  \\\n",
       "0  Московский «Спартак» со счетом 2:1 обыграл сто...  20210313.0   \n",
       "1  Схема самой крупной программы борьбы с бедност...  20210311.0   \n",
       "2  Следственный комитет России (СКР) начал провер...  20140108.0   \n",
       "3  Владелец РАТМа Эдуард Таран продал основной це...  20140108.0   \n",
       "4  «Газпром» в прошлом году увеличил экспорт на 7...  20140108.0   \n",
       "\n",
       "                                          lower_text ticker  total_msg  \n",
       "0  московский «спартак» со счетом 2:1 обыграл сто...   vtbr       1833  \n",
       "1  схема самой крупной программы борьбы с бедност...   sber       3634  \n",
       "2  следственный комитет россии (скр) начал провер...   aflt       1032  \n",
       "3  владелец ратма эдуард таран продал основной це...   sber       3634  \n",
       "4  «газпром» в прошлом году увеличил экспорт на 7...   gazp       2768  "
      ]
     },
     "execution_count": 2,
     "metadata": {},
     "output_type": "execute_result"
    }
   ],
   "source": [
    "#удалить перепосты\n",
    "# в режексе заменять на пробел\n",
    "# удалить слова с леном 1\n",
    "df = pd.read_csv('/is/texts/mag/kom_rbc_join_tic_flag_tot.csv', sep='|')\n",
    "df.head()"
   ]
  },
  {
   "cell_type": "code",
   "execution_count": 6,
   "metadata": {},
   "outputs": [
    {
     "data": {
      "text/plain": [
       "<matplotlib.axes._subplots.AxesSubplot at 0x7f1667c61dd0>"
      ]
     },
     "execution_count": 6,
     "metadata": {},
     "output_type": "execute_result"
    },
    {
     "data": {
      "image/png": "[encoded data removed]",
      "text/plain": [
       "<Figure size 432x288 with 1 Axes>"
      ]
     },
     "metadata": {
      "needs_background": "light"
     },
     "output_type": "display_data"
    }
   ],
   "source": [
    "df.groupby(['year', 'month']).count().message.plot()"
   ]
  },
  {
   "cell_type": "code",
   "execution_count": 7,
   "metadata": {},
   "outputs": [
    {
     "data": {
      "text/plain": [
       "src  year\n",
       "25   2017      277\n",
       "     2018     2011\n",
       "     2019     4015\n",
       "     2020     3972\n",
       "     2021      339\n",
       "26   2020    14499\n",
       "     2021      673\n",
       "27   2017       91\n",
       "     2018     8510\n",
       "     2019    17432\n",
       "     2020    26071\n",
       "     2021     1919\n",
       "28   2020     3060\n",
       "     2021     4163\n",
       "48   2019     3438\n",
       "     2020    12456\n",
       "     2021      262\n",
       "Name: message, dtype: int64"
      ]
     },
     "execution_count": 7,
     "metadata": {},
     "output_type": "execute_result"
    }
   ],
   "source": [
    "df.groupby(['src', 'year']).count().message"
   ]
  },
  {
   "cell_type": "markdown",
   "metadata": {},
   "source": [
    "### Очистка"
   ]
  },
  {
   "cell_type": "code",
   "execution_count": 3,
   "metadata": {},
   "outputs": [
    {
     "data": {
      "text/html": [
       "<div>\n",
       "<style scoped>\n",
       "    .dataframe tbody tr th:only-of-type {\n",
       "        vertical-align: middle;\n",
       "    }\n",
       "\n",
       "    .dataframe tbody tr th {\n",
       "        vertical-align: top;\n",
       "    }\n",
       "\n",
       "    .dataframe thead th {\n",
       "        text-align: right;\n",
       "    }\n",
       "</style>\n",
       "<table border=\"1\" class=\"dataframe\">\n",
       "  <thead>\n",
       "    <tr style=\"text-align: right;\">\n",
       "      <th></th>\n",
       "      <th>text</th>\n",
       "      <th>date</th>\n",
       "      <th>lower_text</th>\n",
       "      <th>ticker</th>\n",
       "      <th>total_msg</th>\n",
       "    </tr>\n",
       "  </thead>\n",
       "  <tbody>\n",
       "    <tr>\n",
       "      <th>0</th>\n",
       "      <td>Московский «Спартак» со счетом 2:1 обыграл сто...</td>\n",
       "      <td>20210313.0</td>\n",
       "      <td>московский «спартак» со счетом 2:1 обыграл сто...</td>\n",
       "      <td>vtbr</td>\n",
       "      <td>1833</td>\n",
       "    </tr>\n",
       "    <tr>\n",
       "      <th>1</th>\n",
       "      <td>Схема самой крупной программы борьбы с бедност...</td>\n",
       "      <td>20210311.0</td>\n",
       "      <td>схема самой крупной программы борьбы с бедност...</td>\n",
       "      <td>sber</td>\n",
       "      <td>3634</td>\n",
       "    </tr>\n",
       "    <tr>\n",
       "      <th>2</th>\n",
       "      <td>Следственный комитет России (СКР) начал провер...</td>\n",
       "      <td>20140108.0</td>\n",
       "      <td>следственный комитет россии (скр) начал провер...</td>\n",
       "      <td>aflt</td>\n",
       "      <td>1032</td>\n",
       "    </tr>\n",
       "    <tr>\n",
       "      <th>3</th>\n",
       "      <td>Владелец РАТМа Эдуард Таран продал основной це...</td>\n",
       "      <td>20140108.0</td>\n",
       "      <td>владелец ратма эдуард таран продал основной це...</td>\n",
       "      <td>sber</td>\n",
       "      <td>3634</td>\n",
       "    </tr>\n",
       "    <tr>\n",
       "      <th>4</th>\n",
       "      <td>«Газпром» в прошлом году увеличил экспорт на 7...</td>\n",
       "      <td>20140108.0</td>\n",
       "      <td>«газпром» в прошлом году увеличил экспорт на 7...</td>\n",
       "      <td>gazp</td>\n",
       "      <td>2768</td>\n",
       "    </tr>\n",
       "  </tbody>\n",
       "</table>\n",
       "</div>"
      ],
      "text/plain": [
       "                                                text        date  \\\n",
       "0  Московский «Спартак» со счетом 2:1 обыграл сто...  20210313.0   \n",
       "1  Схема самой крупной программы борьбы с бедност...  20210311.0   \n",
       "2  Следственный комитет России (СКР) начал провер...  20140108.0   \n",
       "3  Владелец РАТМа Эдуард Таран продал основной це...  20140108.0   \n",
       "4  «Газпром» в прошлом году увеличил экспорт на 7...  20140108.0   \n",
       "\n",
       "                                          lower_text ticker  total_msg  \n",
       "0  московский «спартак» со счетом 2:1 обыграл сто...   vtbr       1833  \n",
       "1  схема самой крупной программы борьбы с бедност...   sber       3634  \n",
       "2  следственный комитет россии (скр) начал провер...   aflt       1032  \n",
       "3  владелец ратма эдуард таран продал основной це...   sber       3634  \n",
       "4  «газпром» в прошлом году увеличил экспорт на 7...   gazp       2768  "
      ]
     },
     "execution_count": 3,
     "metadata": {},
     "output_type": "execute_result"
    }
   ],
   "source": [
    "# Удаляем перенос строки\n",
    "df = df.replace('\\n',' ', regex=True)\n",
    "df.head()"
   ]
  },
  {
   "cell_type": "code",
   "execution_count": 4,
   "metadata": {},
   "outputs": [],
   "source": [
    "f = df\n"
   ]
  },
  {
   "cell_type": "markdown",
   "metadata": {},
   "source": [
    "### Замена ё/е и удаление всего кроме русских букв и пробелов"
   ]
  },
  {
   "cell_type": "code",
   "execution_count": 5,
   "metadata": {},
   "outputs": [
    {
     "data": {
      "text/html": [
       "<div>\n",
       "<style scoped>\n",
       "    .dataframe tbody tr th:only-of-type {\n",
       "        vertical-align: middle;\n",
       "    }\n",
       "\n",
       "    .dataframe tbody tr th {\n",
       "        vertical-align: top;\n",
       "    }\n",
       "\n",
       "    .dataframe thead th {\n",
       "        text-align: right;\n",
       "    }\n",
       "</style>\n",
       "<table border=\"1\" class=\"dataframe\">\n",
       "  <thead>\n",
       "    <tr style=\"text-align: right;\">\n",
       "      <th></th>\n",
       "      <th>text</th>\n",
       "      <th>date</th>\n",
       "      <th>lower_text</th>\n",
       "      <th>ticker</th>\n",
       "      <th>total_msg</th>\n",
       "    </tr>\n",
       "  </thead>\n",
       "  <tbody>\n",
       "    <tr>\n",
       "      <th>0</th>\n",
       "      <td>Московский «Спартак» со счетом 2:1 обыграл сто...</td>\n",
       "      <td>20210313.0</td>\n",
       "      <td>московский «спартак» со счетом 2:1 обыграл сто...</td>\n",
       "      <td>vtbr</td>\n",
       "      <td>1833</td>\n",
       "    </tr>\n",
       "    <tr>\n",
       "      <th>1</th>\n",
       "      <td>Схема самой крупной программы борьбы с бедност...</td>\n",
       "      <td>20210311.0</td>\n",
       "      <td>схема самой крупной программы борьбы с бедност...</td>\n",
       "      <td>sber</td>\n",
       "      <td>3634</td>\n",
       "    </tr>\n",
       "    <tr>\n",
       "      <th>2</th>\n",
       "      <td>Следственный комитет России (СКР) начал провер...</td>\n",
       "      <td>20140108.0</td>\n",
       "      <td>следственный комитет россии (скр) начал провер...</td>\n",
       "      <td>aflt</td>\n",
       "      <td>1032</td>\n",
       "    </tr>\n",
       "    <tr>\n",
       "      <th>3</th>\n",
       "      <td>Владелец РАТМа Эдуард Таран продал основной це...</td>\n",
       "      <td>20140108.0</td>\n",
       "      <td>владелец ратма эдуард таран продал основной це...</td>\n",
       "      <td>sber</td>\n",
       "      <td>3634</td>\n",
       "    </tr>\n",
       "    <tr>\n",
       "      <th>4</th>\n",
       "      <td>«Газпром» в прошлом году увеличил экспорт на 7...</td>\n",
       "      <td>20140108.0</td>\n",
       "      <td>«газпром» в прошлом году увеличил экспорт на 7...</td>\n",
       "      <td>gazp</td>\n",
       "      <td>2768</td>\n",
       "    </tr>\n",
       "  </tbody>\n",
       "</table>\n",
       "</div>"
      ],
      "text/plain": [
       "                                                text        date  \\\n",
       "0  Московский «Спартак» со счетом 2:1 обыграл сто...  20210313.0   \n",
       "1  Схема самой крупной программы борьбы с бедност...  20210311.0   \n",
       "2  Следственный комитет России (СКР) начал провер...  20140108.0   \n",
       "3  Владелец РАТМа Эдуард Таран продал основной це...  20140108.0   \n",
       "4  «Газпром» в прошлом году увеличил экспорт на 7...  20140108.0   \n",
       "\n",
       "                                          lower_text ticker  total_msg  \n",
       "0  московский «спартак» со счетом 2:1 обыграл сто...   vtbr       1833  \n",
       "1  схема самой крупной программы борьбы с бедност...   sber       3634  \n",
       "2  следственный комитет россии (скр) начал провер...   aflt       1032  \n",
       "3  владелец ратма эдуард таран продал основной це...   sber       3634  \n",
       "4  «газпром» в прошлом году увеличил экспорт на 7...   gazp       2768  "
      ]
     },
     "execution_count": 5,
     "metadata": {},
     "output_type": "execute_result"
    }
   ],
   "source": [
    "f.text = f.text.astype(str)\n",
    "f['text'] = f['text'].str.replace('ё', 'е')\n",
    "f.to_csv('/is/texts/mag/mag_text_lower_tic_all_flag_all_dt_e.csv', sep='|', index=False)\n",
    "f.head()    "
   ]
  },
  {
   "cell_type": "code",
   "execution_count": 6,
   "metadata": {},
   "outputs": [
    {
     "name": "stderr",
     "output_type": "stream",
     "text": [
      "[nltk_data] Downloading package stopwords to /root/nltk_data...\n",
      "[nltk_data]   Package stopwords is already up-to-date!\n",
      "[nltk_data] Downloading package punkt to /root/nltk_data...\n",
      "[nltk_data]   Package punkt is already up-to-date!\n",
      "[nltk_data] Downloading package wordnet to /root/nltk_data...\n",
      "[nltk_data]   Package wordnet is already up-to-date!\n",
      "[nltk_data] Downloading package omw to /root/nltk_data...\n",
      "[nltk_data]   Package omw is already up-to-date!\n"
     ]
    },
    {
     "data": {
      "text/plain": [
       "True"
      ]
     },
     "execution_count": 6,
     "metadata": {},
     "output_type": "execute_result"
    }
   ],
   "source": [
    "nltk.download('stopwords')\n",
    "nltk.download('punkt')\n",
    "nltk.download('wordnet')\n",
    "nltk.download('omw')"
   ]
  },
  {
   "cell_type": "code",
   "execution_count": 7,
   "metadata": {},
   "outputs": [
    {
     "data": {
      "text/html": [
       "<div>\n",
       "<style scoped>\n",
       "    .dataframe tbody tr th:only-of-type {\n",
       "        vertical-align: middle;\n",
       "    }\n",
       "\n",
       "    .dataframe tbody tr th {\n",
       "        vertical-align: top;\n",
       "    }\n",
       "\n",
       "    .dataframe thead th {\n",
       "        text-align: right;\n",
       "    }\n",
       "</style>\n",
       "<table border=\"1\" class=\"dataframe\">\n",
       "  <thead>\n",
       "    <tr style=\"text-align: right;\">\n",
       "      <th></th>\n",
       "      <th>text</th>\n",
       "      <th>date</th>\n",
       "      <th>lower_text</th>\n",
       "      <th>ticker</th>\n",
       "      <th>total_msg</th>\n",
       "      <th>text_reg</th>\n",
       "    </tr>\n",
       "  </thead>\n",
       "  <tbody>\n",
       "    <tr>\n",
       "      <th>0</th>\n",
       "      <td>Московский «Спартак» со счетом 2:1 обыграл сто...</td>\n",
       "      <td>20210313.0</td>\n",
       "      <td>московский «спартак» со счетом 2:1 обыграл сто...</td>\n",
       "      <td>vtbr</td>\n",
       "      <td>1833</td>\n",
       "      <td>московский спартак со счетом обыграл столичное...</td>\n",
       "    </tr>\n",
       "    <tr>\n",
       "      <th>1</th>\n",
       "      <td>Схема самой крупной программы борьбы с бедност...</td>\n",
       "      <td>20210311.0</td>\n",
       "      <td>схема самой крупной программы борьбы с бедност...</td>\n",
       "      <td>sber</td>\n",
       "      <td>3634</td>\n",
       "      <td>схема самой крупной программы борьбы с бедност...</td>\n",
       "    </tr>\n",
       "    <tr>\n",
       "      <th>2</th>\n",
       "      <td>Следственный комитет России (СКР) начал провер...</td>\n",
       "      <td>20140108.0</td>\n",
       "      <td>следственный комитет россии (скр) начал провер...</td>\n",
       "      <td>aflt</td>\n",
       "      <td>1032</td>\n",
       "      <td>следственный комитет россии скр начал проверку...</td>\n",
       "    </tr>\n",
       "    <tr>\n",
       "      <th>3</th>\n",
       "      <td>Владелец РАТМа Эдуард Таран продал основной це...</td>\n",
       "      <td>20140108.0</td>\n",
       "      <td>владелец ратма эдуард таран продал основной це...</td>\n",
       "      <td>sber</td>\n",
       "      <td>3634</td>\n",
       "      <td>владелец ратма эдуард таран продал основной це...</td>\n",
       "    </tr>\n",
       "    <tr>\n",
       "      <th>4</th>\n",
       "      <td>«Газпром» в прошлом году увеличил экспорт на 7...</td>\n",
       "      <td>20140108.0</td>\n",
       "      <td>«газпром» в прошлом году увеличил экспорт на 7...</td>\n",
       "      <td>gazp</td>\n",
       "      <td>2768</td>\n",
       "      <td>газпром в прошлом году увеличил экспорт на в ч...</td>\n",
       "    </tr>\n",
       "  </tbody>\n",
       "</table>\n",
       "</div>"
      ],
      "text/plain": [
       "                                                text        date  \\\n",
       "0  Московский «Спартак» со счетом 2:1 обыграл сто...  20210313.0   \n",
       "1  Схема самой крупной программы борьбы с бедност...  20210311.0   \n",
       "2  Следственный комитет России (СКР) начал провер...  20140108.0   \n",
       "3  Владелец РАТМа Эдуард Таран продал основной це...  20140108.0   \n",
       "4  «Газпром» в прошлом году увеличил экспорт на 7...  20140108.0   \n",
       "\n",
       "                                          lower_text ticker  total_msg  \\\n",
       "0  московский «спартак» со счетом 2:1 обыграл сто...   vtbr       1833   \n",
       "1  схема самой крупной программы борьбы с бедност...   sber       3634   \n",
       "2  следственный комитет россии (скр) начал провер...   aflt       1032   \n",
       "3  владелец ратма эдуард таран продал основной це...   sber       3634   \n",
       "4  «газпром» в прошлом году увеличил экспорт на 7...   gazp       2768   \n",
       "\n",
       "                                            text_reg  \n",
       "0  московский спартак со счетом обыграл столичное...  \n",
       "1  схема самой крупной программы борьбы с бедност...  \n",
       "2  следственный комитет россии скр начал проверку...  \n",
       "3  владелец ратма эдуард таран продал основной це...  \n",
       "4  газпром в прошлом году увеличил экспорт на в ч...  "
      ]
     },
     "execution_count": 7,
     "metadata": {},
     "output_type": "execute_result"
    }
   ],
   "source": [
    "def clear_text(x):\n",
    "    return re.sub(' +',u' ', re.sub(u'[^а-я ]',u'', x.lower()))\n",
    "f['text'] = f['text'].astype(str)\n",
    "f['text_reg'] = f['text'].apply(clear_text)\n",
    "f.head()"
   ]
  },
  {
   "cell_type": "code",
   "execution_count": 8,
   "metadata": {},
   "outputs": [
    {
     "name": "stdout",
     "output_type": "stream",
     "text": [
      "(20702, 6)\n",
      "(20702, 6)\n"
     ]
    },
    {
     "data": {
      "text/html": [
       "<div>\n",
       "<style scoped>\n",
       "    .dataframe tbody tr th:only-of-type {\n",
       "        vertical-align: middle;\n",
       "    }\n",
       "\n",
       "    .dataframe tbody tr th {\n",
       "        vertical-align: top;\n",
       "    }\n",
       "\n",
       "    .dataframe thead th {\n",
       "        text-align: right;\n",
       "    }\n",
       "</style>\n",
       "<table border=\"1\" class=\"dataframe\">\n",
       "  <thead>\n",
       "    <tr style=\"text-align: right;\">\n",
       "      <th></th>\n",
       "      <th>text</th>\n",
       "      <th>date</th>\n",
       "      <th>lower_text</th>\n",
       "      <th>ticker</th>\n",
       "      <th>total_msg</th>\n",
       "      <th>text_reg</th>\n",
       "    </tr>\n",
       "  </thead>\n",
       "  <tbody>\n",
       "    <tr>\n",
       "      <th>0</th>\n",
       "      <td>Московский «Спартак» со счетом 2:1 обыграл сто...</td>\n",
       "      <td>20210313.0</td>\n",
       "      <td>московский «спартак» со счетом 2:1 обыграл сто...</td>\n",
       "      <td>vtbr</td>\n",
       "      <td>1833</td>\n",
       "      <td>московский спартак со счетом обыграл столичное...</td>\n",
       "    </tr>\n",
       "    <tr>\n",
       "      <th>1</th>\n",
       "      <td>Схема самой крупной программы борьбы с бедност...</td>\n",
       "      <td>20210311.0</td>\n",
       "      <td>схема самой крупной программы борьбы с бедност...</td>\n",
       "      <td>sber</td>\n",
       "      <td>3634</td>\n",
       "      <td>схема самой крупной программы борьбы с бедност...</td>\n",
       "    </tr>\n",
       "    <tr>\n",
       "      <th>2</th>\n",
       "      <td>Следственный комитет России (СКР) начал провер...</td>\n",
       "      <td>20140108.0</td>\n",
       "      <td>следственный комитет россии (скр) начал провер...</td>\n",
       "      <td>aflt</td>\n",
       "      <td>1032</td>\n",
       "      <td>следственный комитет россии скр начал проверку...</td>\n",
       "    </tr>\n",
       "    <tr>\n",
       "      <th>3</th>\n",
       "      <td>Владелец РАТМа Эдуард Таран продал основной це...</td>\n",
       "      <td>20140108.0</td>\n",
       "      <td>владелец ратма эдуард таран продал основной це...</td>\n",
       "      <td>sber</td>\n",
       "      <td>3634</td>\n",
       "      <td>владелец ратма эдуард таран продал основной це...</td>\n",
       "    </tr>\n",
       "    <tr>\n",
       "      <th>4</th>\n",
       "      <td>«Газпром» в прошлом году увеличил экспорт на 7...</td>\n",
       "      <td>20140108.0</td>\n",
       "      <td>«газпром» в прошлом году увеличил экспорт на 7...</td>\n",
       "      <td>gazp</td>\n",
       "      <td>2768</td>\n",
       "      <td>газпром в прошлом году увеличил экспорт на в ч...</td>\n",
       "    </tr>\n",
       "  </tbody>\n",
       "</table>\n",
       "</div>"
      ],
      "text/plain": [
       "                                                text        date  \\\n",
       "0  Московский «Спартак» со счетом 2:1 обыграл сто...  20210313.0   \n",
       "1  Схема самой крупной программы борьбы с бедност...  20210311.0   \n",
       "2  Следственный комитет России (СКР) начал провер...  20140108.0   \n",
       "3  Владелец РАТМа Эдуард Таран продал основной це...  20140108.0   \n",
       "4  «Газпром» в прошлом году увеличил экспорт на 7...  20140108.0   \n",
       "\n",
       "                                          lower_text ticker  total_msg  \\\n",
       "0  московский «спартак» со счетом 2:1 обыграл сто...   vtbr       1833   \n",
       "1  схема самой крупной программы борьбы с бедност...   sber       3634   \n",
       "2  следственный комитет россии (скр) начал провер...   aflt       1032   \n",
       "3  владелец ратма эдуард таран продал основной це...   sber       3634   \n",
       "4  «газпром» в прошлом году увеличил экспорт на 7...   gazp       2768   \n",
       "\n",
       "                                            text_reg  \n",
       "0  московский спартак со счетом обыграл столичное...  \n",
       "1  схема самой крупной программы борьбы с бедност...  \n",
       "2  следственный комитет россии скр начал проверку...  \n",
       "3  владелец ратма эдуард таран продал основной це...  \n",
       "4  газпром в прошлом году увеличил экспорт на в ч...  "
      ]
     },
     "execution_count": 8,
     "metadata": {},
     "output_type": "execute_result"
    }
   ],
   "source": [
    "print(f.shape)\n",
    "f = f[f.text_reg != '']\n",
    "f.to_csv('/is/texts/mag/text_lower_tic_all_flag_all_dt_e_reg.csv', sep='|', index=False)\n",
    "print(f.shape)\n",
    "f.head()"
   ]
  },
  {
   "cell_type": "code",
   "execution_count": 9,
   "metadata": {
    "scrolled": true
   },
   "outputs": [
    {
     "name": "stdout",
     "output_type": "stream",
     "text": [
      "(20702, 6)\n",
      "(20701, 6)\n",
      "(20701, 6)\n"
     ]
    }
   ],
   "source": [
    "print(f.shape)\n",
    "f.drop_duplicates(['ticker', 'text_reg'], inplace=True)\n",
    "print(f.shape)\n",
    "f.drop_duplicates(['text_reg'], keep=False, inplace=True)\n",
    "print(f.shape)"
   ]
  },
  {
   "cell_type": "markdown",
   "metadata": {},
   "source": [
    "### Токенизация text_reg_spell"
   ]
  },
  {
   "cell_type": "code",
   "execution_count": 3,
   "metadata": {},
   "outputs": [
    {
     "data": {
      "text/html": [
       "<div>\n",
       "<style scoped>\n",
       "    .dataframe tbody tr th:only-of-type {\n",
       "        vertical-align: middle;\n",
       "    }\n",
       "\n",
       "    .dataframe tbody tr th {\n",
       "        vertical-align: top;\n",
       "    }\n",
       "\n",
       "    .dataframe thead th {\n",
       "        text-align: right;\n",
       "    }\n",
       "</style>\n",
       "<table border=\"1\" class=\"dataframe\">\n",
       "  <thead>\n",
       "    <tr style=\"text-align: right;\">\n",
       "      <th></th>\n",
       "      <th>date</th>\n",
       "      <th>ticker</th>\n",
       "      <th>total_msg</th>\n",
       "      <th>text_reg_stop</th>\n",
       "    </tr>\n",
       "  </thead>\n",
       "  <tbody>\n",
       "    <tr>\n",
       "      <th>0</th>\n",
       "      <td>20210313.0</td>\n",
       "      <td>vtbr</td>\n",
       "      <td>1833.0</td>\n",
       "      <td>спартак счетом обыграл столичное динамо матче ...</td>\n",
       "    </tr>\n",
       "    <tr>\n",
       "      <th>1</th>\n",
       "      <td>20210311.0</td>\n",
       "      <td>sber</td>\n",
       "      <td>3634.0</td>\n",
       "      <td>схема крупной программы борьбы бедностью рф по...</td>\n",
       "    </tr>\n",
       "    <tr>\n",
       "      <th>2</th>\n",
       "      <td>20140108.0</td>\n",
       "      <td>aflt</td>\n",
       "      <td>1032.0</td>\n",
       "      <td>следственный комитет россии скр начал проверку...</td>\n",
       "    </tr>\n",
       "    <tr>\n",
       "      <th>3</th>\n",
       "      <td>20140108.0</td>\n",
       "      <td>sber</td>\n",
       "      <td>3634.0</td>\n",
       "      <td>владелец ратма таран продал основной цементный...</td>\n",
       "    </tr>\n",
       "    <tr>\n",
       "      <th>4</th>\n",
       "      <td>20140108.0</td>\n",
       "      <td>gazp</td>\n",
       "      <td>2768.0</td>\n",
       "      <td>прошлом году увеличил экспорт частности европу...</td>\n",
       "    </tr>\n",
       "  </tbody>\n",
       "</table>\n",
       "</div>"
      ],
      "text/plain": [
       "         date ticker  total_msg  \\\n",
       "0  20210313.0   vtbr     1833.0   \n",
       "1  20210311.0   sber     3634.0   \n",
       "2  20140108.0   aflt     1032.0   \n",
       "3  20140108.0   sber     3634.0   \n",
       "4  20140108.0   gazp     2768.0   \n",
       "\n",
       "                                       text_reg_stop  \n",
       "0  спартак счетом обыграл столичное динамо матче ...  \n",
       "1  схема крупной программы борьбы бедностью рф по...  \n",
       "2  следственный комитет россии скр начал проверку...  \n",
       "3  владелец ратма таран продал основной цементный...  \n",
       "4  прошлом году увеличил экспорт частности европу...  "
      ]
     },
     "execution_count": 3,
     "metadata": {},
     "output_type": "execute_result"
    }
   ],
   "source": [
    "f = pd.read_csv('/is/texts/mag/mag_text_lower_tic_all_flag_all_dt_e_reg_stop_short.csv', sep='|')\n",
    "f.head()"
   ]
  },
  {
   "cell_type": "code",
   "execution_count": 4,
   "metadata": {},
   "outputs": [
    {
     "name": "stdout",
     "output_type": "stream",
     "text": [
      "(20767, 4)\n",
      "(17627, 4)\n"
     ]
    }
   ],
   "source": [
    "print(f.shape)\n",
    "f.drop_duplicates('text_reg_stop', inplace=True)\n",
    "print(f.shape)"
   ]
  },
  {
   "cell_type": "code",
   "execution_count": 11,
   "metadata": {},
   "outputs": [],
   "source": [
    "f = f[f.text_reg_stop.isna()==False]"
   ]
  },
  {
   "cell_type": "code",
   "execution_count": 12,
   "metadata": {},
   "outputs": [
    {
     "name": "stdout",
     "output_type": "stream",
     "text": [
      "17626\n"
     ]
    },
    {
     "name": "stderr",
     "output_type": "stream",
     "text": [
      "/opt/conda/lib/python3.7/site-packages/ipykernel_launcher.py:4: TqdmDeprecationWarning: This function will be removed in tqdm==5.0.0\n",
      "Please use `tqdm.notebook.tqdm` instead of `tqdm.tqdm_notebook`\n",
      "  after removing the cwd from sys.path.\n"
     ]
    },
    {
     "data": {
      "application/vnd.jupyter.widget-view+json": {
       "model_id": "773fa94cc7c84cb09bce6d272d68a100",
       "version_major": 2,
       "version_minor": 0
      },
      "text/plain": [
       "HBox(children=(FloatProgress(value=0.0, max=17626.0), HTML(value='')))"
      ]
     },
     "metadata": {},
     "output_type": "display_data"
    },
    {
     "name": "stdout",
     "output_type": "stream",
     "text": [
      "\n",
      "17626\n"
     ]
    }
   ],
   "source": [
    "tokens = []\n",
    "l = f['text_reg_stop'].tolist()\n",
    "print(len(l))\n",
    "for i in tqdm(range(len(l)), position=0, leave=True):\n",
    "    tokens.append(nltk.word_tokenize(l[i]))\n",
    "print(len(tokens))"
   ]
  },
  {
   "cell_type": "code",
   "execution_count": null,
   "metadata": {},
   "outputs": [],
   "source": []
  },
  {
   "cell_type": "code",
   "execution_count": 13,
   "metadata": {},
   "outputs": [],
   "source": [
    "with open('/is/pkl/mag_tokens.pkl', 'wb') as tn:\n",
    "    pickle.dump(tokens, tn)"
   ]
  },
  {
   "cell_type": "markdown",
   "metadata": {},
   "source": [
    "### Добавляем стоп слова"
   ]
  },
  {
   "cell_type": "code",
   "execution_count": null,
   "metadata": {},
   "outputs": [],
   "source": [
    "stop_words = nltk.corpus.stopwords.words('russian')"
   ]
  },
  {
   "cell_type": "code",
   "execution_count": 14,
   "metadata": {},
   "outputs": [
    {
     "data": {
      "text/plain": [
       "2436"
      ]
     },
     "execution_count": 14,
     "metadata": {},
     "output_type": "execute_result"
    }
   ],
   "source": [
    "with open('/is/pkl/stop_words_mfd.pkl', 'rb') as sw:\n",
    "    stop_words = pickle.load(sw)\n",
    "len(stop_words)"
   ]
  },
  {
   "cell_type": "markdown",
   "metadata": {},
   "source": [
    "### Удаляем"
   ]
  },
  {
   "cell_type": "code",
   "execution_count": 36,
   "metadata": {},
   "outputs": [
    {
     "data": {
      "text/plain": [
       "100115"
      ]
     },
     "execution_count": 36,
     "metadata": {},
     "output_type": "execute_result"
    }
   ],
   "source": [
    "with open('/is/pkl/mag_tokens_spell.pkl', 'rb') as tn:\n",
    "    tokens = pickle.load(tn)\n",
    "len(tokens)"
   ]
  },
  {
   "cell_type": "code",
   "execution_count": 14,
   "metadata": {},
   "outputs": [
    {
     "name": "stdout",
     "output_type": "stream",
     "text": [
      "20701\n"
     ]
    },
    {
     "name": "stderr",
     "output_type": "stream",
     "text": [
      "/opt/conda/lib/python3.7/site-packages/ipykernel_launcher.py:7: TqdmDeprecationWarning: This function will be removed in tqdm==5.0.0\n",
      "Please use `tqdm.notebook.tqdm` instead of `tqdm.tqdm_notebook`\n",
      "  import sys\n"
     ]
    },
    {
     "data": {
      "application/vnd.jupyter.widget-view+json": {
       "model_id": "367ec104bb2c4a608f11c39d5c553d18",
       "version_major": 2,
       "version_minor": 0
      },
      "text/plain": [
       "HBox(children=(FloatProgress(value=0.0, max=20701.0), HTML(value='')))"
      ]
     },
     "metadata": {},
     "output_type": "display_data"
    },
    {
     "name": "stdout",
     "output_type": "stream",
     "text": [
      "\n",
      "20701\n",
      "20701\n"
     ]
    },
    {
     "ename": "MemoryError",
     "evalue": "",
     "output_type": "error",
     "traceback": [
      "\u001b[0;31m---------------------------------------------------------------------------\u001b[0m",
      "\u001b[0;31mMemoryError\u001b[0m                               Traceback (most recent call last)",
      "\u001b[0;32m<ipython-input-14-cf5f960feb61>\u001b[0m in \u001b[0;36m<module>\u001b[0;34m\u001b[0m\n\u001b[1;32m     10\u001b[0m \u001b[0mprint\u001b[0m\u001b[0;34m(\u001b[0m\u001b[0mlen\u001b[0m\u001b[0;34m(\u001b[0m\u001b[0mtokens_nostopwords\u001b[0m\u001b[0;34m)\u001b[0m\u001b[0;34m)\u001b[0m\u001b[0;34m\u001b[0m\u001b[0;34m\u001b[0m\u001b[0m\n\u001b[1;32m     11\u001b[0m \u001b[0;32mwith\u001b[0m \u001b[0mopen\u001b[0m\u001b[0;34m(\u001b[0m\u001b[0;34m'/is/pkl/mag_tokens_nostopwords.pkl'\u001b[0m\u001b[0;34m,\u001b[0m \u001b[0;34m'wb'\u001b[0m\u001b[0;34m)\u001b[0m \u001b[0;32mas\u001b[0m \u001b[0mtnsw\u001b[0m\u001b[0;34m:\u001b[0m\u001b[0;34m\u001b[0m\u001b[0;34m\u001b[0m\u001b[0m\n\u001b[0;32m---> 12\u001b[0;31m     \u001b[0mpickle\u001b[0m\u001b[0;34m.\u001b[0m\u001b[0mdump\u001b[0m\u001b[0;34m(\u001b[0m\u001b[0mtokens_nostopwords\u001b[0m\u001b[0;34m,\u001b[0m \u001b[0mtnsw\u001b[0m\u001b[0;34m)\u001b[0m\u001b[0;34m\u001b[0m\u001b[0;34m\u001b[0m\u001b[0m\n\u001b[0m",
      "\u001b[0;31mMemoryError\u001b[0m: "
     ]
    }
   ],
   "source": [
    "def delete_stop_words(x):\n",
    "    return [word for word in x if word not in stop_words]\n",
    "\n",
    "print(len(tokens))\n",
    "tokens_nostopwords = []\n",
    "\n",
    "for i in tqdm(range(len(tokens)), position=0, leave=True):\n",
    "    tokens_nostopwords = tokens_nostopwords + [delete_stop_words(tokens[i])]\n",
    "print(len(tokens))\n",
    "print(len(tokens_nostopwords))\n",
    "#with open('/is/pkl/mag_tokens_nostopwords.pkl', 'wb') as tnsw:\n",
    "    #pickle.dump(tokens_nostopwords, tnsw)"
   ]
  },
  {
   "cell_type": "code",
   "execution_count": 15,
   "metadata": {},
   "outputs": [
    {
     "name": "stderr",
     "output_type": "stream",
     "text": [
      "/opt/conda/lib/python3.7/site-packages/ipykernel_launcher.py:2: TqdmDeprecationWarning: This function will be removed in tqdm==5.0.0\n",
      "Please use `tqdm.notebook.tqdm` instead of `tqdm.tqdm_notebook`\n",
      "  \n"
     ]
    },
    {
     "data": {
      "application/vnd.jupyter.widget-view+json": {
       "model_id": "aaa7737da8b44da5b8ed35e520c6d042",
       "version_major": 2,
       "version_minor": 0
      },
      "text/plain": [
       "HBox(children=(FloatProgress(value=0.0, max=20701.0), HTML(value='')))"
      ]
     },
     "metadata": {},
     "output_type": "display_data"
    },
    {
     "name": "stdout",
     "output_type": "stream",
     "text": [
      "\n"
     ]
    },
    {
     "data": {
      "text/html": [
       "<div>\n",
       "<style scoped>\n",
       "    .dataframe tbody tr th:only-of-type {\n",
       "        vertical-align: middle;\n",
       "    }\n",
       "\n",
       "    .dataframe tbody tr th {\n",
       "        vertical-align: top;\n",
       "    }\n",
       "\n",
       "    .dataframe thead th {\n",
       "        text-align: right;\n",
       "    }\n",
       "</style>\n",
       "<table border=\"1\" class=\"dataframe\">\n",
       "  <thead>\n",
       "    <tr style=\"text-align: right;\">\n",
       "      <th></th>\n",
       "      <th>text</th>\n",
       "      <th>date</th>\n",
       "      <th>lower_text</th>\n",
       "      <th>ticker</th>\n",
       "      <th>total_msg</th>\n",
       "      <th>text_reg</th>\n",
       "      <th>text_reg_stop</th>\n",
       "    </tr>\n",
       "  </thead>\n",
       "  <tbody>\n",
       "    <tr>\n",
       "      <th>0</th>\n",
       "      <td>Московский «Спартак» со счетом 2:1 обыграл сто...</td>\n",
       "      <td>20210313.0</td>\n",
       "      <td>московский «спартак» со счетом 2:1 обыграл сто...</td>\n",
       "      <td>vtbr</td>\n",
       "      <td>1833</td>\n",
       "      <td>московский спартак со счетом обыграл столичное...</td>\n",
       "      <td>спартак счетом обыграл столичное динамо матче ...</td>\n",
       "    </tr>\n",
       "    <tr>\n",
       "      <th>1</th>\n",
       "      <td>Схема самой крупной программы борьбы с бедност...</td>\n",
       "      <td>20210311.0</td>\n",
       "      <td>схема самой крупной программы борьбы с бедност...</td>\n",
       "      <td>sber</td>\n",
       "      <td>3634</td>\n",
       "      <td>схема самой крупной программы борьбы с бедност...</td>\n",
       "      <td>схема крупной программы борьбы бедностью рф по...</td>\n",
       "    </tr>\n",
       "    <tr>\n",
       "      <th>2</th>\n",
       "      <td>Следственный комитет России (СКР) начал провер...</td>\n",
       "      <td>20140108.0</td>\n",
       "      <td>следственный комитет россии (скр) начал провер...</td>\n",
       "      <td>aflt</td>\n",
       "      <td>1032</td>\n",
       "      <td>следственный комитет россии скр начал проверку...</td>\n",
       "      <td>следственный комитет россии скр начал проверку...</td>\n",
       "    </tr>\n",
       "    <tr>\n",
       "      <th>3</th>\n",
       "      <td>Владелец РАТМа Эдуард Таран продал основной це...</td>\n",
       "      <td>20140108.0</td>\n",
       "      <td>владелец ратма эдуард таран продал основной це...</td>\n",
       "      <td>sber</td>\n",
       "      <td>3634</td>\n",
       "      <td>владелец ратма эдуард таран продал основной це...</td>\n",
       "      <td>владелец ратма таран продал основной цементный...</td>\n",
       "    </tr>\n",
       "    <tr>\n",
       "      <th>4</th>\n",
       "      <td>«Газпром» в прошлом году увеличил экспорт на 7...</td>\n",
       "      <td>20140108.0</td>\n",
       "      <td>«газпром» в прошлом году увеличил экспорт на 7...</td>\n",
       "      <td>gazp</td>\n",
       "      <td>2768</td>\n",
       "      <td>газпром в прошлом году увеличил экспорт на в ч...</td>\n",
       "      <td>прошлом году увеличил экспорт частности европу...</td>\n",
       "    </tr>\n",
       "  </tbody>\n",
       "</table>\n",
       "</div>"
      ],
      "text/plain": [
       "                                                text        date  \\\n",
       "0  Московский «Спартак» со счетом 2:1 обыграл сто...  20210313.0   \n",
       "1  Схема самой крупной программы борьбы с бедност...  20210311.0   \n",
       "2  Следственный комитет России (СКР) начал провер...  20140108.0   \n",
       "3  Владелец РАТМа Эдуард Таран продал основной це...  20140108.0   \n",
       "4  «Газпром» в прошлом году увеличил экспорт на 7...  20140108.0   \n",
       "\n",
       "                                          lower_text ticker  total_msg  \\\n",
       "0  московский «спартак» со счетом 2:1 обыграл сто...   vtbr       1833   \n",
       "1  схема самой крупной программы борьбы с бедност...   sber       3634   \n",
       "2  следственный комитет россии (скр) начал провер...   aflt       1032   \n",
       "3  владелец ратма эдуард таран продал основной це...   sber       3634   \n",
       "4  «газпром» в прошлом году увеличил экспорт на 7...   gazp       2768   \n",
       "\n",
       "                                            text_reg  \\\n",
       "0  московский спартак со счетом обыграл столичное...   \n",
       "1  схема самой крупной программы борьбы с бедност...   \n",
       "2  следственный комитет россии скр начал проверку...   \n",
       "3  владелец ратма эдуард таран продал основной це...   \n",
       "4  газпром в прошлом году увеличил экспорт на в ч...   \n",
       "\n",
       "                                       text_reg_stop  \n",
       "0  спартак счетом обыграл столичное динамо матче ...  \n",
       "1  схема крупной программы борьбы бедностью рф по...  \n",
       "2  следственный комитет россии скр начал проверку...  \n",
       "3  владелец ратма таран продал основной цементный...  \n",
       "4  прошлом году увеличил экспорт частности европу...  "
      ]
     },
     "execution_count": 15,
     "metadata": {},
     "output_type": "execute_result"
    }
   ],
   "source": [
    "s = []\n",
    "for i in tqdm(range(len(tokens_nostopwords)), position=0, leave=True):\n",
    "    s = s + [' '.join(tokens_nostopwords[i])]\n",
    "f['text_reg_stop'] = s\n",
    "f.to_csv('/is/texts/mag/mag_text_lower_tic_all_flag_all_dt_e_reg_stop.csv', sep='|', index=False)\n",
    "f.head()\n"
   ]
  },
  {
   "cell_type": "code",
   "execution_count": 28,
   "metadata": {},
   "outputs": [],
   "source": [
    "col = p1.columns"
   ]
  },
  {
   "cell_type": "code",
   "execution_count": 33,
   "metadata": {},
   "outputs": [
    {
     "data": {
      "text/plain": [
       "(5767, 7)"
      ]
     },
     "execution_count": 33,
     "metadata": {},
     "output_type": "execute_result"
    }
   ],
   "source": [
    "p1 = pd.read_csv('/is/texts/mag/mag_text_lower_tic_all_flag_all_dt_e_reg_stop.csv', sep='|', skiprows=15000, nrows=6000)\n",
    "p1.shape"
   ]
  },
  {
   "cell_type": "code",
   "execution_count": 34,
   "metadata": {},
   "outputs": [],
   "source": [
    "p1.columns = col"
   ]
  },
  {
   "cell_type": "code",
   "execution_count": 35,
   "metadata": {},
   "outputs": [
    {
     "data": {
      "text/plain": [
       "(20767, 4)"
      ]
     },
     "execution_count": 35,
     "metadata": {},
     "output_type": "execute_result"
    }
   ],
   "source": [
    "f = f.append(p1[['date', 'ticker', 'total_msg', 'text_reg_stop']])\n",
    "f.shape"
   ]
  },
  {
   "cell_type": "code",
   "execution_count": 37,
   "metadata": {},
   "outputs": [],
   "source": [
    "p1 = 0"
   ]
  },
  {
   "cell_type": "code",
   "execution_count": 36,
   "metadata": {},
   "outputs": [],
   "source": [
    "f.to_csv('/is/texts/mag/mag_text_lower_tic_all_flag_all_dt_e_reg_stop_short.csv', sep='|', index=False)"
   ]
  },
  {
   "cell_type": "code",
   "execution_count": 16,
   "metadata": {},
   "outputs": [],
   "source": [
    "tokens_nostopwords = tokens"
   ]
  },
  {
   "cell_type": "markdown",
   "metadata": {},
   "source": [
    "### Стемминг"
   ]
  },
  {
   "cell_type": "code",
   "execution_count": 17,
   "metadata": {},
   "outputs": [
    {
     "name": "stdout",
     "output_type": "stream",
     "text": [
      "17626\n"
     ]
    },
    {
     "name": "stderr",
     "output_type": "stream",
     "text": [
      "/opt/conda/lib/python3.7/site-packages/ipykernel_launcher.py:4: TqdmDeprecationWarning: This function will be removed in tqdm==5.0.0\n",
      "Please use `tqdm.notebook.tqdm` instead of `tqdm.tqdm_notebook`\n",
      "  after removing the cwd from sys.path.\n"
     ]
    },
    {
     "data": {
      "application/vnd.jupyter.widget-view+json": {
       "model_id": "daa14ba4aa734c3497b7441724bcdb8c",
       "version_major": 2,
       "version_minor": 0
      },
      "text/plain": [
       "HBox(children=(FloatProgress(value=0.0, max=17626.0), HTML(value='')))"
      ]
     },
     "metadata": {},
     "output_type": "display_data"
    },
    {
     "name": "stdout",
     "output_type": "stream",
     "text": [
      "\n",
      "17626\n"
     ]
    }
   ],
   "source": [
    "stemmer = SnowballStemmer('russian')\n",
    "tokens_st = []\n",
    "print(len(tokens_nostopwords))\n",
    "for i in tqdm(range(len(tokens_nostopwords)), position=0, leave=True):\n",
    "    stem = [stemmer.stem(w) for w in tokens_nostopwords[i]]\n",
    "    tokens_st = tokens_st + [stem]\n",
    "print(len(tokens_st))"
   ]
  },
  {
   "cell_type": "code",
   "execution_count": 22,
   "metadata": {},
   "outputs": [
    {
     "name": "stderr",
     "output_type": "stream",
     "text": [
      "/opt/conda/lib/python3.7/site-packages/ipykernel_launcher.py:2: TqdmDeprecationWarning: This function will be removed in tqdm==5.0.0\n",
      "Please use `tqdm.notebook.tqdm` instead of `tqdm.tqdm_notebook`\n",
      "  \n"
     ]
    },
    {
     "data": {
      "application/vnd.jupyter.widget-view+json": {
       "model_id": "56a9c340476e495bb990ebfc4ad1e4b6",
       "version_major": 2,
       "version_minor": 0
      },
      "text/plain": [
       "HBox(children=(FloatProgress(value=0.0, max=17626.0), HTML(value='')))"
      ]
     },
     "metadata": {},
     "output_type": "display_data"
    },
    {
     "name": "stdout",
     "output_type": "stream",
     "text": [
      "\n"
     ]
    },
    {
     "data": {
      "text/html": [
       "<div>\n",
       "<style scoped>\n",
       "    .dataframe tbody tr th:only-of-type {\n",
       "        vertical-align: middle;\n",
       "    }\n",
       "\n",
       "    .dataframe tbody tr th {\n",
       "        vertical-align: top;\n",
       "    }\n",
       "\n",
       "    .dataframe thead th {\n",
       "        text-align: right;\n",
       "    }\n",
       "</style>\n",
       "<table border=\"1\" class=\"dataframe\">\n",
       "  <thead>\n",
       "    <tr style=\"text-align: right;\">\n",
       "      <th></th>\n",
       "      <th>date</th>\n",
       "      <th>ticker</th>\n",
       "      <th>total_msg</th>\n",
       "      <th>text_reg_stop</th>\n",
       "      <th>text_reg_stop_stem</th>\n",
       "    </tr>\n",
       "  </thead>\n",
       "  <tbody>\n",
       "    <tr>\n",
       "      <th>0</th>\n",
       "      <td>20210313.0</td>\n",
       "      <td>vtbr</td>\n",
       "      <td>1833.0</td>\n",
       "      <td>спартак счетом обыграл столичное динамо матче ...</td>\n",
       "      <td>спартак счет обыгра столичн динам матч го тур ...</td>\n",
       "    </tr>\n",
       "    <tr>\n",
       "      <th>1</th>\n",
       "      <td>20210311.0</td>\n",
       "      <td>sber</td>\n",
       "      <td>3634.0</td>\n",
       "      <td>схема крупной программы борьбы бедностью рф по...</td>\n",
       "      <td>схем крупн программ борьб бедност рф поддержк ...</td>\n",
       "    </tr>\n",
       "    <tr>\n",
       "      <th>2</th>\n",
       "      <td>20140108.0</td>\n",
       "      <td>aflt</td>\n",
       "      <td>1032.0</td>\n",
       "      <td>следственный комитет россии скр начал проверку...</td>\n",
       "      <td>следствен комитет росс скр нача проверк эвитер...</td>\n",
       "    </tr>\n",
       "    <tr>\n",
       "      <th>3</th>\n",
       "      <td>20140108.0</td>\n",
       "      <td>sber</td>\n",
       "      <td>3634.0</td>\n",
       "      <td>владелец ратма таран продал основной цементный...</td>\n",
       "      <td>владелец ратм тара прода основн цементн акт гр...</td>\n",
       "    </tr>\n",
       "    <tr>\n",
       "      <th>4</th>\n",
       "      <td>20140108.0</td>\n",
       "      <td>gazp</td>\n",
       "      <td>2768.0</td>\n",
       "      <td>прошлом году увеличил экспорт частности европу...</td>\n",
       "      <td>прошл год увелич экспорт частност европ сократ...</td>\n",
       "    </tr>\n",
       "  </tbody>\n",
       "</table>\n",
       "</div>"
      ],
      "text/plain": [
       "         date ticker  total_msg  \\\n",
       "0  20210313.0   vtbr     1833.0   \n",
       "1  20210311.0   sber     3634.0   \n",
       "2  20140108.0   aflt     1032.0   \n",
       "3  20140108.0   sber     3634.0   \n",
       "4  20140108.0   gazp     2768.0   \n",
       "\n",
       "                                       text_reg_stop  \\\n",
       "0  спартак счетом обыграл столичное динамо матче ...   \n",
       "1  схема крупной программы борьбы бедностью рф по...   \n",
       "2  следственный комитет россии скр начал проверку...   \n",
       "3  владелец ратма таран продал основной цементный...   \n",
       "4  прошлом году увеличил экспорт частности европу...   \n",
       "\n",
       "                                  text_reg_stop_stem  \n",
       "0  спартак счет обыгра столичн динам матч го тур ...  \n",
       "1  схем крупн программ борьб бедност рф поддержк ...  \n",
       "2  следствен комитет росс скр нача проверк эвитер...  \n",
       "3  владелец ратм тара прода основн цементн акт гр...  \n",
       "4  прошл год увелич экспорт частност европ сократ...  "
      ]
     },
     "execution_count": 22,
     "metadata": {},
     "output_type": "execute_result"
    }
   ],
   "source": [
    "s = []\n",
    "for i in tqdm(range(len(tokens_st)), position=0, leave=True):\n",
    "    s = s + [' '.join(tokens_st[i])]\n",
    "f['text_reg_stop_stem'] = s\n",
    "f.to_csv('/is/texts/mag/mag_text_lower_tic_all_flag_all_dt_e_reg_stop_stem.csv', sep='|', index=False)\n",
    "f.head()"
   ]
  },
  {
   "cell_type": "code",
   "execution_count": null,
   "metadata": {},
   "outputs": [],
   "source": [
    "with open('/is/pkl/mag_tokens_stem.pkl', 'wb') as ts:\n",
    "    pickle.dump(tokens_st, ts)"
   ]
  },
  {
   "cell_type": "code",
   "execution_count": 46,
   "metadata": {},
   "outputs": [],
   "source": [
    "with open('/is/pkl/mag_tokens_stem.pkl', 'rb') as ts:\n",
    "    tok = pickle.load(ts)"
   ]
  },
  {
   "cell_type": "code",
   "execution_count": 74,
   "metadata": {},
   "outputs": [
    {
     "data": {
      "text/plain": [
       "(100115, 15)"
      ]
     },
     "execution_count": 74,
     "metadata": {},
     "output_type": "execute_result"
    }
   ],
   "source": [
    "f = pd.read_csv('/is/texts/tg/text_lower_tic_all_flag_all_dt_e_reg_spell_stop_lem_stem.csv', sep='|')\n",
    "f.shape"
   ]
  },
  {
   "cell_type": "markdown",
   "metadata": {},
   "source": [
    "#### Анализ длины сообщений"
   ]
  },
  {
   "cell_type": "code",
   "execution_count": 25,
   "metadata": {},
   "outputs": [
    {
     "data": {
      "text/html": [
       "<div>\n",
       "<style scoped>\n",
       "    .dataframe tbody tr th:only-of-type {\n",
       "        vertical-align: middle;\n",
       "    }\n",
       "\n",
       "    .dataframe tbody tr th {\n",
       "        vertical-align: top;\n",
       "    }\n",
       "\n",
       "    .dataframe thead th {\n",
       "        text-align: right;\n",
       "    }\n",
       "</style>\n",
       "<table border=\"1\" class=\"dataframe\">\n",
       "  <thead>\n",
       "    <tr style=\"text-align: right;\">\n",
       "      <th></th>\n",
       "      <th>date</th>\n",
       "      <th>total_msg</th>\n",
       "      <th>len_lem_text</th>\n",
       "    </tr>\n",
       "  </thead>\n",
       "  <tbody>\n",
       "    <tr>\n",
       "      <th>count</th>\n",
       "      <td>1.762600e+04</td>\n",
       "      <td>17626.000000</td>\n",
       "      <td>17626.000000</td>\n",
       "    </tr>\n",
       "    <tr>\n",
       "      <th>mean</th>\n",
       "      <td>2.016736e+07</td>\n",
       "      <td>1419.449223</td>\n",
       "      <td>2978.313060</td>\n",
       "    </tr>\n",
       "    <tr>\n",
       "      <th>std</th>\n",
       "      <td>1.931111e+04</td>\n",
       "      <td>1283.286565</td>\n",
       "      <td>2084.969175</td>\n",
       "    </tr>\n",
       "    <tr>\n",
       "      <th>min</th>\n",
       "      <td>2.014011e+07</td>\n",
       "      <td>121.000000</td>\n",
       "      <td>21.000000</td>\n",
       "    </tr>\n",
       "    <tr>\n",
       "      <th>25%</th>\n",
       "      <td>2.015062e+07</td>\n",
       "      <td>351.000000</td>\n",
       "      <td>1921.000000</td>\n",
       "    </tr>\n",
       "    <tr>\n",
       "      <th>50%</th>\n",
       "      <td>2.017012e+07</td>\n",
       "      <td>720.000000</td>\n",
       "      <td>2532.000000</td>\n",
       "    </tr>\n",
       "    <tr>\n",
       "      <th>75%</th>\n",
       "      <td>2.018093e+07</td>\n",
       "      <td>2768.000000</td>\n",
       "      <td>3340.000000</td>\n",
       "    </tr>\n",
       "    <tr>\n",
       "      <th>max</th>\n",
       "      <td>2.021031e+07</td>\n",
       "      <td>3634.000000</td>\n",
       "      <td>41368.000000</td>\n",
       "    </tr>\n",
       "  </tbody>\n",
       "</table>\n",
       "</div>"
      ],
      "text/plain": [
       "               date     total_msg  len_lem_text\n",
       "count  1.762600e+04  17626.000000  17626.000000\n",
       "mean   2.016736e+07   1419.449223   2978.313060\n",
       "std    1.931111e+04   1283.286565   2084.969175\n",
       "min    2.014011e+07    121.000000     21.000000\n",
       "25%    2.015062e+07    351.000000   1921.000000\n",
       "50%    2.017012e+07    720.000000   2532.000000\n",
       "75%    2.018093e+07   2768.000000   3340.000000\n",
       "max    2.021031e+07   3634.000000  41368.000000"
      ]
     },
     "execution_count": 25,
     "metadata": {},
     "output_type": "execute_result"
    }
   ],
   "source": [
    "f['len_lem_text'] = f.text_reg_stop_stem.str.len()\n",
    "f.describe()"
   ]
  },
  {
   "cell_type": "code",
   "execution_count": 26,
   "metadata": {},
   "outputs": [
    {
     "data": {
      "text/html": [
       "<div>\n",
       "<style scoped>\n",
       "    .dataframe tbody tr th:only-of-type {\n",
       "        vertical-align: middle;\n",
       "    }\n",
       "\n",
       "    .dataframe tbody tr th {\n",
       "        vertical-align: top;\n",
       "    }\n",
       "\n",
       "    .dataframe thead th {\n",
       "        text-align: right;\n",
       "    }\n",
       "</style>\n",
       "<table border=\"1\" class=\"dataframe\">\n",
       "  <thead>\n",
       "    <tr style=\"text-align: right;\">\n",
       "      <th></th>\n",
       "      <th>date</th>\n",
       "      <th>ticker</th>\n",
       "      <th>total_msg</th>\n",
       "      <th>text_reg_stop</th>\n",
       "      <th>text_reg_stop_stem</th>\n",
       "      <th>len_lem_text</th>\n",
       "    </tr>\n",
       "  </thead>\n",
       "  <tbody>\n",
       "    <tr>\n",
       "      <th>0</th>\n",
       "      <td>20210313.0</td>\n",
       "      <td>vtbr</td>\n",
       "      <td>1833.0</td>\n",
       "      <td>спартак счетом обыграл столичное динамо матче ...</td>\n",
       "      <td>спартак счет обыгра столичн динам матч го тур ...</td>\n",
       "      <td>320</td>\n",
       "    </tr>\n",
       "    <tr>\n",
       "      <th>1</th>\n",
       "      <td>20210311.0</td>\n",
       "      <td>sber</td>\n",
       "      <td>3634.0</td>\n",
       "      <td>схема крупной программы борьбы бедностью рф по...</td>\n",
       "      <td>схем крупн программ борьб бедност рф поддержк ...</td>\n",
       "      <td>4041</td>\n",
       "    </tr>\n",
       "    <tr>\n",
       "      <th>2</th>\n",
       "      <td>20140108.0</td>\n",
       "      <td>aflt</td>\n",
       "      <td>1032.0</td>\n",
       "      <td>следственный комитет россии скр начал проверку...</td>\n",
       "      <td>следствен комитет росс скр нача проверк эвитер...</td>\n",
       "      <td>2642</td>\n",
       "    </tr>\n",
       "    <tr>\n",
       "      <th>3</th>\n",
       "      <td>20140108.0</td>\n",
       "      <td>sber</td>\n",
       "      <td>3634.0</td>\n",
       "      <td>владелец ратма таран продал основной цементный...</td>\n",
       "      <td>владелец ратм тара прода основн цементн акт гр...</td>\n",
       "      <td>2387</td>\n",
       "    </tr>\n",
       "    <tr>\n",
       "      <th>4</th>\n",
       "      <td>20140108.0</td>\n",
       "      <td>gazp</td>\n",
       "      <td>2768.0</td>\n",
       "      <td>прошлом году увеличил экспорт частности европу...</td>\n",
       "      <td>прошл год увелич экспорт частност европ сократ...</td>\n",
       "      <td>1630</td>\n",
       "    </tr>\n",
       "  </tbody>\n",
       "</table>\n",
       "</div>"
      ],
      "text/plain": [
       "         date ticker  total_msg  \\\n",
       "0  20210313.0   vtbr     1833.0   \n",
       "1  20210311.0   sber     3634.0   \n",
       "2  20140108.0   aflt     1032.0   \n",
       "3  20140108.0   sber     3634.0   \n",
       "4  20140108.0   gazp     2768.0   \n",
       "\n",
       "                                       text_reg_stop  \\\n",
       "0  спартак счетом обыграл столичное динамо матче ...   \n",
       "1  схема крупной программы борьбы бедностью рф по...   \n",
       "2  следственный комитет россии скр начал проверку...   \n",
       "3  владелец ратма таран продал основной цементный...   \n",
       "4  прошлом году увеличил экспорт частности европу...   \n",
       "\n",
       "                                  text_reg_stop_stem  len_lem_text  \n",
       "0  спартак счет обыгра столичн динам матч го тур ...           320  \n",
       "1  схем крупн программ борьб бедност рф поддержк ...          4041  \n",
       "2  следствен комитет росс скр нача проверк эвитер...          2642  \n",
       "3  владелец ратм тара прода основн цементн акт гр...          2387  \n",
       "4  прошл год увелич экспорт частност европ сократ...          1630  "
      ]
     },
     "execution_count": 26,
     "metadata": {},
     "output_type": "execute_result"
    }
   ],
   "source": [
    "f.head()"
   ]
  },
  {
   "cell_type": "markdown",
   "metadata": {},
   "source": [
    "#### Удаляем сообщения длиной 0 и 1"
   ]
  },
  {
   "cell_type": "code",
   "execution_count": 27,
   "metadata": {},
   "outputs": [
    {
     "name": "stdout",
     "output_type": "stream",
     "text": [
      "(17626, 6)\n",
      "(17626, 6)\n"
     ]
    }
   ],
   "source": [
    "print(f.shape)\n",
    "f = f[(f.len_lem_text!=0)&(f.len_lem_text!=1)]\n",
    "print(f.shape)"
   ]
  },
  {
   "cell_type": "markdown",
   "metadata": {},
   "source": [
    "#### Удаляем сообщения аутлаеры по длине"
   ]
  },
  {
   "cell_type": "code",
   "execution_count": 28,
   "metadata": {},
   "outputs": [
    {
     "data": {
      "text/plain": [
       "<matplotlib.axes._subplots.AxesSubplot at 0x7f8d8d1f3950>"
      ]
     },
     "execution_count": 28,
     "metadata": {},
     "output_type": "execute_result"
    },
    {
     "data": {
      "image/png": "[encoded data removed]",
      "text/plain": [
       "<Figure size 432x288 with 1 Axes>"
      ]
     },
     "metadata": {
      "needs_background": "light"
     },
     "output_type": "display_data"
    }
   ],
   "source": [
    "import numpy as np\n",
    "np.log(f.len_lem_text + 1).hist(bins=40)"
   ]
  },
  {
   "cell_type": "markdown",
   "metadata": {},
   "source": [
    "#### Сравниваем iqr по логарифму и в обычном виде"
   ]
  },
  {
   "cell_type": "code",
   "execution_count": 30,
   "metadata": {},
   "outputs": [
    {
     "data": {
      "text/plain": [
       "(17626, 6)"
      ]
     },
     "execution_count": 30,
     "metadata": {},
     "output_type": "execute_result"
    }
   ],
   "source": [
    "f.shape"
   ]
  },
  {
   "cell_type": "code",
   "execution_count": 29,
   "metadata": {},
   "outputs": [
    {
     "data": {
      "text/plain": [
       "(16230, 6)"
      ]
     },
     "execution_count": 29,
     "metadata": {},
     "output_type": "execute_result"
    }
   ],
   "source": [
    "iqr = (f['len_lem_text'].quantile(0.75) - f['len_lem_text'].quantile(0.25)) * 1.5\n",
    "f[(f.len_lem_text > f.len_lem_text.quantile(0.25) - iqr)&(f.len_lem_text < f.len_lem_text.quantile(0.75) + iqr)].shape"
   ]
  },
  {
   "cell_type": "code",
   "execution_count": 31,
   "metadata": {},
   "outputs": [
    {
     "data": {
      "text/plain": [
       "(16280, 6)"
      ]
     },
     "execution_count": 31,
     "metadata": {},
     "output_type": "execute_result"
    }
   ],
   "source": [
    "iqr_np = (np.log(f['len_lem_text']).quantile(0.75) - np.log(f['len_lem_text']).quantile(0.25)) * 1.5\n",
    "f[(np.log(f.len_lem_text) > np.log(f.len_lem_text).quantile(0.25) - iqr_np) & \\\n",
    "  (np.log(f.len_lem_text) < np.log(f.len_lem_text.quantile(0.75)) + iqr_np)].shape"
   ]
  },
  {
   "cell_type": "code",
   "execution_count": 32,
   "metadata": {},
   "outputs": [
    {
     "data": {
      "text/plain": [
       "(16280, 6)"
      ]
     },
     "execution_count": 32,
     "metadata": {},
     "output_type": "execute_result"
    }
   ],
   "source": [
    "f = f[(np.log(f.len_lem_text) > np.log(f.len_lem_text).quantile(0.25) - iqr_np) & \\\n",
    "  (np.log(f.len_lem_text) < np.log(f.len_lem_text.quantile(0.75)) + iqr_np)]\n",
    "f.shape"
   ]
  },
  {
   "cell_type": "code",
   "execution_count": 33,
   "metadata": {},
   "outputs": [
    {
     "data": {
      "text/html": [
       "<div>\n",
       "<style scoped>\n",
       "    .dataframe tbody tr th:only-of-type {\n",
       "        vertical-align: middle;\n",
       "    }\n",
       "\n",
       "    .dataframe tbody tr th {\n",
       "        vertical-align: top;\n",
       "    }\n",
       "\n",
       "    .dataframe thead th {\n",
       "        text-align: right;\n",
       "    }\n",
       "</style>\n",
       "<table border=\"1\" class=\"dataframe\">\n",
       "  <thead>\n",
       "    <tr style=\"text-align: right;\">\n",
       "      <th></th>\n",
       "      <th>date</th>\n",
       "      <th>ticker</th>\n",
       "      <th>total_msg</th>\n",
       "      <th>text_reg_stop</th>\n",
       "      <th>text_reg_stop_stem</th>\n",
       "      <th>len_lem_text</th>\n",
       "    </tr>\n",
       "  </thead>\n",
       "  <tbody>\n",
       "    <tr>\n",
       "      <th>1</th>\n",
       "      <td>20210311.0</td>\n",
       "      <td>sber</td>\n",
       "      <td>3634.0</td>\n",
       "      <td>схема крупной программы борьбы бедностью рф по...</td>\n",
       "      <td>схем крупн программ борьб бедност рф поддержк ...</td>\n",
       "      <td>4041</td>\n",
       "    </tr>\n",
       "    <tr>\n",
       "      <th>2</th>\n",
       "      <td>20140108.0</td>\n",
       "      <td>aflt</td>\n",
       "      <td>1032.0</td>\n",
       "      <td>следственный комитет россии скр начал проверку...</td>\n",
       "      <td>следствен комитет росс скр нача проверк эвитер...</td>\n",
       "      <td>2642</td>\n",
       "    </tr>\n",
       "    <tr>\n",
       "      <th>3</th>\n",
       "      <td>20140108.0</td>\n",
       "      <td>sber</td>\n",
       "      <td>3634.0</td>\n",
       "      <td>владелец ратма таран продал основной цементный...</td>\n",
       "      <td>владелец ратм тара прода основн цементн акт гр...</td>\n",
       "      <td>2387</td>\n",
       "    </tr>\n",
       "    <tr>\n",
       "      <th>4</th>\n",
       "      <td>20140108.0</td>\n",
       "      <td>gazp</td>\n",
       "      <td>2768.0</td>\n",
       "      <td>прошлом году увеличил экспорт частности европу...</td>\n",
       "      <td>прошл год увелич экспорт частност европ сократ...</td>\n",
       "      <td>1630</td>\n",
       "    </tr>\n",
       "    <tr>\n",
       "      <th>5</th>\n",
       "      <td>20140109.0</td>\n",
       "      <td>zill</td>\n",
       "      <td>150.0</td>\n",
       "      <td>председатель совета директоров независимой неф...</td>\n",
       "      <td>председател совет директор независим нефтян ко...</td>\n",
       "      <td>961</td>\n",
       "    </tr>\n",
       "  </tbody>\n",
       "</table>\n",
       "</div>"
      ],
      "text/plain": [
       "         date ticker  total_msg  \\\n",
       "1  20210311.0   sber     3634.0   \n",
       "2  20140108.0   aflt     1032.0   \n",
       "3  20140108.0   sber     3634.0   \n",
       "4  20140108.0   gazp     2768.0   \n",
       "5  20140109.0   zill      150.0   \n",
       "\n",
       "                                       text_reg_stop  \\\n",
       "1  схема крупной программы борьбы бедностью рф по...   \n",
       "2  следственный комитет россии скр начал проверку...   \n",
       "3  владелец ратма таран продал основной цементный...   \n",
       "4  прошлом году увеличил экспорт частности европу...   \n",
       "5  председатель совета директоров независимой неф...   \n",
       "\n",
       "                                  text_reg_stop_stem  len_lem_text  \n",
       "1  схем крупн программ борьб бедност рф поддержк ...          4041  \n",
       "2  следствен комитет росс скр нача проверк эвитер...          2642  \n",
       "3  владелец ратм тара прода основн цементн акт гр...          2387  \n",
       "4  прошл год увелич экспорт частност европ сократ...          1630  \n",
       "5  председател совет директор независим нефтян ко...           961  "
      ]
     },
     "execution_count": 33,
     "metadata": {},
     "output_type": "execute_result"
    }
   ],
   "source": [
    "f.head()"
   ]
  },
  {
   "cell_type": "code",
   "execution_count": 34,
   "metadata": {},
   "outputs": [
    {
     "data": {
      "text/html": [
       "<div>\n",
       "<style scoped>\n",
       "    .dataframe tbody tr th:only-of-type {\n",
       "        vertical-align: middle;\n",
       "    }\n",
       "\n",
       "    .dataframe tbody tr th {\n",
       "        vertical-align: top;\n",
       "    }\n",
       "\n",
       "    .dataframe thead th {\n",
       "        text-align: right;\n",
       "    }\n",
       "</style>\n",
       "<table border=\"1\" class=\"dataframe\">\n",
       "  <thead>\n",
       "    <tr style=\"text-align: right;\">\n",
       "      <th></th>\n",
       "      <th>date</th>\n",
       "      <th>ticker</th>\n",
       "      <th>total_msg</th>\n",
       "      <th>text_reg_stop</th>\n",
       "      <th>text_reg_stop_stem</th>\n",
       "      <th>len_lem_text</th>\n",
       "    </tr>\n",
       "  </thead>\n",
       "  <tbody>\n",
       "    <tr>\n",
       "      <th>1</th>\n",
       "      <td>20210311.0</td>\n",
       "      <td>sber</td>\n",
       "      <td>2548</td>\n",
       "      <td>схема крупной программы борьбы бедностью рф по...</td>\n",
       "      <td>схем крупн программ борьб бедност рф поддержк ...</td>\n",
       "      <td>4041</td>\n",
       "    </tr>\n",
       "    <tr>\n",
       "      <th>2</th>\n",
       "      <td>20140108.0</td>\n",
       "      <td>aflt</td>\n",
       "      <td>916</td>\n",
       "      <td>следственный комитет россии скр начал проверку...</td>\n",
       "      <td>следствен комитет росс скр нача проверк эвитер...</td>\n",
       "      <td>2642</td>\n",
       "    </tr>\n",
       "    <tr>\n",
       "      <th>3</th>\n",
       "      <td>20140108.0</td>\n",
       "      <td>sber</td>\n",
       "      <td>2548</td>\n",
       "      <td>владелец ратма таран продал основной цементный...</td>\n",
       "      <td>владелец ратм тара прода основн цементн акт гр...</td>\n",
       "      <td>2387</td>\n",
       "    </tr>\n",
       "    <tr>\n",
       "      <th>4</th>\n",
       "      <td>20140108.0</td>\n",
       "      <td>gazp</td>\n",
       "      <td>2391</td>\n",
       "      <td>прошлом году увеличил экспорт частности европу...</td>\n",
       "      <td>прошл год увелич экспорт частност европ сократ...</td>\n",
       "      <td>1630</td>\n",
       "    </tr>\n",
       "    <tr>\n",
       "      <th>5</th>\n",
       "      <td>20140109.0</td>\n",
       "      <td>zill</td>\n",
       "      <td>90</td>\n",
       "      <td>председатель совета директоров независимой неф...</td>\n",
       "      <td>председател совет директор независим нефтян ко...</td>\n",
       "      <td>961</td>\n",
       "    </tr>\n",
       "  </tbody>\n",
       "</table>\n",
       "</div>"
      ],
      "text/plain": [
       "         date ticker  total_msg  \\\n",
       "1  20210311.0   sber       2548   \n",
       "2  20140108.0   aflt        916   \n",
       "3  20140108.0   sber       2548   \n",
       "4  20140108.0   gazp       2391   \n",
       "5  20140109.0   zill         90   \n",
       "\n",
       "                                       text_reg_stop  \\\n",
       "1  схема крупной программы борьбы бедностью рф по...   \n",
       "2  следственный комитет россии скр начал проверку...   \n",
       "3  владелец ратма таран продал основной цементный...   \n",
       "4  прошлом году увеличил экспорт частности европу...   \n",
       "5  председатель совета директоров независимой неф...   \n",
       "\n",
       "                                  text_reg_stop_stem  len_lem_text  \n",
       "1  схем крупн программ борьб бедност рф поддержк ...          4041  \n",
       "2  следствен комитет росс скр нача проверк эвитер...          2642  \n",
       "3  владелец ратм тара прода основн цементн акт гр...          2387  \n",
       "4  прошл год увелич экспорт частност европ сократ...          1630  \n",
       "5  председател совет директор независим нефтян ко...           961  "
      ]
     },
     "execution_count": 34,
     "metadata": {},
     "output_type": "execute_result"
    }
   ],
   "source": [
    "f['total_msg'] = f.groupby(['ticker'])['ticker'].transform('count')\n",
    "f.head()"
   ]
  },
  {
   "cell_type": "code",
   "execution_count": 35,
   "metadata": {},
   "outputs": [
    {
     "name": "stdout",
     "output_type": "stream",
     "text": [
      "21\n",
      "37\n"
     ]
    }
   ],
   "source": [
    "print(len(f[f.total_msg > 200].ticker.unique()))\n",
    "print(len(f[f.total_msg > 100].ticker.unique()))"
   ]
  },
  {
   "cell_type": "code",
   "execution_count": 40,
   "metadata": {},
   "outputs": [
    {
     "data": {
      "text/plain": [
       "array(['tcsg', 'cbom'], dtype=object)"
      ]
     },
     "execution_count": 40,
     "metadata": {},
     "output_type": "execute_result"
    }
   ],
   "source": [
    "f[f.total_msg < 90].ticker.unique()"
   ]
  },
  {
   "cell_type": "code",
   "execution_count": 41,
   "metadata": {},
   "outputs": [],
   "source": [
    "f.to_csv('/is/texts/mag/mag_text_lower_tic_all_flag_all_dt_e_reg_stop_stem_len.csv', sep='|', index=False)"
   ]
  },
  {
   "cell_type": "code",
   "execution_count": null,
   "metadata": {},
   "outputs": [],
   "source": []
  }
 ],
 "metadata": {
  "kernelspec": {
   "display_name": "Python 3",
   "language": "python",
   "name": "python3"
  },
  "language_info": {
   "codemirror_mode": {
    "name": "ipython",
    "version": 3
   },
   "file_extension": ".py",
   "mimetype": "text/x-python",
   "name": "python",
   "nbconvert_exporter": "python",
   "pygments_lexer": "ipython3",
   "version": "3.7.6"
  }
 },
 "nbformat": 4,
 "nbformat_minor": 4
}
